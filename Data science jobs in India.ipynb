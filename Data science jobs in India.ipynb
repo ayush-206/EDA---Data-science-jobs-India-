{
 "cells": [
  {
   "cell_type": "code",
   "execution_count": 1,
   "id": "c82969f2",
   "metadata": {},
   "outputs": [],
   "source": [
    "#importing required libraries\n",
    "import pandas as pd\n",
    "import seaborn as sns\n",
    "import re\n",
    "import plotly.express as px\n",
    "import matplotlib.pyplot as plt\n",
    "%matplotlib inline\n",
    "\n",
    "from nltk.probability import FreqDist"
   ]
  },
  {
   "cell_type": "code",
   "execution_count": 2,
   "id": "cdaa6638",
   "metadata": {},
   "outputs": [],
   "source": [
    "# loading dataset\n",
    "data=pd.read_csv('C:/Users/Ayush/Downloads/data_science_jobs_india/data_science_jobs_india.csv')"
   ]
  },
  {
   "cell_type": "code",
   "execution_count": 3,
   "id": "2a67d439",
   "metadata": {},
   "outputs": [
    {
     "data": {
      "text/html": [
       "<div>\n",
       "<style scoped>\n",
       "    .dataframe tbody tr th:only-of-type {\n",
       "        vertical-align: middle;\n",
       "    }\n",
       "\n",
       "    .dataframe tbody tr th {\n",
       "        vertical-align: top;\n",
       "    }\n",
       "\n",
       "    .dataframe thead th {\n",
       "        text-align: right;\n",
       "    }\n",
       "</style>\n",
       "<table border=\"1\" class=\"dataframe\">\n",
       "  <thead>\n",
       "    <tr style=\"text-align: right;\">\n",
       "      <th></th>\n",
       "      <th>Job_Role</th>\n",
       "      <th>Company</th>\n",
       "      <th>Location</th>\n",
       "      <th>Job Experience</th>\n",
       "      <th>Skills/Description</th>\n",
       "    </tr>\n",
       "  </thead>\n",
       "  <tbody>\n",
       "    <tr>\n",
       "      <th>0</th>\n",
       "      <td>Senior Data Scientist</td>\n",
       "      <td>UPL</td>\n",
       "      <td>Bangalore/Bengaluru, Mumbai (All Areas)</td>\n",
       "      <td>3-6</td>\n",
       "      <td>python, MLT, statistical modeling, machine lea...</td>\n",
       "    </tr>\n",
       "    <tr>\n",
       "      <th>1</th>\n",
       "      <td>Senior Data Scientist</td>\n",
       "      <td>Walmart</td>\n",
       "      <td>Bangalore/Bengaluru</td>\n",
       "      <td>5-9</td>\n",
       "      <td>Data Science, Machine learning, Python, Azure,...</td>\n",
       "    </tr>\n",
       "    <tr>\n",
       "      <th>2</th>\n",
       "      <td>Applied Data Scientist / ML Senior Engineer (P...</td>\n",
       "      <td>SAP India Pvt.Ltd</td>\n",
       "      <td>Bangalore/Bengaluru</td>\n",
       "      <td>5-10</td>\n",
       "      <td>Python, IT Skills, Testing, Cloud, Product Man...</td>\n",
       "    </tr>\n",
       "    <tr>\n",
       "      <th>3</th>\n",
       "      <td>Data Scientist</td>\n",
       "      <td>UPL</td>\n",
       "      <td>Bangalore/Bengaluru, Mumbai (All Areas)</td>\n",
       "      <td>1-4</td>\n",
       "      <td>python, machine learning, Data Science, data a...</td>\n",
       "    </tr>\n",
       "    <tr>\n",
       "      <th>4</th>\n",
       "      <td>Data Scientist</td>\n",
       "      <td>Walmart</td>\n",
       "      <td>Bangalore/Bengaluru</td>\n",
       "      <td>4-8</td>\n",
       "      <td>IT Skills, Python, Data Science, Machine Learn...</td>\n",
       "    </tr>\n",
       "  </tbody>\n",
       "</table>\n",
       "</div>"
      ],
      "text/plain": [
       "                                            Job_Role            Company  \\\n",
       "0                              Senior Data Scientist                UPL   \n",
       "1                              Senior Data Scientist            Walmart   \n",
       "2  Applied Data Scientist / ML Senior Engineer (P...  SAP India Pvt.Ltd   \n",
       "3                                     Data Scientist                UPL   \n",
       "4                                     Data Scientist            Walmart   \n",
       "\n",
       "                                  Location Job Experience  \\\n",
       "0  Bangalore/Bengaluru, Mumbai (All Areas)            3-6   \n",
       "1                      Bangalore/Bengaluru            5-9   \n",
       "2                      Bangalore/Bengaluru           5-10   \n",
       "3  Bangalore/Bengaluru, Mumbai (All Areas)            1-4   \n",
       "4                      Bangalore/Bengaluru            4-8   \n",
       "\n",
       "                                  Skills/Description  \n",
       "0  python, MLT, statistical modeling, machine lea...  \n",
       "1  Data Science, Machine learning, Python, Azure,...  \n",
       "2  Python, IT Skills, Testing, Cloud, Product Man...  \n",
       "3  python, machine learning, Data Science, data a...  \n",
       "4  IT Skills, Python, Data Science, Machine Learn...  "
      ]
     },
     "execution_count": 3,
     "metadata": {},
     "output_type": "execute_result"
    }
   ],
   "source": [
    "# Glimpse of first few rows of dataset\n",
    "data.head()"
   ]
  },
  {
   "cell_type": "code",
   "execution_count": 4,
   "id": "df8baf67",
   "metadata": {},
   "outputs": [
    {
     "data": {
      "text/plain": [
       "Job_Role              0\n",
       "Company               0\n",
       "Location              0\n",
       "Job Experience        0\n",
       "Skills/Description    0\n",
       "dtype: int64"
      ]
     },
     "execution_count": 4,
     "metadata": {},
     "output_type": "execute_result"
    }
   ],
   "source": [
    "#finding numbers of null values in dataset\n",
    "data.isnull().sum()"
   ]
  },
  {
   "cell_type": "code",
   "execution_count": 5,
   "id": "072ddac8",
   "metadata": {},
   "outputs": [],
   "source": [
    "# Great... No null or missing values found"
   ]
  },
  {
   "cell_type": "code",
   "execution_count": 6,
   "id": "c1a39ba4",
   "metadata": {},
   "outputs": [
    {
     "data": {
      "text/plain": [
       "(12000, 5)"
      ]
     },
     "execution_count": 6,
     "metadata": {},
     "output_type": "execute_result"
    }
   ],
   "source": [
    "#finding no. of rows and columns in our dateset\n",
    "data.shape"
   ]
  },
  {
   "cell_type": "code",
   "execution_count": 7,
   "id": "309c3892",
   "metadata": {},
   "outputs": [
    {
     "data": {
      "text/html": [
       "<style type=\"text/css\">\n",
       "#T_386f3_row0_col1 {\n",
       "  background-color: #00441b;\n",
       "  color: #f1f1f1;\n",
       "}\n",
       "#T_386f3_row1_col1 {\n",
       "  background-color: #147e3a;\n",
       "  color: #f1f1f1;\n",
       "}\n",
       "#T_386f3_row2_col1 {\n",
       "  background-color: #95d391;\n",
       "  color: #000000;\n",
       "}\n",
       "#T_386f3_row3_col1 {\n",
       "  background-color: #d2edcc;\n",
       "  color: #000000;\n",
       "}\n",
       "#T_386f3_row4_col1 {\n",
       "  background-color: #f7fcf5;\n",
       "  color: #000000;\n",
       "}\n",
       "</style>\n",
       "<table id=\"T_386f3\">\n",
       "  <thead>\n",
       "    <tr>\n",
       "      <th class=\"blank level0\" >&nbsp;</th>\n",
       "      <th id=\"T_386f3_level0_col0\" class=\"col_heading level0 col0\" >Job Role</th>\n",
       "      <th id=\"T_386f3_level0_col1\" class=\"col_heading level0 col1\" >Count</th>\n",
       "    </tr>\n",
       "  </thead>\n",
       "  <tbody>\n",
       "    <tr>\n",
       "      <th id=\"T_386f3_level0_row0\" class=\"row_heading level0 row0\" >0</th>\n",
       "      <td id=\"T_386f3_row0_col0\" class=\"data row0 col0\" >Data Engineer</td>\n",
       "      <td id=\"T_386f3_row0_col1\" class=\"data row0 col1\" >580</td>\n",
       "    </tr>\n",
       "    <tr>\n",
       "      <th id=\"T_386f3_level0_row1\" class=\"row_heading level0 row1\" >1</th>\n",
       "      <td id=\"T_386f3_row1_col0\" class=\"data row1 col0\" >Data Scientist</td>\n",
       "      <td id=\"T_386f3_row1_col1\" class=\"data row1 col1\" >505</td>\n",
       "    </tr>\n",
       "    <tr>\n",
       "      <th id=\"T_386f3_level0_row2\" class=\"row_heading level0 row2\" >2</th>\n",
       "      <td id=\"T_386f3_row2_col0\" class=\"data row2 col0\" >Data Analyst</td>\n",
       "      <td id=\"T_386f3_row2_col1\" class=\"data row2 col1\" >353</td>\n",
       "    </tr>\n",
       "    <tr>\n",
       "      <th id=\"T_386f3_level0_row3\" class=\"row_heading level0 row3\" >3</th>\n",
       "      <td id=\"T_386f3_row3_col0\" class=\"data row3 col0\" >Senior Technical Lead (Data Engineer)</td>\n",
       "      <td id=\"T_386f3_row3_col1\" class=\"data row3 col1\" >276</td>\n",
       "    </tr>\n",
       "    <tr>\n",
       "      <th id=\"T_386f3_level0_row4\" class=\"row_heading level0 row4\" >4</th>\n",
       "      <td id=\"T_386f3_row4_col0\" class=\"data row4 col0\" >Senior Data Engineer</td>\n",
       "      <td id=\"T_386f3_row4_col1\" class=\"data row4 col1\" >197</td>\n",
       "    </tr>\n",
       "  </tbody>\n",
       "</table>\n"
      ],
      "text/plain": [
       "<pandas.io.formats.style.Styler at 0x285447955e0>"
      ]
     },
     "execution_count": 7,
     "metadata": {},
     "output_type": "execute_result"
    }
   ],
   "source": [
    "#Top 5 Jobs\n",
    "top_jobs=data['Job_Role'].value_counts()[:5].rename_axis('Job Role').reset_index(name='Count')\n",
    "top_jobs.style.background_gradient(cmap='Greens')"
   ]
  },
  {
   "cell_type": "code",
   "execution_count": 53,
   "id": "e329b822",
   "metadata": {},
   "outputs": [
    {
     "name": "stderr",
     "output_type": "stream",
     "text": [
      "C:\\Users\\Ayush\\AppData\\Local\\Temp\\ipykernel_8856\\3621108639.py:11: FutureWarning:\n",
      "\n",
      "The frame.append method is deprecated and will be removed from pandas in a future version. Use pandas.concat instead.\n",
      "\n",
      "C:\\Users\\Ayush\\AppData\\Local\\Temp\\ipykernel_8856\\3621108639.py:11: FutureWarning:\n",
      "\n",
      "The frame.append method is deprecated and will be removed from pandas in a future version. Use pandas.concat instead.\n",
      "\n",
      "C:\\Users\\Ayush\\AppData\\Local\\Temp\\ipykernel_8856\\3621108639.py:11: FutureWarning:\n",
      "\n",
      "The frame.append method is deprecated and will be removed from pandas in a future version. Use pandas.concat instead.\n",
      "\n",
      "C:\\Users\\Ayush\\AppData\\Local\\Temp\\ipykernel_8856\\3621108639.py:11: FutureWarning:\n",
      "\n",
      "The frame.append method is deprecated and will be removed from pandas in a future version. Use pandas.concat instead.\n",
      "\n",
      "C:\\Users\\Ayush\\AppData\\Local\\Temp\\ipykernel_8856\\3621108639.py:11: FutureWarning:\n",
      "\n",
      "The frame.append method is deprecated and will be removed from pandas in a future version. Use pandas.concat instead.\n",
      "\n",
      "C:\\Users\\Ayush\\anaconda3\\lib\\site-packages\\plotly\\express\\_core.py:1637: FutureWarning:\n",
      "\n",
      "The frame.append method is deprecated and will be removed from pandas in a future version. Use pandas.concat instead.\n",
      "\n",
      "C:\\Users\\Ayush\\anaconda3\\lib\\site-packages\\plotly\\express\\_core.py:1637: FutureWarning:\n",
      "\n",
      "The frame.append method is deprecated and will be removed from pandas in a future version. Use pandas.concat instead.\n",
      "\n"
     ]
    },
    {
     "data": {
      "application/vnd.plotly.v1+json": {
       "config": {
        "plotlyServerURL": "https://plot.ly"
       },
       "data": [
        {
         "branchvalues": "total",
         "domain": {
          "x": [
           0,
           1
          ],
          "y": [
           0,
           1
          ]
         },
         "hovertemplate": "labels=%{label}<br>count=%{value}<br>parent=%{parent}<br>id=%{id}<extra></extra>",
         "ids": [
          "Senior Data Engineer/agile",
          "Senior Technical Lead (Data Engineer)/agile",
          "Data Analyst/analytical",
          "Data Scientist/analytical",
          "Data Engineer/aws",
          "Senior Data Engineer/aws",
          "Senior Technical Lead (Data Engineer)/aws",
          "Data Engineer/azure",
          "Data Engineer/big data",
          "Senior Data Engineer/big data",
          "Data Engineer/cloud",
          "Senior Data Engineer/cloud",
          "Senior Technical Lead (Data Engineer)/communication",
          "Data Engineer/computer science",
          "Data Scientist/computer science",
          "Senior Data Engineer/computer science",
          "Senior Technical Lead (Data Engineer)/customer service",
          "Data Analyst/data analysis",
          "Data Scientist/data analysis",
          "Data Analyst/data analyst",
          "Data Analyst/data mining",
          "Data Scientist/data mining",
          "Data Scientist/data science",
          "Data Scientist/data scientist",
          "Data Analyst/data visualization",
          "Senior Technical Lead (Data Engineer)/engineering services",
          "Data Engineer/etl",
          "Data Analyst/excel",
          "Data Engineer/java",
          "Senior Data Engineer/java",
          "Senior Technical Lead (Data Engineer)/java",
          "Senior Technical Lead (Data Engineer)/javascript",
          "Data Scientist/machine learning",
          "Data Analyst/power bi",
          "Data Analyst/python",
          "Data Engineer/python",
          "Data Scientist/python",
          "Senior Data Engineer/python",
          "Data Scientist/r",
          "Senior Technical Lead (Data Engineer)/san",
          "Senior Data Engineer/scala",
          "Senior Technical Lead (Data Engineer)/selenium",
          "Data Engineer/spark",
          "Senior Data Engineer/spark",
          "Data Analyst/sql",
          "Data Engineer/sql",
          "Data Scientist/sql",
          "Senior Data Engineer/sql",
          "Data Analyst/tableau",
          "Senior Technical Lead (Data Engineer)/testing",
          "Data Analyst",
          "Data Engineer",
          "Data Scientist",
          "Senior Data Engineer",
          "Senior Technical Lead (Data Engineer)"
         ],
         "labels": [
          "agile",
          "agile",
          "analytical",
          "analytical",
          "aws",
          "aws",
          "aws",
          "azure",
          "big data",
          "big data",
          "cloud",
          "cloud",
          "communication",
          "computer science",
          "computer science",
          "computer science",
          "customer service",
          "data analysis",
          "data analysis",
          "data analyst",
          "data mining",
          "data mining",
          "data science",
          "data scientist",
          "data visualization",
          "engineering services",
          "etl",
          "excel",
          "java",
          "java",
          "java",
          "javascript",
          "machine learning",
          "power bi",
          "python",
          "python",
          "python",
          "python",
          "r",
          "san",
          "scala",
          "selenium",
          "spark",
          "spark",
          "sql",
          "sql",
          "sql",
          "sql",
          "tableau",
          "testing",
          "Data Analyst",
          "Data Engineer",
          "Data Scientist",
          "Senior Data Engineer",
          "Senior Technical Lead (Data Engineer)"
         ],
         "name": "",
         "parents": [
          "Senior Data Engineer",
          "Senior Technical Lead (Data Engineer)",
          "Data Analyst",
          "Data Scientist",
          "Data Engineer",
          "Senior Data Engineer",
          "Senior Technical Lead (Data Engineer)",
          "Data Engineer",
          "Data Engineer",
          "Senior Data Engineer",
          "Data Engineer",
          "Senior Data Engineer",
          "Senior Technical Lead (Data Engineer)",
          "Data Engineer",
          "Data Scientist",
          "Senior Data Engineer",
          "Senior Technical Lead (Data Engineer)",
          "Data Analyst",
          "Data Scientist",
          "Data Analyst",
          "Data Analyst",
          "Data Scientist",
          "Data Scientist",
          "Data Scientist",
          "Data Analyst",
          "Senior Technical Lead (Data Engineer)",
          "Data Engineer",
          "Data Analyst",
          "Data Engineer",
          "Senior Data Engineer",
          "Senior Technical Lead (Data Engineer)",
          "Senior Technical Lead (Data Engineer)",
          "Data Scientist",
          "Data Analyst",
          "Data Analyst",
          "Data Engineer",
          "Data Scientist",
          "Senior Data Engineer",
          "Data Scientist",
          "Senior Technical Lead (Data Engineer)",
          "Senior Data Engineer",
          "Senior Technical Lead (Data Engineer)",
          "Data Engineer",
          "Senior Data Engineer",
          "Data Analyst",
          "Data Engineer",
          "Data Scientist",
          "Senior Data Engineer",
          "Data Analyst",
          "Senior Technical Lead (Data Engineer)",
          "",
          "",
          "",
          "",
          ""
         ],
         "type": "sunburst",
         "values": [
          21,
          117,
          67,
          80,
          99,
          31,
          41,
          73,
          96,
          42,
          69,
          24,
          34,
          69,
          118,
          41,
          42,
          147,
          82,
          142,
          51,
          94,
          170,
          57,
          41,
          72,
          63,
          66,
          74,
          43,
          51,
          63,
          289,
          42,
          63,
          193,
          213,
          65,
          57,
          113,
          26,
          34,
          98,
          33,
          74,
          109,
          70,
          26,
          54,
          52,
          747,
          943,
          1230,
          352,
          619
         ]
        }
       ],
       "layout": {
        "autosize": false,
        "height": 720,
        "legend": {
         "tracegroupgap": 0
        },
        "margin": {
         "t": 60
        },
        "template": {
         "data": {
          "bar": [
           {
            "error_x": {
             "color": "#2a3f5f"
            },
            "error_y": {
             "color": "#2a3f5f"
            },
            "marker": {
             "line": {
              "color": "#E5ECF6",
              "width": 0.5
             },
             "pattern": {
              "fillmode": "overlay",
              "size": 10,
              "solidity": 0.2
             }
            },
            "type": "bar"
           }
          ],
          "barpolar": [
           {
            "marker": {
             "line": {
              "color": "#E5ECF6",
              "width": 0.5
             },
             "pattern": {
              "fillmode": "overlay",
              "size": 10,
              "solidity": 0.2
             }
            },
            "type": "barpolar"
           }
          ],
          "carpet": [
           {
            "aaxis": {
             "endlinecolor": "#2a3f5f",
             "gridcolor": "white",
             "linecolor": "white",
             "minorgridcolor": "white",
             "startlinecolor": "#2a3f5f"
            },
            "baxis": {
             "endlinecolor": "#2a3f5f",
             "gridcolor": "white",
             "linecolor": "white",
             "minorgridcolor": "white",
             "startlinecolor": "#2a3f5f"
            },
            "type": "carpet"
           }
          ],
          "choropleth": [
           {
            "colorbar": {
             "outlinewidth": 0,
             "ticks": ""
            },
            "type": "choropleth"
           }
          ],
          "contour": [
           {
            "colorbar": {
             "outlinewidth": 0,
             "ticks": ""
            },
            "colorscale": [
             [
              0,
              "#0d0887"
             ],
             [
              0.1111111111111111,
              "#46039f"
             ],
             [
              0.2222222222222222,
              "#7201a8"
             ],
             [
              0.3333333333333333,
              "#9c179e"
             ],
             [
              0.4444444444444444,
              "#bd3786"
             ],
             [
              0.5555555555555556,
              "#d8576b"
             ],
             [
              0.6666666666666666,
              "#ed7953"
             ],
             [
              0.7777777777777778,
              "#fb9f3a"
             ],
             [
              0.8888888888888888,
              "#fdca26"
             ],
             [
              1,
              "#f0f921"
             ]
            ],
            "type": "contour"
           }
          ],
          "contourcarpet": [
           {
            "colorbar": {
             "outlinewidth": 0,
             "ticks": ""
            },
            "type": "contourcarpet"
           }
          ],
          "heatmap": [
           {
            "colorbar": {
             "outlinewidth": 0,
             "ticks": ""
            },
            "colorscale": [
             [
              0,
              "#0d0887"
             ],
             [
              0.1111111111111111,
              "#46039f"
             ],
             [
              0.2222222222222222,
              "#7201a8"
             ],
             [
              0.3333333333333333,
              "#9c179e"
             ],
             [
              0.4444444444444444,
              "#bd3786"
             ],
             [
              0.5555555555555556,
              "#d8576b"
             ],
             [
              0.6666666666666666,
              "#ed7953"
             ],
             [
              0.7777777777777778,
              "#fb9f3a"
             ],
             [
              0.8888888888888888,
              "#fdca26"
             ],
             [
              1,
              "#f0f921"
             ]
            ],
            "type": "heatmap"
           }
          ],
          "heatmapgl": [
           {
            "colorbar": {
             "outlinewidth": 0,
             "ticks": ""
            },
            "colorscale": [
             [
              0,
              "#0d0887"
             ],
             [
              0.1111111111111111,
              "#46039f"
             ],
             [
              0.2222222222222222,
              "#7201a8"
             ],
             [
              0.3333333333333333,
              "#9c179e"
             ],
             [
              0.4444444444444444,
              "#bd3786"
             ],
             [
              0.5555555555555556,
              "#d8576b"
             ],
             [
              0.6666666666666666,
              "#ed7953"
             ],
             [
              0.7777777777777778,
              "#fb9f3a"
             ],
             [
              0.8888888888888888,
              "#fdca26"
             ],
             [
              1,
              "#f0f921"
             ]
            ],
            "type": "heatmapgl"
           }
          ],
          "histogram": [
           {
            "marker": {
             "pattern": {
              "fillmode": "overlay",
              "size": 10,
              "solidity": 0.2
             }
            },
            "type": "histogram"
           }
          ],
          "histogram2d": [
           {
            "colorbar": {
             "outlinewidth": 0,
             "ticks": ""
            },
            "colorscale": [
             [
              0,
              "#0d0887"
             ],
             [
              0.1111111111111111,
              "#46039f"
             ],
             [
              0.2222222222222222,
              "#7201a8"
             ],
             [
              0.3333333333333333,
              "#9c179e"
             ],
             [
              0.4444444444444444,
              "#bd3786"
             ],
             [
              0.5555555555555556,
              "#d8576b"
             ],
             [
              0.6666666666666666,
              "#ed7953"
             ],
             [
              0.7777777777777778,
              "#fb9f3a"
             ],
             [
              0.8888888888888888,
              "#fdca26"
             ],
             [
              1,
              "#f0f921"
             ]
            ],
            "type": "histogram2d"
           }
          ],
          "histogram2dcontour": [
           {
            "colorbar": {
             "outlinewidth": 0,
             "ticks": ""
            },
            "colorscale": [
             [
              0,
              "#0d0887"
             ],
             [
              0.1111111111111111,
              "#46039f"
             ],
             [
              0.2222222222222222,
              "#7201a8"
             ],
             [
              0.3333333333333333,
              "#9c179e"
             ],
             [
              0.4444444444444444,
              "#bd3786"
             ],
             [
              0.5555555555555556,
              "#d8576b"
             ],
             [
              0.6666666666666666,
              "#ed7953"
             ],
             [
              0.7777777777777778,
              "#fb9f3a"
             ],
             [
              0.8888888888888888,
              "#fdca26"
             ],
             [
              1,
              "#f0f921"
             ]
            ],
            "type": "histogram2dcontour"
           }
          ],
          "mesh3d": [
           {
            "colorbar": {
             "outlinewidth": 0,
             "ticks": ""
            },
            "type": "mesh3d"
           }
          ],
          "parcoords": [
           {
            "line": {
             "colorbar": {
              "outlinewidth": 0,
              "ticks": ""
             }
            },
            "type": "parcoords"
           }
          ],
          "pie": [
           {
            "automargin": true,
            "type": "pie"
           }
          ],
          "scatter": [
           {
            "marker": {
             "colorbar": {
              "outlinewidth": 0,
              "ticks": ""
             }
            },
            "type": "scatter"
           }
          ],
          "scatter3d": [
           {
            "line": {
             "colorbar": {
              "outlinewidth": 0,
              "ticks": ""
             }
            },
            "marker": {
             "colorbar": {
              "outlinewidth": 0,
              "ticks": ""
             }
            },
            "type": "scatter3d"
           }
          ],
          "scattercarpet": [
           {
            "marker": {
             "colorbar": {
              "outlinewidth": 0,
              "ticks": ""
             }
            },
            "type": "scattercarpet"
           }
          ],
          "scattergeo": [
           {
            "marker": {
             "colorbar": {
              "outlinewidth": 0,
              "ticks": ""
             }
            },
            "type": "scattergeo"
           }
          ],
          "scattergl": [
           {
            "marker": {
             "colorbar": {
              "outlinewidth": 0,
              "ticks": ""
             }
            },
            "type": "scattergl"
           }
          ],
          "scattermapbox": [
           {
            "marker": {
             "colorbar": {
              "outlinewidth": 0,
              "ticks": ""
             }
            },
            "type": "scattermapbox"
           }
          ],
          "scatterpolar": [
           {
            "marker": {
             "colorbar": {
              "outlinewidth": 0,
              "ticks": ""
             }
            },
            "type": "scatterpolar"
           }
          ],
          "scatterpolargl": [
           {
            "marker": {
             "colorbar": {
              "outlinewidth": 0,
              "ticks": ""
             }
            },
            "type": "scatterpolargl"
           }
          ],
          "scatterternary": [
           {
            "marker": {
             "colorbar": {
              "outlinewidth": 0,
              "ticks": ""
             }
            },
            "type": "scatterternary"
           }
          ],
          "surface": [
           {
            "colorbar": {
             "outlinewidth": 0,
             "ticks": ""
            },
            "colorscale": [
             [
              0,
              "#0d0887"
             ],
             [
              0.1111111111111111,
              "#46039f"
             ],
             [
              0.2222222222222222,
              "#7201a8"
             ],
             [
              0.3333333333333333,
              "#9c179e"
             ],
             [
              0.4444444444444444,
              "#bd3786"
             ],
             [
              0.5555555555555556,
              "#d8576b"
             ],
             [
              0.6666666666666666,
              "#ed7953"
             ],
             [
              0.7777777777777778,
              "#fb9f3a"
             ],
             [
              0.8888888888888888,
              "#fdca26"
             ],
             [
              1,
              "#f0f921"
             ]
            ],
            "type": "surface"
           }
          ],
          "table": [
           {
            "cells": {
             "fill": {
              "color": "#EBF0F8"
             },
             "line": {
              "color": "white"
             }
            },
            "header": {
             "fill": {
              "color": "#C8D4E3"
             },
             "line": {
              "color": "white"
             }
            },
            "type": "table"
           }
          ]
         },
         "layout": {
          "annotationdefaults": {
           "arrowcolor": "#2a3f5f",
           "arrowhead": 0,
           "arrowwidth": 1
          },
          "autotypenumbers": "strict",
          "coloraxis": {
           "colorbar": {
            "outlinewidth": 0,
            "ticks": ""
           }
          },
          "colorscale": {
           "diverging": [
            [
             0,
             "#8e0152"
            ],
            [
             0.1,
             "#c51b7d"
            ],
            [
             0.2,
             "#de77ae"
            ],
            [
             0.3,
             "#f1b6da"
            ],
            [
             0.4,
             "#fde0ef"
            ],
            [
             0.5,
             "#f7f7f7"
            ],
            [
             0.6,
             "#e6f5d0"
            ],
            [
             0.7,
             "#b8e186"
            ],
            [
             0.8,
             "#7fbc41"
            ],
            [
             0.9,
             "#4d9221"
            ],
            [
             1,
             "#276419"
            ]
           ],
           "sequential": [
            [
             0,
             "#0d0887"
            ],
            [
             0.1111111111111111,
             "#46039f"
            ],
            [
             0.2222222222222222,
             "#7201a8"
            ],
            [
             0.3333333333333333,
             "#9c179e"
            ],
            [
             0.4444444444444444,
             "#bd3786"
            ],
            [
             0.5555555555555556,
             "#d8576b"
            ],
            [
             0.6666666666666666,
             "#ed7953"
            ],
            [
             0.7777777777777778,
             "#fb9f3a"
            ],
            [
             0.8888888888888888,
             "#fdca26"
            ],
            [
             1,
             "#f0f921"
            ]
           ],
           "sequentialminus": [
            [
             0,
             "#0d0887"
            ],
            [
             0.1111111111111111,
             "#46039f"
            ],
            [
             0.2222222222222222,
             "#7201a8"
            ],
            [
             0.3333333333333333,
             "#9c179e"
            ],
            [
             0.4444444444444444,
             "#bd3786"
            ],
            [
             0.5555555555555556,
             "#d8576b"
            ],
            [
             0.6666666666666666,
             "#ed7953"
            ],
            [
             0.7777777777777778,
             "#fb9f3a"
            ],
            [
             0.8888888888888888,
             "#fdca26"
            ],
            [
             1,
             "#f0f921"
            ]
           ]
          },
          "colorway": [
           "#636efa",
           "#EF553B",
           "#00cc96",
           "#ab63fa",
           "#FFA15A",
           "#19d3f3",
           "#FF6692",
           "#B6E880",
           "#FF97FF",
           "#FECB52"
          ],
          "font": {
           "color": "#2a3f5f"
          },
          "geo": {
           "bgcolor": "white",
           "lakecolor": "white",
           "landcolor": "#E5ECF6",
           "showlakes": true,
           "showland": true,
           "subunitcolor": "white"
          },
          "hoverlabel": {
           "align": "left"
          },
          "hovermode": "closest",
          "mapbox": {
           "style": "light"
          },
          "paper_bgcolor": "white",
          "plot_bgcolor": "#E5ECF6",
          "polar": {
           "angularaxis": {
            "gridcolor": "white",
            "linecolor": "white",
            "ticks": ""
           },
           "bgcolor": "#E5ECF6",
           "radialaxis": {
            "gridcolor": "white",
            "linecolor": "white",
            "ticks": ""
           }
          },
          "scene": {
           "xaxis": {
            "backgroundcolor": "#E5ECF6",
            "gridcolor": "white",
            "gridwidth": 2,
            "linecolor": "white",
            "showbackground": true,
            "ticks": "",
            "zerolinecolor": "white"
           },
           "yaxis": {
            "backgroundcolor": "#E5ECF6",
            "gridcolor": "white",
            "gridwidth": 2,
            "linecolor": "white",
            "showbackground": true,
            "ticks": "",
            "zerolinecolor": "white"
           },
           "zaxis": {
            "backgroundcolor": "#E5ECF6",
            "gridcolor": "white",
            "gridwidth": 2,
            "linecolor": "white",
            "showbackground": true,
            "ticks": "",
            "zerolinecolor": "white"
           }
          },
          "shapedefaults": {
           "line": {
            "color": "#2a3f5f"
           }
          },
          "ternary": {
           "aaxis": {
            "gridcolor": "white",
            "linecolor": "white",
            "ticks": ""
           },
           "baxis": {
            "gridcolor": "white",
            "linecolor": "white",
            "ticks": ""
           },
           "bgcolor": "#E5ECF6",
           "caxis": {
            "gridcolor": "white",
            "linecolor": "white",
            "ticks": ""
           }
          },
          "title": {
           "x": 0.05
          },
          "xaxis": {
           "automargin": true,
           "gridcolor": "white",
           "linecolor": "white",
           "ticks": "",
           "title": {
            "standoff": 15
           },
           "zerolinecolor": "white",
           "zerolinewidth": 2
          },
          "yaxis": {
           "automargin": true,
           "gridcolor": "white",
           "linecolor": "white",
           "ticks": "",
           "title": {
            "standoff": 15
           },
           "zerolinecolor": "white",
           "zerolinewidth": 2
          }
         }
        },
        "title": {
         "text": "Top Jobs and the Required Skills",
         "x": 0.5
        },
        "width": 1080
       }
      },
      "text/html": [
       "<div>                            <div id=\"7288edd3-2e49-4052-839d-994b9e998f77\" class=\"plotly-graph-div\" style=\"height:720px; width:1080px;\"></div>            <script type=\"text/javascript\">                require([\"plotly\"], function(Plotly) {                    window.PLOTLYENV=window.PLOTLYENV || {};                                    if (document.getElementById(\"7288edd3-2e49-4052-839d-994b9e998f77\")) {                    Plotly.newPlot(                        \"7288edd3-2e49-4052-839d-994b9e998f77\",                        [{\"branchvalues\":\"total\",\"domain\":{\"x\":[0.0,1.0],\"y\":[0.0,1.0]},\"hovertemplate\":\"labels=%{label}<br>count=%{value}<br>parent=%{parent}<br>id=%{id}<extra></extra>\",\"ids\":[\"Senior Data Engineer/agile\",\"Senior Technical Lead (Data Engineer)/agile\",\"Data Analyst/analytical\",\"Data Scientist/analytical\",\"Data Engineer/aws\",\"Senior Data Engineer/aws\",\"Senior Technical Lead (Data Engineer)/aws\",\"Data Engineer/azure\",\"Data Engineer/big data\",\"Senior Data Engineer/big data\",\"Data Engineer/cloud\",\"Senior Data Engineer/cloud\",\"Senior Technical Lead (Data Engineer)/communication\",\"Data Engineer/computer science\",\"Data Scientist/computer science\",\"Senior Data Engineer/computer science\",\"Senior Technical Lead (Data Engineer)/customer service\",\"Data Analyst/data analysis\",\"Data Scientist/data analysis\",\"Data Analyst/data analyst\",\"Data Analyst/data mining\",\"Data Scientist/data mining\",\"Data Scientist/data science\",\"Data Scientist/data scientist\",\"Data Analyst/data visualization\",\"Senior Technical Lead (Data Engineer)/engineering services\",\"Data Engineer/etl\",\"Data Analyst/excel\",\"Data Engineer/java\",\"Senior Data Engineer/java\",\"Senior Technical Lead (Data Engineer)/java\",\"Senior Technical Lead (Data Engineer)/javascript\",\"Data Scientist/machine learning\",\"Data Analyst/power bi\",\"Data Analyst/python\",\"Data Engineer/python\",\"Data Scientist/python\",\"Senior Data Engineer/python\",\"Data Scientist/r\",\"Senior Technical Lead (Data Engineer)/san\",\"Senior Data Engineer/scala\",\"Senior Technical Lead (Data Engineer)/selenium\",\"Data Engineer/spark\",\"Senior Data Engineer/spark\",\"Data Analyst/sql\",\"Data Engineer/sql\",\"Data Scientist/sql\",\"Senior Data Engineer/sql\",\"Data Analyst/tableau\",\"Senior Technical Lead (Data Engineer)/testing\",\"Data Analyst\",\"Data Engineer\",\"Data Scientist\",\"Senior Data Engineer\",\"Senior Technical Lead (Data Engineer)\"],\"labels\":[\"agile\",\"agile\",\"analytical\",\"analytical\",\"aws\",\"aws\",\"aws\",\"azure\",\"big data\",\"big data\",\"cloud\",\"cloud\",\"communication\",\"computer science\",\"computer science\",\"computer science\",\"customer service\",\"data analysis\",\"data analysis\",\"data analyst\",\"data mining\",\"data mining\",\"data science\",\"data scientist\",\"data visualization\",\"engineering services\",\"etl\",\"excel\",\"java\",\"java\",\"java\",\"javascript\",\"machine learning\",\"power bi\",\"python\",\"python\",\"python\",\"python\",\"r\",\"san\",\"scala\",\"selenium\",\"spark\",\"spark\",\"sql\",\"sql\",\"sql\",\"sql\",\"tableau\",\"testing\",\"Data Analyst\",\"Data Engineer\",\"Data Scientist\",\"Senior Data Engineer\",\"Senior Technical Lead (Data Engineer)\"],\"name\":\"\",\"parents\":[\"Senior Data Engineer\",\"Senior Technical Lead (Data Engineer)\",\"Data Analyst\",\"Data Scientist\",\"Data Engineer\",\"Senior Data Engineer\",\"Senior Technical Lead (Data Engineer)\",\"Data Engineer\",\"Data Engineer\",\"Senior Data Engineer\",\"Data Engineer\",\"Senior Data Engineer\",\"Senior Technical Lead (Data Engineer)\",\"Data Engineer\",\"Data Scientist\",\"Senior Data Engineer\",\"Senior Technical Lead (Data Engineer)\",\"Data Analyst\",\"Data Scientist\",\"Data Analyst\",\"Data Analyst\",\"Data Scientist\",\"Data Scientist\",\"Data Scientist\",\"Data Analyst\",\"Senior Technical Lead (Data Engineer)\",\"Data Engineer\",\"Data Analyst\",\"Data Engineer\",\"Senior Data Engineer\",\"Senior Technical Lead (Data Engineer)\",\"Senior Technical Lead (Data Engineer)\",\"Data Scientist\",\"Data Analyst\",\"Data Analyst\",\"Data Engineer\",\"Data Scientist\",\"Senior Data Engineer\",\"Data Scientist\",\"Senior Technical Lead (Data Engineer)\",\"Senior Data Engineer\",\"Senior Technical Lead (Data Engineer)\",\"Data Engineer\",\"Senior Data Engineer\",\"Data Analyst\",\"Data Engineer\",\"Data Scientist\",\"Senior Data Engineer\",\"Data Analyst\",\"Senior Technical Lead (Data Engineer)\",\"\",\"\",\"\",\"\",\"\"],\"values\":[21,117,67,80,99,31,41,73,96,42,69,24,34,69,118,41,42,147,82,142,51,94,170,57,41,72,63,66,74,43,51,63,289,42,63,193,213,65,57,113,26,34,98,33,74,109,70,26,54,52,747,943,1230,352,619],\"type\":\"sunburst\"}],                        {\"template\":{\"data\":{\"bar\":[{\"error_x\":{\"color\":\"#2a3f5f\"},\"error_y\":{\"color\":\"#2a3f5f\"},\"marker\":{\"line\":{\"color\":\"#E5ECF6\",\"width\":0.5},\"pattern\":{\"fillmode\":\"overlay\",\"size\":10,\"solidity\":0.2}},\"type\":\"bar\"}],\"barpolar\":[{\"marker\":{\"line\":{\"color\":\"#E5ECF6\",\"width\":0.5},\"pattern\":{\"fillmode\":\"overlay\",\"size\":10,\"solidity\":0.2}},\"type\":\"barpolar\"}],\"carpet\":[{\"aaxis\":{\"endlinecolor\":\"#2a3f5f\",\"gridcolor\":\"white\",\"linecolor\":\"white\",\"minorgridcolor\":\"white\",\"startlinecolor\":\"#2a3f5f\"},\"baxis\":{\"endlinecolor\":\"#2a3f5f\",\"gridcolor\":\"white\",\"linecolor\":\"white\",\"minorgridcolor\":\"white\",\"startlinecolor\":\"#2a3f5f\"},\"type\":\"carpet\"}],\"choropleth\":[{\"colorbar\":{\"outlinewidth\":0,\"ticks\":\"\"},\"type\":\"choropleth\"}],\"contour\":[{\"colorbar\":{\"outlinewidth\":0,\"ticks\":\"\"},\"colorscale\":[[0.0,\"#0d0887\"],[0.1111111111111111,\"#46039f\"],[0.2222222222222222,\"#7201a8\"],[0.3333333333333333,\"#9c179e\"],[0.4444444444444444,\"#bd3786\"],[0.5555555555555556,\"#d8576b\"],[0.6666666666666666,\"#ed7953\"],[0.7777777777777778,\"#fb9f3a\"],[0.8888888888888888,\"#fdca26\"],[1.0,\"#f0f921\"]],\"type\":\"contour\"}],\"contourcarpet\":[{\"colorbar\":{\"outlinewidth\":0,\"ticks\":\"\"},\"type\":\"contourcarpet\"}],\"heatmap\":[{\"colorbar\":{\"outlinewidth\":0,\"ticks\":\"\"},\"colorscale\":[[0.0,\"#0d0887\"],[0.1111111111111111,\"#46039f\"],[0.2222222222222222,\"#7201a8\"],[0.3333333333333333,\"#9c179e\"],[0.4444444444444444,\"#bd3786\"],[0.5555555555555556,\"#d8576b\"],[0.6666666666666666,\"#ed7953\"],[0.7777777777777778,\"#fb9f3a\"],[0.8888888888888888,\"#fdca26\"],[1.0,\"#f0f921\"]],\"type\":\"heatmap\"}],\"heatmapgl\":[{\"colorbar\":{\"outlinewidth\":0,\"ticks\":\"\"},\"colorscale\":[[0.0,\"#0d0887\"],[0.1111111111111111,\"#46039f\"],[0.2222222222222222,\"#7201a8\"],[0.3333333333333333,\"#9c179e\"],[0.4444444444444444,\"#bd3786\"],[0.5555555555555556,\"#d8576b\"],[0.6666666666666666,\"#ed7953\"],[0.7777777777777778,\"#fb9f3a\"],[0.8888888888888888,\"#fdca26\"],[1.0,\"#f0f921\"]],\"type\":\"heatmapgl\"}],\"histogram\":[{\"marker\":{\"pattern\":{\"fillmode\":\"overlay\",\"size\":10,\"solidity\":0.2}},\"type\":\"histogram\"}],\"histogram2d\":[{\"colorbar\":{\"outlinewidth\":0,\"ticks\":\"\"},\"colorscale\":[[0.0,\"#0d0887\"],[0.1111111111111111,\"#46039f\"],[0.2222222222222222,\"#7201a8\"],[0.3333333333333333,\"#9c179e\"],[0.4444444444444444,\"#bd3786\"],[0.5555555555555556,\"#d8576b\"],[0.6666666666666666,\"#ed7953\"],[0.7777777777777778,\"#fb9f3a\"],[0.8888888888888888,\"#fdca26\"],[1.0,\"#f0f921\"]],\"type\":\"histogram2d\"}],\"histogram2dcontour\":[{\"colorbar\":{\"outlinewidth\":0,\"ticks\":\"\"},\"colorscale\":[[0.0,\"#0d0887\"],[0.1111111111111111,\"#46039f\"],[0.2222222222222222,\"#7201a8\"],[0.3333333333333333,\"#9c179e\"],[0.4444444444444444,\"#bd3786\"],[0.5555555555555556,\"#d8576b\"],[0.6666666666666666,\"#ed7953\"],[0.7777777777777778,\"#fb9f3a\"],[0.8888888888888888,\"#fdca26\"],[1.0,\"#f0f921\"]],\"type\":\"histogram2dcontour\"}],\"mesh3d\":[{\"colorbar\":{\"outlinewidth\":0,\"ticks\":\"\"},\"type\":\"mesh3d\"}],\"parcoords\":[{\"line\":{\"colorbar\":{\"outlinewidth\":0,\"ticks\":\"\"}},\"type\":\"parcoords\"}],\"pie\":[{\"automargin\":true,\"type\":\"pie\"}],\"scatter\":[{\"marker\":{\"colorbar\":{\"outlinewidth\":0,\"ticks\":\"\"}},\"type\":\"scatter\"}],\"scatter3d\":[{\"line\":{\"colorbar\":{\"outlinewidth\":0,\"ticks\":\"\"}},\"marker\":{\"colorbar\":{\"outlinewidth\":0,\"ticks\":\"\"}},\"type\":\"scatter3d\"}],\"scattercarpet\":[{\"marker\":{\"colorbar\":{\"outlinewidth\":0,\"ticks\":\"\"}},\"type\":\"scattercarpet\"}],\"scattergeo\":[{\"marker\":{\"colorbar\":{\"outlinewidth\":0,\"ticks\":\"\"}},\"type\":\"scattergeo\"}],\"scattergl\":[{\"marker\":{\"colorbar\":{\"outlinewidth\":0,\"ticks\":\"\"}},\"type\":\"scattergl\"}],\"scattermapbox\":[{\"marker\":{\"colorbar\":{\"outlinewidth\":0,\"ticks\":\"\"}},\"type\":\"scattermapbox\"}],\"scatterpolar\":[{\"marker\":{\"colorbar\":{\"outlinewidth\":0,\"ticks\":\"\"}},\"type\":\"scatterpolar\"}],\"scatterpolargl\":[{\"marker\":{\"colorbar\":{\"outlinewidth\":0,\"ticks\":\"\"}},\"type\":\"scatterpolargl\"}],\"scatterternary\":[{\"marker\":{\"colorbar\":{\"outlinewidth\":0,\"ticks\":\"\"}},\"type\":\"scatterternary\"}],\"surface\":[{\"colorbar\":{\"outlinewidth\":0,\"ticks\":\"\"},\"colorscale\":[[0.0,\"#0d0887\"],[0.1111111111111111,\"#46039f\"],[0.2222222222222222,\"#7201a8\"],[0.3333333333333333,\"#9c179e\"],[0.4444444444444444,\"#bd3786\"],[0.5555555555555556,\"#d8576b\"],[0.6666666666666666,\"#ed7953\"],[0.7777777777777778,\"#fb9f3a\"],[0.8888888888888888,\"#fdca26\"],[1.0,\"#f0f921\"]],\"type\":\"surface\"}],\"table\":[{\"cells\":{\"fill\":{\"color\":\"#EBF0F8\"},\"line\":{\"color\":\"white\"}},\"header\":{\"fill\":{\"color\":\"#C8D4E3\"},\"line\":{\"color\":\"white\"}},\"type\":\"table\"}]},\"layout\":{\"annotationdefaults\":{\"arrowcolor\":\"#2a3f5f\",\"arrowhead\":0,\"arrowwidth\":1},\"autotypenumbers\":\"strict\",\"coloraxis\":{\"colorbar\":{\"outlinewidth\":0,\"ticks\":\"\"}},\"colorscale\":{\"diverging\":[[0,\"#8e0152\"],[0.1,\"#c51b7d\"],[0.2,\"#de77ae\"],[0.3,\"#f1b6da\"],[0.4,\"#fde0ef\"],[0.5,\"#f7f7f7\"],[0.6,\"#e6f5d0\"],[0.7,\"#b8e186\"],[0.8,\"#7fbc41\"],[0.9,\"#4d9221\"],[1,\"#276419\"]],\"sequential\":[[0.0,\"#0d0887\"],[0.1111111111111111,\"#46039f\"],[0.2222222222222222,\"#7201a8\"],[0.3333333333333333,\"#9c179e\"],[0.4444444444444444,\"#bd3786\"],[0.5555555555555556,\"#d8576b\"],[0.6666666666666666,\"#ed7953\"],[0.7777777777777778,\"#fb9f3a\"],[0.8888888888888888,\"#fdca26\"],[1.0,\"#f0f921\"]],\"sequentialminus\":[[0.0,\"#0d0887\"],[0.1111111111111111,\"#46039f\"],[0.2222222222222222,\"#7201a8\"],[0.3333333333333333,\"#9c179e\"],[0.4444444444444444,\"#bd3786\"],[0.5555555555555556,\"#d8576b\"],[0.6666666666666666,\"#ed7953\"],[0.7777777777777778,\"#fb9f3a\"],[0.8888888888888888,\"#fdca26\"],[1.0,\"#f0f921\"]]},\"colorway\":[\"#636efa\",\"#EF553B\",\"#00cc96\",\"#ab63fa\",\"#FFA15A\",\"#19d3f3\",\"#FF6692\",\"#B6E880\",\"#FF97FF\",\"#FECB52\"],\"font\":{\"color\":\"#2a3f5f\"},\"geo\":{\"bgcolor\":\"white\",\"lakecolor\":\"white\",\"landcolor\":\"#E5ECF6\",\"showlakes\":true,\"showland\":true,\"subunitcolor\":\"white\"},\"hoverlabel\":{\"align\":\"left\"},\"hovermode\":\"closest\",\"mapbox\":{\"style\":\"light\"},\"paper_bgcolor\":\"white\",\"plot_bgcolor\":\"#E5ECF6\",\"polar\":{\"angularaxis\":{\"gridcolor\":\"white\",\"linecolor\":\"white\",\"ticks\":\"\"},\"bgcolor\":\"#E5ECF6\",\"radialaxis\":{\"gridcolor\":\"white\",\"linecolor\":\"white\",\"ticks\":\"\"}},\"scene\":{\"xaxis\":{\"backgroundcolor\":\"#E5ECF6\",\"gridcolor\":\"white\",\"gridwidth\":2,\"linecolor\":\"white\",\"showbackground\":true,\"ticks\":\"\",\"zerolinecolor\":\"white\"},\"yaxis\":{\"backgroundcolor\":\"#E5ECF6\",\"gridcolor\":\"white\",\"gridwidth\":2,\"linecolor\":\"white\",\"showbackground\":true,\"ticks\":\"\",\"zerolinecolor\":\"white\"},\"zaxis\":{\"backgroundcolor\":\"#E5ECF6\",\"gridcolor\":\"white\",\"gridwidth\":2,\"linecolor\":\"white\",\"showbackground\":true,\"ticks\":\"\",\"zerolinecolor\":\"white\"}},\"shapedefaults\":{\"line\":{\"color\":\"#2a3f5f\"}},\"ternary\":{\"aaxis\":{\"gridcolor\":\"white\",\"linecolor\":\"white\",\"ticks\":\"\"},\"baxis\":{\"gridcolor\":\"white\",\"linecolor\":\"white\",\"ticks\":\"\"},\"bgcolor\":\"#E5ECF6\",\"caxis\":{\"gridcolor\":\"white\",\"linecolor\":\"white\",\"ticks\":\"\"}},\"title\":{\"x\":0.05},\"xaxis\":{\"automargin\":true,\"gridcolor\":\"white\",\"linecolor\":\"white\",\"ticks\":\"\",\"title\":{\"standoff\":15},\"zerolinecolor\":\"white\",\"zerolinewidth\":2},\"yaxis\":{\"automargin\":true,\"gridcolor\":\"white\",\"linecolor\":\"white\",\"ticks\":\"\",\"title\":{\"standoff\":15},\"zerolinecolor\":\"white\",\"zerolinewidth\":2}}},\"legend\":{\"tracegroupgap\":0},\"margin\":{\"t\":60},\"title\":{\"text\":\"Top Jobs and the Required Skills\",\"x\":0.5},\"autosize\":false,\"width\":1080,\"height\":720},                        {\"responsive\": true}                    ).then(function(){\n",
       "                            \n",
       "var gd = document.getElementById('7288edd3-2e49-4052-839d-994b9e998f77');\n",
       "var x = new MutationObserver(function (mutations, observer) {{\n",
       "        var display = window.getComputedStyle(gd).display;\n",
       "        if (!display || display === 'none') {{\n",
       "            console.log([gd, 'removed!']);\n",
       "            Plotly.purge(gd);\n",
       "            observer.disconnect();\n",
       "        }}\n",
       "}});\n",
       "\n",
       "// Listen for the removal of the full notebook cells\n",
       "var notebookContainer = gd.closest('#notebook-container');\n",
       "if (notebookContainer) {{\n",
       "    x.observe(notebookContainer, {childList: true});\n",
       "}}\n",
       "\n",
       "// Listen for the clearing of the current output cell\n",
       "var outputEl = gd.closest('.output');\n",
       "if (outputEl) {{\n",
       "    x.observe(outputEl, {childList: true});\n",
       "}}\n",
       "\n",
       "                        })                };                });            </script>        </div>"
      ]
     },
     "metadata": {},
     "output_type": "display_data"
    }
   ],
   "source": [
    "# plot\n",
    "dataframe = pd.DataFrame()\n",
    "\n",
    "for job in top_jobs['Job Role']:\n",
    "    df1 = data[data['Job_Role']==job]\n",
    "    skill = [skill.lower() for skills in df1['Skills/Description'] for skill in skills.split(', ') if skill != 'IT Skills']\n",
    "    fdist = FreqDist(skill)\n",
    "    fdist_df=pd.DataFrame(list(dict(fdist).items()), columns=['skill', 'count'])\n",
    "    fdist_df= fdist_df.sort_values(by='count', ascending=False)[:10]\n",
    "    fdist_df = fdist_df.assign(job=job)\n",
    "    dataframe=dataframe.append(fdist_df)\n",
    "#Creating sunburst chart\n",
    "fig1 = px.sunburst(dataframe,\n",
    "                  path=['job', 'skill'],\n",
    "                  values='count'\n",
    "                 )\n",
    "\n",
    "fig1.update_layout(\n",
    "    autosize=False,\n",
    "    title_text='Top Jobs and the Required Skills',\n",
    "    title_x=0.5,\n",
    "    width=1080,\n",
    "    height=720)"
   ]
  },
  {
   "cell_type": "code",
   "execution_count": 54,
   "id": "8a6f7c5c",
   "metadata": {},
   "outputs": [
    {
     "data": {
      "application/vnd.plotly.v1+json": {
       "config": {
        "plotlyServerURL": "https://plot.ly"
       },
       "data": [
        {
         "branchvalues": "total",
         "domain": {
          "x": [
           0,
           1
          ],
          "y": [
           0,
           1
          ]
         },
         "hovertemplate": "labels=%{label}<br>count=%{value}<br>parent=%{parent}<br>id=%{id}<extra></extra>",
         "ids": [
          "Senior Data Engineer/agile",
          "Senior Technical Lead (Data Engineer)/agile",
          "Data Analyst/analytical",
          "Data Scientist/analytical",
          "Data Engineer/aws",
          "Senior Data Engineer/aws",
          "Senior Technical Lead (Data Engineer)/aws",
          "Data Engineer/azure",
          "Data Engineer/big data",
          "Senior Data Engineer/big data",
          "Data Engineer/cloud",
          "Senior Data Engineer/cloud",
          "Senior Technical Lead (Data Engineer)/communication",
          "Data Engineer/computer science",
          "Data Scientist/computer science",
          "Senior Data Engineer/computer science",
          "Senior Technical Lead (Data Engineer)/customer service",
          "Data Analyst/data analysis",
          "Data Scientist/data analysis",
          "Data Analyst/data analyst",
          "Data Analyst/data mining",
          "Data Scientist/data mining",
          "Data Scientist/data science",
          "Data Scientist/data scientist",
          "Data Analyst/data visualization",
          "Senior Technical Lead (Data Engineer)/engineering services",
          "Data Engineer/etl",
          "Data Analyst/excel",
          "Data Engineer/java",
          "Senior Data Engineer/java",
          "Senior Technical Lead (Data Engineer)/java",
          "Senior Technical Lead (Data Engineer)/javascript",
          "Data Scientist/machine learning",
          "Data Analyst/power bi",
          "Data Analyst/python",
          "Data Engineer/python",
          "Data Scientist/python",
          "Senior Data Engineer/python",
          "Data Scientist/r",
          "Senior Technical Lead (Data Engineer)/san",
          "Senior Data Engineer/scala",
          "Senior Technical Lead (Data Engineer)/selenium",
          "Data Engineer/spark",
          "Senior Data Engineer/spark",
          "Data Analyst/sql",
          "Data Engineer/sql",
          "Data Scientist/sql",
          "Senior Data Engineer/sql",
          "Data Analyst/tableau",
          "Senior Technical Lead (Data Engineer)/testing",
          "Data Analyst",
          "Data Engineer",
          "Data Scientist",
          "Senior Data Engineer",
          "Senior Technical Lead (Data Engineer)"
         ],
         "labels": [
          "agile",
          "agile",
          "analytical",
          "analytical",
          "aws",
          "aws",
          "aws",
          "azure",
          "big data",
          "big data",
          "cloud",
          "cloud",
          "communication",
          "computer science",
          "computer science",
          "computer science",
          "customer service",
          "data analysis",
          "data analysis",
          "data analyst",
          "data mining",
          "data mining",
          "data science",
          "data scientist",
          "data visualization",
          "engineering services",
          "etl",
          "excel",
          "java",
          "java",
          "java",
          "javascript",
          "machine learning",
          "power bi",
          "python",
          "python",
          "python",
          "python",
          "r",
          "san",
          "scala",
          "selenium",
          "spark",
          "spark",
          "sql",
          "sql",
          "sql",
          "sql",
          "tableau",
          "testing",
          "Data Analyst",
          "Data Engineer",
          "Data Scientist",
          "Senior Data Engineer",
          "Senior Technical Lead (Data Engineer)"
         ],
         "name": "",
         "parents": [
          "Senior Data Engineer",
          "Senior Technical Lead (Data Engineer)",
          "Data Analyst",
          "Data Scientist",
          "Data Engineer",
          "Senior Data Engineer",
          "Senior Technical Lead (Data Engineer)",
          "Data Engineer",
          "Data Engineer",
          "Senior Data Engineer",
          "Data Engineer",
          "Senior Data Engineer",
          "Senior Technical Lead (Data Engineer)",
          "Data Engineer",
          "Data Scientist",
          "Senior Data Engineer",
          "Senior Technical Lead (Data Engineer)",
          "Data Analyst",
          "Data Scientist",
          "Data Analyst",
          "Data Analyst",
          "Data Scientist",
          "Data Scientist",
          "Data Scientist",
          "Data Analyst",
          "Senior Technical Lead (Data Engineer)",
          "Data Engineer",
          "Data Analyst",
          "Data Engineer",
          "Senior Data Engineer",
          "Senior Technical Lead (Data Engineer)",
          "Senior Technical Lead (Data Engineer)",
          "Data Scientist",
          "Data Analyst",
          "Data Analyst",
          "Data Engineer",
          "Data Scientist",
          "Senior Data Engineer",
          "Data Scientist",
          "Senior Technical Lead (Data Engineer)",
          "Senior Data Engineer",
          "Senior Technical Lead (Data Engineer)",
          "Data Engineer",
          "Senior Data Engineer",
          "Data Analyst",
          "Data Engineer",
          "Data Scientist",
          "Senior Data Engineer",
          "Data Analyst",
          "Senior Technical Lead (Data Engineer)",
          "",
          "",
          "",
          "",
          ""
         ],
         "type": "sunburst",
         "values": [
          21,
          117,
          67,
          80,
          99,
          31,
          41,
          73,
          96,
          42,
          69,
          24,
          34,
          69,
          118,
          41,
          42,
          147,
          82,
          142,
          51,
          94,
          170,
          57,
          41,
          72,
          63,
          66,
          74,
          43,
          51,
          63,
          289,
          42,
          63,
          193,
          213,
          65,
          57,
          113,
          26,
          34,
          98,
          33,
          74,
          109,
          70,
          26,
          54,
          52,
          747,
          943,
          1230,
          352,
          619
         ]
        }
       ],
       "layout": {
        "autosize": false,
        "height": 720,
        "legend": {
         "tracegroupgap": 0
        },
        "margin": {
         "t": 60
        },
        "template": {
         "data": {
          "bar": [
           {
            "error_x": {
             "color": "#2a3f5f"
            },
            "error_y": {
             "color": "#2a3f5f"
            },
            "marker": {
             "line": {
              "color": "#E5ECF6",
              "width": 0.5
             },
             "pattern": {
              "fillmode": "overlay",
              "size": 10,
              "solidity": 0.2
             }
            },
            "type": "bar"
           }
          ],
          "barpolar": [
           {
            "marker": {
             "line": {
              "color": "#E5ECF6",
              "width": 0.5
             },
             "pattern": {
              "fillmode": "overlay",
              "size": 10,
              "solidity": 0.2
             }
            },
            "type": "barpolar"
           }
          ],
          "carpet": [
           {
            "aaxis": {
             "endlinecolor": "#2a3f5f",
             "gridcolor": "white",
             "linecolor": "white",
             "minorgridcolor": "white",
             "startlinecolor": "#2a3f5f"
            },
            "baxis": {
             "endlinecolor": "#2a3f5f",
             "gridcolor": "white",
             "linecolor": "white",
             "minorgridcolor": "white",
             "startlinecolor": "#2a3f5f"
            },
            "type": "carpet"
           }
          ],
          "choropleth": [
           {
            "colorbar": {
             "outlinewidth": 0,
             "ticks": ""
            },
            "type": "choropleth"
           }
          ],
          "contour": [
           {
            "colorbar": {
             "outlinewidth": 0,
             "ticks": ""
            },
            "colorscale": [
             [
              0,
              "#0d0887"
             ],
             [
              0.1111111111111111,
              "#46039f"
             ],
             [
              0.2222222222222222,
              "#7201a8"
             ],
             [
              0.3333333333333333,
              "#9c179e"
             ],
             [
              0.4444444444444444,
              "#bd3786"
             ],
             [
              0.5555555555555556,
              "#d8576b"
             ],
             [
              0.6666666666666666,
              "#ed7953"
             ],
             [
              0.7777777777777778,
              "#fb9f3a"
             ],
             [
              0.8888888888888888,
              "#fdca26"
             ],
             [
              1,
              "#f0f921"
             ]
            ],
            "type": "contour"
           }
          ],
          "contourcarpet": [
           {
            "colorbar": {
             "outlinewidth": 0,
             "ticks": ""
            },
            "type": "contourcarpet"
           }
          ],
          "heatmap": [
           {
            "colorbar": {
             "outlinewidth": 0,
             "ticks": ""
            },
            "colorscale": [
             [
              0,
              "#0d0887"
             ],
             [
              0.1111111111111111,
              "#46039f"
             ],
             [
              0.2222222222222222,
              "#7201a8"
             ],
             [
              0.3333333333333333,
              "#9c179e"
             ],
             [
              0.4444444444444444,
              "#bd3786"
             ],
             [
              0.5555555555555556,
              "#d8576b"
             ],
             [
              0.6666666666666666,
              "#ed7953"
             ],
             [
              0.7777777777777778,
              "#fb9f3a"
             ],
             [
              0.8888888888888888,
              "#fdca26"
             ],
             [
              1,
              "#f0f921"
             ]
            ],
            "type": "heatmap"
           }
          ],
          "heatmapgl": [
           {
            "colorbar": {
             "outlinewidth": 0,
             "ticks": ""
            },
            "colorscale": [
             [
              0,
              "#0d0887"
             ],
             [
              0.1111111111111111,
              "#46039f"
             ],
             [
              0.2222222222222222,
              "#7201a8"
             ],
             [
              0.3333333333333333,
              "#9c179e"
             ],
             [
              0.4444444444444444,
              "#bd3786"
             ],
             [
              0.5555555555555556,
              "#d8576b"
             ],
             [
              0.6666666666666666,
              "#ed7953"
             ],
             [
              0.7777777777777778,
              "#fb9f3a"
             ],
             [
              0.8888888888888888,
              "#fdca26"
             ],
             [
              1,
              "#f0f921"
             ]
            ],
            "type": "heatmapgl"
           }
          ],
          "histogram": [
           {
            "marker": {
             "pattern": {
              "fillmode": "overlay",
              "size": 10,
              "solidity": 0.2
             }
            },
            "type": "histogram"
           }
          ],
          "histogram2d": [
           {
            "colorbar": {
             "outlinewidth": 0,
             "ticks": ""
            },
            "colorscale": [
             [
              0,
              "#0d0887"
             ],
             [
              0.1111111111111111,
              "#46039f"
             ],
             [
              0.2222222222222222,
              "#7201a8"
             ],
             [
              0.3333333333333333,
              "#9c179e"
             ],
             [
              0.4444444444444444,
              "#bd3786"
             ],
             [
              0.5555555555555556,
              "#d8576b"
             ],
             [
              0.6666666666666666,
              "#ed7953"
             ],
             [
              0.7777777777777778,
              "#fb9f3a"
             ],
             [
              0.8888888888888888,
              "#fdca26"
             ],
             [
              1,
              "#f0f921"
             ]
            ],
            "type": "histogram2d"
           }
          ],
          "histogram2dcontour": [
           {
            "colorbar": {
             "outlinewidth": 0,
             "ticks": ""
            },
            "colorscale": [
             [
              0,
              "#0d0887"
             ],
             [
              0.1111111111111111,
              "#46039f"
             ],
             [
              0.2222222222222222,
              "#7201a8"
             ],
             [
              0.3333333333333333,
              "#9c179e"
             ],
             [
              0.4444444444444444,
              "#bd3786"
             ],
             [
              0.5555555555555556,
              "#d8576b"
             ],
             [
              0.6666666666666666,
              "#ed7953"
             ],
             [
              0.7777777777777778,
              "#fb9f3a"
             ],
             [
              0.8888888888888888,
              "#fdca26"
             ],
             [
              1,
              "#f0f921"
             ]
            ],
            "type": "histogram2dcontour"
           }
          ],
          "mesh3d": [
           {
            "colorbar": {
             "outlinewidth": 0,
             "ticks": ""
            },
            "type": "mesh3d"
           }
          ],
          "parcoords": [
           {
            "line": {
             "colorbar": {
              "outlinewidth": 0,
              "ticks": ""
             }
            },
            "type": "parcoords"
           }
          ],
          "pie": [
           {
            "automargin": true,
            "type": "pie"
           }
          ],
          "scatter": [
           {
            "marker": {
             "colorbar": {
              "outlinewidth": 0,
              "ticks": ""
             }
            },
            "type": "scatter"
           }
          ],
          "scatter3d": [
           {
            "line": {
             "colorbar": {
              "outlinewidth": 0,
              "ticks": ""
             }
            },
            "marker": {
             "colorbar": {
              "outlinewidth": 0,
              "ticks": ""
             }
            },
            "type": "scatter3d"
           }
          ],
          "scattercarpet": [
           {
            "marker": {
             "colorbar": {
              "outlinewidth": 0,
              "ticks": ""
             }
            },
            "type": "scattercarpet"
           }
          ],
          "scattergeo": [
           {
            "marker": {
             "colorbar": {
              "outlinewidth": 0,
              "ticks": ""
             }
            },
            "type": "scattergeo"
           }
          ],
          "scattergl": [
           {
            "marker": {
             "colorbar": {
              "outlinewidth": 0,
              "ticks": ""
             }
            },
            "type": "scattergl"
           }
          ],
          "scattermapbox": [
           {
            "marker": {
             "colorbar": {
              "outlinewidth": 0,
              "ticks": ""
             }
            },
            "type": "scattermapbox"
           }
          ],
          "scatterpolar": [
           {
            "marker": {
             "colorbar": {
              "outlinewidth": 0,
              "ticks": ""
             }
            },
            "type": "scatterpolar"
           }
          ],
          "scatterpolargl": [
           {
            "marker": {
             "colorbar": {
              "outlinewidth": 0,
              "ticks": ""
             }
            },
            "type": "scatterpolargl"
           }
          ],
          "scatterternary": [
           {
            "marker": {
             "colorbar": {
              "outlinewidth": 0,
              "ticks": ""
             }
            },
            "type": "scatterternary"
           }
          ],
          "surface": [
           {
            "colorbar": {
             "outlinewidth": 0,
             "ticks": ""
            },
            "colorscale": [
             [
              0,
              "#0d0887"
             ],
             [
              0.1111111111111111,
              "#46039f"
             ],
             [
              0.2222222222222222,
              "#7201a8"
             ],
             [
              0.3333333333333333,
              "#9c179e"
             ],
             [
              0.4444444444444444,
              "#bd3786"
             ],
             [
              0.5555555555555556,
              "#d8576b"
             ],
             [
              0.6666666666666666,
              "#ed7953"
             ],
             [
              0.7777777777777778,
              "#fb9f3a"
             ],
             [
              0.8888888888888888,
              "#fdca26"
             ],
             [
              1,
              "#f0f921"
             ]
            ],
            "type": "surface"
           }
          ],
          "table": [
           {
            "cells": {
             "fill": {
              "color": "#EBF0F8"
             },
             "line": {
              "color": "white"
             }
            },
            "header": {
             "fill": {
              "color": "#C8D4E3"
             },
             "line": {
              "color": "white"
             }
            },
            "type": "table"
           }
          ]
         },
         "layout": {
          "annotationdefaults": {
           "arrowcolor": "#2a3f5f",
           "arrowhead": 0,
           "arrowwidth": 1
          },
          "autotypenumbers": "strict",
          "coloraxis": {
           "colorbar": {
            "outlinewidth": 0,
            "ticks": ""
           }
          },
          "colorscale": {
           "diverging": [
            [
             0,
             "#8e0152"
            ],
            [
             0.1,
             "#c51b7d"
            ],
            [
             0.2,
             "#de77ae"
            ],
            [
             0.3,
             "#f1b6da"
            ],
            [
             0.4,
             "#fde0ef"
            ],
            [
             0.5,
             "#f7f7f7"
            ],
            [
             0.6,
             "#e6f5d0"
            ],
            [
             0.7,
             "#b8e186"
            ],
            [
             0.8,
             "#7fbc41"
            ],
            [
             0.9,
             "#4d9221"
            ],
            [
             1,
             "#276419"
            ]
           ],
           "sequential": [
            [
             0,
             "#0d0887"
            ],
            [
             0.1111111111111111,
             "#46039f"
            ],
            [
             0.2222222222222222,
             "#7201a8"
            ],
            [
             0.3333333333333333,
             "#9c179e"
            ],
            [
             0.4444444444444444,
             "#bd3786"
            ],
            [
             0.5555555555555556,
             "#d8576b"
            ],
            [
             0.6666666666666666,
             "#ed7953"
            ],
            [
             0.7777777777777778,
             "#fb9f3a"
            ],
            [
             0.8888888888888888,
             "#fdca26"
            ],
            [
             1,
             "#f0f921"
            ]
           ],
           "sequentialminus": [
            [
             0,
             "#0d0887"
            ],
            [
             0.1111111111111111,
             "#46039f"
            ],
            [
             0.2222222222222222,
             "#7201a8"
            ],
            [
             0.3333333333333333,
             "#9c179e"
            ],
            [
             0.4444444444444444,
             "#bd3786"
            ],
            [
             0.5555555555555556,
             "#d8576b"
            ],
            [
             0.6666666666666666,
             "#ed7953"
            ],
            [
             0.7777777777777778,
             "#fb9f3a"
            ],
            [
             0.8888888888888888,
             "#fdca26"
            ],
            [
             1,
             "#f0f921"
            ]
           ]
          },
          "colorway": [
           "#636efa",
           "#EF553B",
           "#00cc96",
           "#ab63fa",
           "#FFA15A",
           "#19d3f3",
           "#FF6692",
           "#B6E880",
           "#FF97FF",
           "#FECB52"
          ],
          "font": {
           "color": "#2a3f5f"
          },
          "geo": {
           "bgcolor": "white",
           "lakecolor": "white",
           "landcolor": "#E5ECF6",
           "showlakes": true,
           "showland": true,
           "subunitcolor": "white"
          },
          "hoverlabel": {
           "align": "left"
          },
          "hovermode": "closest",
          "mapbox": {
           "style": "light"
          },
          "paper_bgcolor": "white",
          "plot_bgcolor": "#E5ECF6",
          "polar": {
           "angularaxis": {
            "gridcolor": "white",
            "linecolor": "white",
            "ticks": ""
           },
           "bgcolor": "#E5ECF6",
           "radialaxis": {
            "gridcolor": "white",
            "linecolor": "white",
            "ticks": ""
           }
          },
          "scene": {
           "xaxis": {
            "backgroundcolor": "#E5ECF6",
            "gridcolor": "white",
            "gridwidth": 2,
            "linecolor": "white",
            "showbackground": true,
            "ticks": "",
            "zerolinecolor": "white"
           },
           "yaxis": {
            "backgroundcolor": "#E5ECF6",
            "gridcolor": "white",
            "gridwidth": 2,
            "linecolor": "white",
            "showbackground": true,
            "ticks": "",
            "zerolinecolor": "white"
           },
           "zaxis": {
            "backgroundcolor": "#E5ECF6",
            "gridcolor": "white",
            "gridwidth": 2,
            "linecolor": "white",
            "showbackground": true,
            "ticks": "",
            "zerolinecolor": "white"
           }
          },
          "shapedefaults": {
           "line": {
            "color": "#2a3f5f"
           }
          },
          "ternary": {
           "aaxis": {
            "gridcolor": "white",
            "linecolor": "white",
            "ticks": ""
           },
           "baxis": {
            "gridcolor": "white",
            "linecolor": "white",
            "ticks": ""
           },
           "bgcolor": "#E5ECF6",
           "caxis": {
            "gridcolor": "white",
            "linecolor": "white",
            "ticks": ""
           }
          },
          "title": {
           "x": 0.05
          },
          "xaxis": {
           "automargin": true,
           "gridcolor": "white",
           "linecolor": "white",
           "ticks": "",
           "title": {
            "standoff": 15
           },
           "zerolinecolor": "white",
           "zerolinewidth": 2
          },
          "yaxis": {
           "automargin": true,
           "gridcolor": "white",
           "linecolor": "white",
           "ticks": "",
           "title": {
            "standoff": 15
           },
           "zerolinecolor": "white",
           "zerolinewidth": 2
          }
         }
        },
        "title": {
         "text": "Top Jobs and the Required Skills",
         "x": 0.5
        },
        "width": 1080
       }
      },
      "text/html": [
       "<div>                            <div id=\"91fb0c05-a066-4462-8dc3-08bb2863d921\" class=\"plotly-graph-div\" style=\"height:720px; width:1080px;\"></div>            <script type=\"text/javascript\">                require([\"plotly\"], function(Plotly) {                    window.PLOTLYENV=window.PLOTLYENV || {};                                    if (document.getElementById(\"91fb0c05-a066-4462-8dc3-08bb2863d921\")) {                    Plotly.newPlot(                        \"91fb0c05-a066-4462-8dc3-08bb2863d921\",                        [{\"branchvalues\":\"total\",\"domain\":{\"x\":[0.0,1.0],\"y\":[0.0,1.0]},\"hovertemplate\":\"labels=%{label}<br>count=%{value}<br>parent=%{parent}<br>id=%{id}<extra></extra>\",\"ids\":[\"Senior Data Engineer/agile\",\"Senior Technical Lead (Data Engineer)/agile\",\"Data Analyst/analytical\",\"Data Scientist/analytical\",\"Data Engineer/aws\",\"Senior Data Engineer/aws\",\"Senior Technical Lead (Data Engineer)/aws\",\"Data Engineer/azure\",\"Data Engineer/big data\",\"Senior Data Engineer/big data\",\"Data Engineer/cloud\",\"Senior Data Engineer/cloud\",\"Senior Technical Lead (Data Engineer)/communication\",\"Data Engineer/computer science\",\"Data Scientist/computer science\",\"Senior Data Engineer/computer science\",\"Senior Technical Lead (Data Engineer)/customer service\",\"Data Analyst/data analysis\",\"Data Scientist/data analysis\",\"Data Analyst/data analyst\",\"Data Analyst/data mining\",\"Data Scientist/data mining\",\"Data Scientist/data science\",\"Data Scientist/data scientist\",\"Data Analyst/data visualization\",\"Senior Technical Lead (Data Engineer)/engineering services\",\"Data Engineer/etl\",\"Data Analyst/excel\",\"Data Engineer/java\",\"Senior Data Engineer/java\",\"Senior Technical Lead (Data Engineer)/java\",\"Senior Technical Lead (Data Engineer)/javascript\",\"Data Scientist/machine learning\",\"Data Analyst/power bi\",\"Data Analyst/python\",\"Data Engineer/python\",\"Data Scientist/python\",\"Senior Data Engineer/python\",\"Data Scientist/r\",\"Senior Technical Lead (Data Engineer)/san\",\"Senior Data Engineer/scala\",\"Senior Technical Lead (Data Engineer)/selenium\",\"Data Engineer/spark\",\"Senior Data Engineer/spark\",\"Data Analyst/sql\",\"Data Engineer/sql\",\"Data Scientist/sql\",\"Senior Data Engineer/sql\",\"Data Analyst/tableau\",\"Senior Technical Lead (Data Engineer)/testing\",\"Data Analyst\",\"Data Engineer\",\"Data Scientist\",\"Senior Data Engineer\",\"Senior Technical Lead (Data Engineer)\"],\"labels\":[\"agile\",\"agile\",\"analytical\",\"analytical\",\"aws\",\"aws\",\"aws\",\"azure\",\"big data\",\"big data\",\"cloud\",\"cloud\",\"communication\",\"computer science\",\"computer science\",\"computer science\",\"customer service\",\"data analysis\",\"data analysis\",\"data analyst\",\"data mining\",\"data mining\",\"data science\",\"data scientist\",\"data visualization\",\"engineering services\",\"etl\",\"excel\",\"java\",\"java\",\"java\",\"javascript\",\"machine learning\",\"power bi\",\"python\",\"python\",\"python\",\"python\",\"r\",\"san\",\"scala\",\"selenium\",\"spark\",\"spark\",\"sql\",\"sql\",\"sql\",\"sql\",\"tableau\",\"testing\",\"Data Analyst\",\"Data Engineer\",\"Data Scientist\",\"Senior Data Engineer\",\"Senior Technical Lead (Data Engineer)\"],\"name\":\"\",\"parents\":[\"Senior Data Engineer\",\"Senior Technical Lead (Data Engineer)\",\"Data Analyst\",\"Data Scientist\",\"Data Engineer\",\"Senior Data Engineer\",\"Senior Technical Lead (Data Engineer)\",\"Data Engineer\",\"Data Engineer\",\"Senior Data Engineer\",\"Data Engineer\",\"Senior Data Engineer\",\"Senior Technical Lead (Data Engineer)\",\"Data Engineer\",\"Data Scientist\",\"Senior Data Engineer\",\"Senior Technical Lead (Data Engineer)\",\"Data Analyst\",\"Data Scientist\",\"Data Analyst\",\"Data Analyst\",\"Data Scientist\",\"Data Scientist\",\"Data Scientist\",\"Data Analyst\",\"Senior Technical Lead (Data Engineer)\",\"Data Engineer\",\"Data Analyst\",\"Data Engineer\",\"Senior Data Engineer\",\"Senior Technical Lead (Data Engineer)\",\"Senior Technical Lead (Data Engineer)\",\"Data Scientist\",\"Data Analyst\",\"Data Analyst\",\"Data Engineer\",\"Data Scientist\",\"Senior Data Engineer\",\"Data Scientist\",\"Senior Technical Lead (Data Engineer)\",\"Senior Data Engineer\",\"Senior Technical Lead (Data Engineer)\",\"Data Engineer\",\"Senior Data Engineer\",\"Data Analyst\",\"Data Engineer\",\"Data Scientist\",\"Senior Data Engineer\",\"Data Analyst\",\"Senior Technical Lead (Data Engineer)\",\"\",\"\",\"\",\"\",\"\"],\"values\":[21,117,67,80,99,31,41,73,96,42,69,24,34,69,118,41,42,147,82,142,51,94,170,57,41,72,63,66,74,43,51,63,289,42,63,193,213,65,57,113,26,34,98,33,74,109,70,26,54,52,747,943,1230,352,619],\"type\":\"sunburst\"}],                        {\"template\":{\"data\":{\"bar\":[{\"error_x\":{\"color\":\"#2a3f5f\"},\"error_y\":{\"color\":\"#2a3f5f\"},\"marker\":{\"line\":{\"color\":\"#E5ECF6\",\"width\":0.5},\"pattern\":{\"fillmode\":\"overlay\",\"size\":10,\"solidity\":0.2}},\"type\":\"bar\"}],\"barpolar\":[{\"marker\":{\"line\":{\"color\":\"#E5ECF6\",\"width\":0.5},\"pattern\":{\"fillmode\":\"overlay\",\"size\":10,\"solidity\":0.2}},\"type\":\"barpolar\"}],\"carpet\":[{\"aaxis\":{\"endlinecolor\":\"#2a3f5f\",\"gridcolor\":\"white\",\"linecolor\":\"white\",\"minorgridcolor\":\"white\",\"startlinecolor\":\"#2a3f5f\"},\"baxis\":{\"endlinecolor\":\"#2a3f5f\",\"gridcolor\":\"white\",\"linecolor\":\"white\",\"minorgridcolor\":\"white\",\"startlinecolor\":\"#2a3f5f\"},\"type\":\"carpet\"}],\"choropleth\":[{\"colorbar\":{\"outlinewidth\":0,\"ticks\":\"\"},\"type\":\"choropleth\"}],\"contour\":[{\"colorbar\":{\"outlinewidth\":0,\"ticks\":\"\"},\"colorscale\":[[0.0,\"#0d0887\"],[0.1111111111111111,\"#46039f\"],[0.2222222222222222,\"#7201a8\"],[0.3333333333333333,\"#9c179e\"],[0.4444444444444444,\"#bd3786\"],[0.5555555555555556,\"#d8576b\"],[0.6666666666666666,\"#ed7953\"],[0.7777777777777778,\"#fb9f3a\"],[0.8888888888888888,\"#fdca26\"],[1.0,\"#f0f921\"]],\"type\":\"contour\"}],\"contourcarpet\":[{\"colorbar\":{\"outlinewidth\":0,\"ticks\":\"\"},\"type\":\"contourcarpet\"}],\"heatmap\":[{\"colorbar\":{\"outlinewidth\":0,\"ticks\":\"\"},\"colorscale\":[[0.0,\"#0d0887\"],[0.1111111111111111,\"#46039f\"],[0.2222222222222222,\"#7201a8\"],[0.3333333333333333,\"#9c179e\"],[0.4444444444444444,\"#bd3786\"],[0.5555555555555556,\"#d8576b\"],[0.6666666666666666,\"#ed7953\"],[0.7777777777777778,\"#fb9f3a\"],[0.8888888888888888,\"#fdca26\"],[1.0,\"#f0f921\"]],\"type\":\"heatmap\"}],\"heatmapgl\":[{\"colorbar\":{\"outlinewidth\":0,\"ticks\":\"\"},\"colorscale\":[[0.0,\"#0d0887\"],[0.1111111111111111,\"#46039f\"],[0.2222222222222222,\"#7201a8\"],[0.3333333333333333,\"#9c179e\"],[0.4444444444444444,\"#bd3786\"],[0.5555555555555556,\"#d8576b\"],[0.6666666666666666,\"#ed7953\"],[0.7777777777777778,\"#fb9f3a\"],[0.8888888888888888,\"#fdca26\"],[1.0,\"#f0f921\"]],\"type\":\"heatmapgl\"}],\"histogram\":[{\"marker\":{\"pattern\":{\"fillmode\":\"overlay\",\"size\":10,\"solidity\":0.2}},\"type\":\"histogram\"}],\"histogram2d\":[{\"colorbar\":{\"outlinewidth\":0,\"ticks\":\"\"},\"colorscale\":[[0.0,\"#0d0887\"],[0.1111111111111111,\"#46039f\"],[0.2222222222222222,\"#7201a8\"],[0.3333333333333333,\"#9c179e\"],[0.4444444444444444,\"#bd3786\"],[0.5555555555555556,\"#d8576b\"],[0.6666666666666666,\"#ed7953\"],[0.7777777777777778,\"#fb9f3a\"],[0.8888888888888888,\"#fdca26\"],[1.0,\"#f0f921\"]],\"type\":\"histogram2d\"}],\"histogram2dcontour\":[{\"colorbar\":{\"outlinewidth\":0,\"ticks\":\"\"},\"colorscale\":[[0.0,\"#0d0887\"],[0.1111111111111111,\"#46039f\"],[0.2222222222222222,\"#7201a8\"],[0.3333333333333333,\"#9c179e\"],[0.4444444444444444,\"#bd3786\"],[0.5555555555555556,\"#d8576b\"],[0.6666666666666666,\"#ed7953\"],[0.7777777777777778,\"#fb9f3a\"],[0.8888888888888888,\"#fdca26\"],[1.0,\"#f0f921\"]],\"type\":\"histogram2dcontour\"}],\"mesh3d\":[{\"colorbar\":{\"outlinewidth\":0,\"ticks\":\"\"},\"type\":\"mesh3d\"}],\"parcoords\":[{\"line\":{\"colorbar\":{\"outlinewidth\":0,\"ticks\":\"\"}},\"type\":\"parcoords\"}],\"pie\":[{\"automargin\":true,\"type\":\"pie\"}],\"scatter\":[{\"marker\":{\"colorbar\":{\"outlinewidth\":0,\"ticks\":\"\"}},\"type\":\"scatter\"}],\"scatter3d\":[{\"line\":{\"colorbar\":{\"outlinewidth\":0,\"ticks\":\"\"}},\"marker\":{\"colorbar\":{\"outlinewidth\":0,\"ticks\":\"\"}},\"type\":\"scatter3d\"}],\"scattercarpet\":[{\"marker\":{\"colorbar\":{\"outlinewidth\":0,\"ticks\":\"\"}},\"type\":\"scattercarpet\"}],\"scattergeo\":[{\"marker\":{\"colorbar\":{\"outlinewidth\":0,\"ticks\":\"\"}},\"type\":\"scattergeo\"}],\"scattergl\":[{\"marker\":{\"colorbar\":{\"outlinewidth\":0,\"ticks\":\"\"}},\"type\":\"scattergl\"}],\"scattermapbox\":[{\"marker\":{\"colorbar\":{\"outlinewidth\":0,\"ticks\":\"\"}},\"type\":\"scattermapbox\"}],\"scatterpolar\":[{\"marker\":{\"colorbar\":{\"outlinewidth\":0,\"ticks\":\"\"}},\"type\":\"scatterpolar\"}],\"scatterpolargl\":[{\"marker\":{\"colorbar\":{\"outlinewidth\":0,\"ticks\":\"\"}},\"type\":\"scatterpolargl\"}],\"scatterternary\":[{\"marker\":{\"colorbar\":{\"outlinewidth\":0,\"ticks\":\"\"}},\"type\":\"scatterternary\"}],\"surface\":[{\"colorbar\":{\"outlinewidth\":0,\"ticks\":\"\"},\"colorscale\":[[0.0,\"#0d0887\"],[0.1111111111111111,\"#46039f\"],[0.2222222222222222,\"#7201a8\"],[0.3333333333333333,\"#9c179e\"],[0.4444444444444444,\"#bd3786\"],[0.5555555555555556,\"#d8576b\"],[0.6666666666666666,\"#ed7953\"],[0.7777777777777778,\"#fb9f3a\"],[0.8888888888888888,\"#fdca26\"],[1.0,\"#f0f921\"]],\"type\":\"surface\"}],\"table\":[{\"cells\":{\"fill\":{\"color\":\"#EBF0F8\"},\"line\":{\"color\":\"white\"}},\"header\":{\"fill\":{\"color\":\"#C8D4E3\"},\"line\":{\"color\":\"white\"}},\"type\":\"table\"}]},\"layout\":{\"annotationdefaults\":{\"arrowcolor\":\"#2a3f5f\",\"arrowhead\":0,\"arrowwidth\":1},\"autotypenumbers\":\"strict\",\"coloraxis\":{\"colorbar\":{\"outlinewidth\":0,\"ticks\":\"\"}},\"colorscale\":{\"diverging\":[[0,\"#8e0152\"],[0.1,\"#c51b7d\"],[0.2,\"#de77ae\"],[0.3,\"#f1b6da\"],[0.4,\"#fde0ef\"],[0.5,\"#f7f7f7\"],[0.6,\"#e6f5d0\"],[0.7,\"#b8e186\"],[0.8,\"#7fbc41\"],[0.9,\"#4d9221\"],[1,\"#276419\"]],\"sequential\":[[0.0,\"#0d0887\"],[0.1111111111111111,\"#46039f\"],[0.2222222222222222,\"#7201a8\"],[0.3333333333333333,\"#9c179e\"],[0.4444444444444444,\"#bd3786\"],[0.5555555555555556,\"#d8576b\"],[0.6666666666666666,\"#ed7953\"],[0.7777777777777778,\"#fb9f3a\"],[0.8888888888888888,\"#fdca26\"],[1.0,\"#f0f921\"]],\"sequentialminus\":[[0.0,\"#0d0887\"],[0.1111111111111111,\"#46039f\"],[0.2222222222222222,\"#7201a8\"],[0.3333333333333333,\"#9c179e\"],[0.4444444444444444,\"#bd3786\"],[0.5555555555555556,\"#d8576b\"],[0.6666666666666666,\"#ed7953\"],[0.7777777777777778,\"#fb9f3a\"],[0.8888888888888888,\"#fdca26\"],[1.0,\"#f0f921\"]]},\"colorway\":[\"#636efa\",\"#EF553B\",\"#00cc96\",\"#ab63fa\",\"#FFA15A\",\"#19d3f3\",\"#FF6692\",\"#B6E880\",\"#FF97FF\",\"#FECB52\"],\"font\":{\"color\":\"#2a3f5f\"},\"geo\":{\"bgcolor\":\"white\",\"lakecolor\":\"white\",\"landcolor\":\"#E5ECF6\",\"showlakes\":true,\"showland\":true,\"subunitcolor\":\"white\"},\"hoverlabel\":{\"align\":\"left\"},\"hovermode\":\"closest\",\"mapbox\":{\"style\":\"light\"},\"paper_bgcolor\":\"white\",\"plot_bgcolor\":\"#E5ECF6\",\"polar\":{\"angularaxis\":{\"gridcolor\":\"white\",\"linecolor\":\"white\",\"ticks\":\"\"},\"bgcolor\":\"#E5ECF6\",\"radialaxis\":{\"gridcolor\":\"white\",\"linecolor\":\"white\",\"ticks\":\"\"}},\"scene\":{\"xaxis\":{\"backgroundcolor\":\"#E5ECF6\",\"gridcolor\":\"white\",\"gridwidth\":2,\"linecolor\":\"white\",\"showbackground\":true,\"ticks\":\"\",\"zerolinecolor\":\"white\"},\"yaxis\":{\"backgroundcolor\":\"#E5ECF6\",\"gridcolor\":\"white\",\"gridwidth\":2,\"linecolor\":\"white\",\"showbackground\":true,\"ticks\":\"\",\"zerolinecolor\":\"white\"},\"zaxis\":{\"backgroundcolor\":\"#E5ECF6\",\"gridcolor\":\"white\",\"gridwidth\":2,\"linecolor\":\"white\",\"showbackground\":true,\"ticks\":\"\",\"zerolinecolor\":\"white\"}},\"shapedefaults\":{\"line\":{\"color\":\"#2a3f5f\"}},\"ternary\":{\"aaxis\":{\"gridcolor\":\"white\",\"linecolor\":\"white\",\"ticks\":\"\"},\"baxis\":{\"gridcolor\":\"white\",\"linecolor\":\"white\",\"ticks\":\"\"},\"bgcolor\":\"#E5ECF6\",\"caxis\":{\"gridcolor\":\"white\",\"linecolor\":\"white\",\"ticks\":\"\"}},\"title\":{\"x\":0.05},\"xaxis\":{\"automargin\":true,\"gridcolor\":\"white\",\"linecolor\":\"white\",\"ticks\":\"\",\"title\":{\"standoff\":15},\"zerolinecolor\":\"white\",\"zerolinewidth\":2},\"yaxis\":{\"automargin\":true,\"gridcolor\":\"white\",\"linecolor\":\"white\",\"ticks\":\"\",\"title\":{\"standoff\":15},\"zerolinecolor\":\"white\",\"zerolinewidth\":2}}},\"legend\":{\"tracegroupgap\":0},\"margin\":{\"t\":60},\"title\":{\"text\":\"Top Jobs and the Required Skills\",\"x\":0.5},\"autosize\":false,\"width\":1080,\"height\":720},                        {\"responsive\": true}                    ).then(function(){\n",
       "                            \n",
       "var gd = document.getElementById('91fb0c05-a066-4462-8dc3-08bb2863d921');\n",
       "var x = new MutationObserver(function (mutations, observer) {{\n",
       "        var display = window.getComputedStyle(gd).display;\n",
       "        if (!display || display === 'none') {{\n",
       "            console.log([gd, 'removed!']);\n",
       "            Plotly.purge(gd);\n",
       "            observer.disconnect();\n",
       "        }}\n",
       "}});\n",
       "\n",
       "// Listen for the removal of the full notebook cells\n",
       "var notebookContainer = gd.closest('#notebook-container');\n",
       "if (notebookContainer) {{\n",
       "    x.observe(notebookContainer, {childList: true});\n",
       "}}\n",
       "\n",
       "// Listen for the clearing of the current output cell\n",
       "var outputEl = gd.closest('.output');\n",
       "if (outputEl) {{\n",
       "    x.observe(outputEl, {childList: true});\n",
       "}}\n",
       "\n",
       "                        })                };                });            </script>        </div>"
      ]
     },
     "metadata": {},
     "output_type": "display_data"
    }
   ],
   "source": [
    "# Display the figure\n",
    "fig1.show()"
   ]
  },
  {
   "cell_type": "code",
   "execution_count": 9,
   "id": "fbe4ce3d",
   "metadata": {},
   "outputs": [],
   "source": [
    "def preprocess_location(loc):\n",
    "    loc=re.split('\\(', loc)[0].strip()\n",
    "    loc=re.sub('New Delhi','Delhi',loc)\n",
    "    return loc"
   ]
  },
  {
   "cell_type": "code",
   "execution_count": 22,
   "id": "582d98f2",
   "metadata": {},
   "outputs": [
    {
     "data": {
      "text/html": [
       "<style type=\"text/css\">\n",
       "#T_8ffdb_row0_col1 {\n",
       "  background-color: #fcffa4;\n",
       "  color: #000000;\n",
       "}\n",
       "#T_8ffdb_row1_col1 {\n",
       "  background-color: #952667;\n",
       "  color: #f1f1f1;\n",
       "}\n",
       "#T_8ffdb_row2_col1 {\n",
       "  background-color: #8d2369;\n",
       "  color: #f1f1f1;\n",
       "}\n",
       "#T_8ffdb_row3_col1 {\n",
       "  background-color: #61136e;\n",
       "  color: #f1f1f1;\n",
       "}\n",
       "#T_8ffdb_row4_col1 {\n",
       "  background-color: #510e6c;\n",
       "  color: #f1f1f1;\n",
       "}\n",
       "#T_8ffdb_row5_col1 {\n",
       "  background-color: #4d0d6c;\n",
       "  color: #f1f1f1;\n",
       "}\n",
       "#T_8ffdb_row6_col1 {\n",
       "  background-color: #1f0c48;\n",
       "  color: #f1f1f1;\n",
       "}\n",
       "#T_8ffdb_row7_col1 {\n",
       "  background-color: #0d0829;\n",
       "  color: #f1f1f1;\n",
       "}\n",
       "#T_8ffdb_row8_col1 {\n",
       "  background-color: #010108;\n",
       "  color: #f1f1f1;\n",
       "}\n",
       "#T_8ffdb_row9_col1 {\n",
       "  background-color: #000004;\n",
       "  color: #f1f1f1;\n",
       "}\n",
       "</style>\n",
       "<table id=\"T_8ffdb\">\n",
       "  <thead>\n",
       "    <tr>\n",
       "      <th class=\"blank level0\" >&nbsp;</th>\n",
       "      <th id=\"T_8ffdb_level0_col0\" class=\"col_heading level0 col0\" >location</th>\n",
       "      <th id=\"T_8ffdb_level0_col1\" class=\"col_heading level0 col1\" >job openings</th>\n",
       "    </tr>\n",
       "  </thead>\n",
       "  <tbody>\n",
       "    <tr>\n",
       "      <th id=\"T_8ffdb_level0_row0\" class=\"row_heading level0 row0\" >17</th>\n",
       "      <td id=\"T_8ffdb_row0_col0\" class=\"data row0 col0\" >Bangalore</td>\n",
       "      <td id=\"T_8ffdb_row0_col1\" class=\"data row0 col1\" >4753</td>\n",
       "    </tr>\n",
       "    <tr>\n",
       "      <th id=\"T_8ffdb_level0_row1\" class=\"row_heading level0 row1\" >139</th>\n",
       "      <td id=\"T_8ffdb_row1_col0\" class=\"data row1 col0\" >Pune</td>\n",
       "      <td id=\"T_8ffdb_row1_col1\" class=\"data row1 col1\" >2047</td>\n",
       "    </tr>\n",
       "    <tr>\n",
       "      <th id=\"T_8ffdb_level0_row2\" class=\"row_heading level0 row2\" >73</th>\n",
       "      <td id=\"T_8ffdb_row2_col0\" class=\"data row2 col0\" >Hyderabad</td>\n",
       "      <td id=\"T_8ffdb_row2_col1\" class=\"data row2 col1\" >1960</td>\n",
       "    </tr>\n",
       "    <tr>\n",
       "      <th id=\"T_8ffdb_level0_row3\" class=\"row_heading level0 row3\" >116</th>\n",
       "      <td id=\"T_8ffdb_row3_col0\" class=\"data row3 col0\" >Mumbai</td>\n",
       "      <td id=\"T_8ffdb_row3_col1\" class=\"data row3 col1\" >1462</td>\n",
       "    </tr>\n",
       "    <tr>\n",
       "      <th id=\"T_8ffdb_level0_row4\" class=\"row_heading level0 row4\" >39</th>\n",
       "      <td id=\"T_8ffdb_row4_col0\" class=\"data row4 col0\" >Chennai</td>\n",
       "      <td id=\"T_8ffdb_row4_col1\" class=\"data row4 col1\" >1301</td>\n",
       "    </tr>\n",
       "    <tr>\n",
       "      <th id=\"T_8ffdb_level0_row5\" class=\"row_heading level0 row5\" >64</th>\n",
       "      <td id=\"T_8ffdb_row5_col0\" class=\"data row5 col0\" >Gurgaon</td>\n",
       "      <td id=\"T_8ffdb_row5_col1\" class=\"data row5 col1\" >1255</td>\n",
       "    </tr>\n",
       "    <tr>\n",
       "      <th id=\"T_8ffdb_level0_row6\" class=\"row_heading level0 row6\" >47</th>\n",
       "      <td id=\"T_8ffdb_row6_col0\" class=\"data row6 col0\" >Delhi</td>\n",
       "      <td id=\"T_8ffdb_row6_col1\" class=\"data row6 col1\" >782</td>\n",
       "    </tr>\n",
       "    <tr>\n",
       "      <th id=\"T_8ffdb_level0_row7\" class=\"row_heading level0 row7\" >128</th>\n",
       "      <td id=\"T_8ffdb_row7_col0\" class=\"data row7 col0\" >Noida</td>\n",
       "      <td id=\"T_8ffdb_row7_col1\" class=\"data row7 col1\" >545</td>\n",
       "    </tr>\n",
       "    <tr>\n",
       "      <th id=\"T_8ffdb_level0_row8\" class=\"row_heading level0 row8\" >98</th>\n",
       "      <td id=\"T_8ffdb_row8_col0\" class=\"data row8 col0\" >Kolkata</td>\n",
       "      <td id=\"T_8ffdb_row8_col1\" class=\"data row8 col1\" >291</td>\n",
       "    </tr>\n",
       "    <tr>\n",
       "      <th id=\"T_8ffdb_level0_row9\" class=\"row_heading level0 row9\" >2</th>\n",
       "      <td id=\"T_8ffdb_row9_col0\" class=\"data row9 col0\" >Ahmedabad</td>\n",
       "      <td id=\"T_8ffdb_row9_col1\" class=\"data row9 col1\" >222</td>\n",
       "    </tr>\n",
       "  </tbody>\n",
       "</table>\n"
      ],
      "text/plain": [
       "<pandas.io.formats.style.Styler at 0x28547680b50>"
      ]
     },
     "execution_count": 22,
     "metadata": {},
     "output_type": "execute_result"
    }
   ],
   "source": [
    "# splitting values and saving into a list\n",
    "loc=data['Location'].tolist()\n",
    "loc=[j.strip() for i in [j.strip() for i in loc for j in i.split(',')] for j in i.split('/')]\n",
    "\n",
    "# count\n",
    "fdist = FreqDist(loc)\n",
    "loc_df=pd.DataFrame(list(dict(fdist).items()), columns=['location', 'job openings'])\n",
    "\n",
    "# removing alternate names\n",
    "for loc in ['Bengaluru','Secunderabad','Cochin','NCR','Gurugram']:\n",
    "    loc_df=loc_df[loc_df['location']!=loc]\n",
    "    \n",
    "# applying function\n",
    "loc_df['location']=loc_df['location'].apply(preprocess_location)\n",
    "loc_df=loc_df.groupby('location').sum().reset_index(level=0)\n",
    "loc_df=loc_df.sort_values(by='job openings',ascending=False)[:10]\n",
    "loc_df.style.background_gradient(cmap='inferno')"
   ]
  },
  {
   "cell_type": "code",
   "execution_count": 23,
   "id": "a04a5efb",
   "metadata": {},
   "outputs": [
    {
     "data": {
      "text/plain": [
       "(array([   0., 1000., 2000., 3000., 4000., 5000.]),\n",
       " [Text(0, 0, ''),\n",
       "  Text(0, 0, ''),\n",
       "  Text(0, 0, ''),\n",
       "  Text(0, 0, ''),\n",
       "  Text(0, 0, ''),\n",
       "  Text(0, 0, '')])"
      ]
     },
     "execution_count": 23,
     "metadata": {},
     "output_type": "execute_result"
    },
    {
     "data": {
      "image/png": "[encoded data removed]",
      "text/plain": [
       "<Figure size 720x360 with 1 Axes>"
      ]
     },
     "metadata": {
      "needs_background": "light"
     },
     "output_type": "display_data"
    }
   ],
   "source": [
    "bar_graph = pd.DataFrame({'location':['Banglore', 'Pune', 'Hyderabad','Mumbai','Chennai','Gurgaon','Delhi','Noida','Kolkata','Ahemdabad'], 'Job openings':[4753, 2047, 1960,1462,1301,1255,782,545,291,222]})\n",
    "ax = bar_graph.plot.bar(x='location', y='Job openings', rot=0)\n",
    "plt.gcf().set_size_inches(10, 5)\n",
    "plt.yticks(\n",
    "    horizontalalignment='right',\n",
    "    fontweight='light',\n",
    "    fontsize='large'  \n",
    ")"
   ]
  },
  {
   "cell_type": "code",
   "execution_count": 12,
   "id": "1a44c5dc",
   "metadata": {},
   "outputs": [
    {
     "data": {
      "text/html": [
       "<style type=\"text/css\">\n",
       "#T_946dd_row0_col1 {\n",
       "  background-color: #2f1436;\n",
       "  color: #f1f1f1;\n",
       "}\n",
       "#T_946dd_row1_col1 {\n",
       "  background-color: #761f4f;\n",
       "  color: #f1f1f1;\n",
       "}\n",
       "#T_946dd_row2_col1 {\n",
       "  background-color: #6887be;\n",
       "  color: #f1f1f1;\n",
       "}\n",
       "#T_946dd_row3_col1 {\n",
       "  background-color: #5f55af;\n",
       "  color: #f1f1f1;\n",
       "}\n",
       "#T_946dd_row4_col1 {\n",
       "  background-color: #5c389d;\n",
       "  color: #f1f1f1;\n",
       "}\n",
       "#T_946dd_row5_col1 {\n",
       "  background-color: #4d176d;\n",
       "  color: #f1f1f1;\n",
       "}\n",
       "#T_946dd_row6_col1 {\n",
       "  background-color: #401253;\n",
       "  color: #f1f1f1;\n",
       "}\n",
       "#T_946dd_row7_col1 {\n",
       "  background-color: #3a1148;\n",
       "  color: #f1f1f1;\n",
       "}\n",
       "#T_946dd_row8_col1 {\n",
       "  background-color: #361142;\n",
       "  color: #f1f1f1;\n",
       "}\n",
       "#T_946dd_row9_col1 {\n",
       "  background-color: #301437;\n",
       "  color: #f1f1f1;\n",
       "}\n",
       "</style>\n",
       "<table id=\"T_946dd\">\n",
       "  <thead>\n",
       "    <tr>\n",
       "      <th class=\"blank level0\" >&nbsp;</th>\n",
       "      <th id=\"T_946dd_level0_col0\" class=\"col_heading level0 col0\" >Skill</th>\n",
       "      <th id=\"T_946dd_level0_col1\" class=\"col_heading level0 col1\" >Frequency</th>\n",
       "    </tr>\n",
       "  </thead>\n",
       "  <tbody>\n",
       "    <tr>\n",
       "      <th id=\"T_946dd_level0_row0\" class=\"row_heading level0 row0\" >0</th>\n",
       "      <td id=\"T_946dd_row0_col0\" class=\"data row0 col0\" >python</td>\n",
       "      <td id=\"T_946dd_row0_col1\" class=\"data row0 col1\" >3152</td>\n",
       "    </tr>\n",
       "    <tr>\n",
       "      <th id=\"T_946dd_level0_row1\" class=\"row_heading level0 row1\" >4</th>\n",
       "      <td id=\"T_946dd_row1_col0\" class=\"data row1 col0\" >it skills</td>\n",
       "      <td id=\"T_946dd_row1_col1\" class=\"data row1 col1\" >2907</td>\n",
       "    </tr>\n",
       "    <tr>\n",
       "      <th id=\"T_946dd_level0_row2\" class=\"row_heading level0 row2\" >3</th>\n",
       "      <td id=\"T_946dd_row2_col0\" class=\"data row2 col0\" >machine learning</td>\n",
       "      <td id=\"T_946dd_row2_col1\" class=\"data row2 col1\" >1780</td>\n",
       "    </tr>\n",
       "    <tr>\n",
       "      <th id=\"T_946dd_level0_row3\" class=\"row_heading level0 row3\" >20</th>\n",
       "      <td id=\"T_946dd_row3_col0\" class=\"data row3 col0\" >data analysis</td>\n",
       "      <td id=\"T_946dd_row3_col1\" class=\"data row3 col1\" >1614</td>\n",
       "    </tr>\n",
       "    <tr>\n",
       "      <th id=\"T_946dd_level0_row4\" class=\"row_heading level0 row4\" >47</th>\n",
       "      <td id=\"T_946dd_row4_col0\" class=\"data row4 col0\" >sql</td>\n",
       "      <td id=\"T_946dd_row4_col1\" class=\"data row4 col1\" >1525</td>\n",
       "    </tr>\n",
       "    <tr>\n",
       "      <th id=\"T_946dd_level0_row5\" class=\"row_heading level0 row5\" >22</th>\n",
       "      <td id=\"T_946dd_row5_col0\" class=\"data row5 col0\" >big data</td>\n",
       "      <td id=\"T_946dd_row5_col1\" class=\"data row5 col1\" >1396</td>\n",
       "    </tr>\n",
       "    <tr>\n",
       "      <th id=\"T_946dd_level0_row6\" class=\"row_heading level0 row6\" >23</th>\n",
       "      <td id=\"T_946dd_row6_col0\" class=\"data row6 col0\" >computer science</td>\n",
       "      <td id=\"T_946dd_row6_col1\" class=\"data row6 col1\" >1339</td>\n",
       "    </tr>\n",
       "    <tr>\n",
       "      <th id=\"T_946dd_level0_row7\" class=\"row_heading level0 row7\" >87</th>\n",
       "      <td id=\"T_946dd_row7_col0\" class=\"data row7 col0\" >analytical</td>\n",
       "      <td id=\"T_946dd_row7_col1\" class=\"data row7 col1\" >1306</td>\n",
       "    </tr>\n",
       "    <tr>\n",
       "      <th id=\"T_946dd_level0_row8\" class=\"row_heading level0 row8\" >8</th>\n",
       "      <td id=\"T_946dd_row8_col0\" class=\"data row8 col0\" >data science</td>\n",
       "      <td id=\"T_946dd_row8_col1\" class=\"data row8 col1\" >1288</td>\n",
       "    </tr>\n",
       "    <tr>\n",
       "      <th id=\"T_946dd_level0_row9\" class=\"row_heading level0 row9\" >15</th>\n",
       "      <td id=\"T_946dd_row9_col0\" class=\"data row9 col0\" >cloud</td>\n",
       "      <td id=\"T_946dd_row9_col1\" class=\"data row9 col1\" >1242</td>\n",
       "    </tr>\n",
       "  </tbody>\n",
       "</table>\n"
      ],
      "text/plain": [
       "<pandas.io.formats.style.Styler at 0x285447d9310>"
      ]
     },
     "execution_count": 12,
     "metadata": {},
     "output_type": "execute_result"
    }
   ],
   "source": [
    "# Top 10 demanding skills in data science jobs\n",
    "skills=[j.lower() for i in data['Skills/Description'] for j in i.split(', ')]\n",
    "fdist = FreqDist(skills)\n",
    "skill_df=pd.DataFrame(fdist.items(), \n",
    "                      columns=['Skill', 'Frequency']\n",
    "                    ).sort_values('Frequency', ascending=False)[:10]\n",
    "skill_df.style.background_gradient(cmap='twilight_shifted')"
   ]
  },
  {
   "cell_type": "code",
   "execution_count": 13,
   "id": "b8a5fc5b",
   "metadata": {},
   "outputs": [
    {
     "data": {
      "text/plain": [
       "(array([   0.,  500., 1000., 1500., 2000., 2500., 3000., 3500.]),\n",
       " [Text(0, 0, ''),\n",
       "  Text(0, 0, ''),\n",
       "  Text(0, 0, ''),\n",
       "  Text(0, 0, ''),\n",
       "  Text(0, 0, ''),\n",
       "  Text(0, 0, ''),\n",
       "  Text(0, 0, ''),\n",
       "  Text(0, 0, '')])"
      ]
     },
     "execution_count": 13,
     "metadata": {},
     "output_type": "execute_result"
    },
    {
     "data": {
      "image/png": "[encoded data removed]",
      "text/plain": [
       "<Figure size 1224x360 with 1 Axes>"
      ]
     },
     "metadata": {
      "needs_background": "light"
     },
     "output_type": "display_data"
    }
   ],
   "source": [
    "bar_graph = pd.DataFrame({'Skills':['Python', 'IT skills', 'Machine Learning','data analysis','sql','big data','computer science','analytical','data science','cloud'], 'Demand':[3152, 2907, 1780,1614,1525,1396,1339,1306,1288,1242]})\n",
    "ax = bar_graph.plot.bar(x='Skills', y='Demand', rot=0)\n",
    "plt.gcf().set_size_inches(17,5)\n",
    "plt.yticks(\n",
    "    horizontalalignment='right',\n",
    "    fontweight='light',\n",
    "    fontsize='large'  \n",
    ")"
   ]
  },
  {
   "cell_type": "code",
   "execution_count": 14,
   "id": "8a580bb2",
   "metadata": {},
   "outputs": [
    {
     "name": "stdout",
     "output_type": "stream",
     "text": [
      "There are total 3507 companies\n"
     ]
    }
   ],
   "source": [
    "# Number of companies\n",
    "print('There are total', data['Company'].nunique(),'companies')"
   ]
  },
  {
   "cell_type": "code",
   "execution_count": 15,
   "id": "233f6929",
   "metadata": {},
   "outputs": [
    {
     "data": {
      "text/html": [
       "<style type=\"text/css\">\n",
       "#T_44e34_row0_col1 {\n",
       "  background-color: #ffc77f;\n",
       "  color: #000000;\n",
       "}\n",
       "#T_44e34_row1_col1 {\n",
       "  background-color: #b27048;\n",
       "  color: #f1f1f1;\n",
       "}\n",
       "#T_44e34_row2_col1 {\n",
       "  background-color: #a86a44;\n",
       "  color: #f1f1f1;\n",
       "}\n",
       "#T_44e34_row3_col1 {\n",
       "  background-color: #a16641;\n",
       "  color: #f1f1f1;\n",
       "}\n",
       "#T_44e34_row4_col1 {\n",
       "  background-color: #110b07;\n",
       "  color: #f1f1f1;\n",
       "}\n",
       "#T_44e34_row5_col1 {\n",
       "  background-color: #090503;\n",
       "  color: #f1f1f1;\n",
       "}\n",
       "#T_44e34_row6_col1 {\n",
       "  background-color: #000000;\n",
       "  color: #f1f1f1;\n",
       "}\n",
       "</style>\n",
       "<table id=\"T_44e34\">\n",
       "  <thead>\n",
       "    <tr>\n",
       "      <th class=\"blank level0\" >&nbsp;</th>\n",
       "      <th id=\"T_44e34_level0_col0\" class=\"col_heading level0 col0\" >Company</th>\n",
       "      <th id=\"T_44e34_level0_col1\" class=\"col_heading level0 col1\" >Job Openings</th>\n",
       "    </tr>\n",
       "  </thead>\n",
       "  <tbody>\n",
       "    <tr>\n",
       "      <th id=\"T_44e34_level0_row0\" class=\"row_heading level0 row0\" >0</th>\n",
       "      <td id=\"T_44e34_row0_col0\" class=\"data row0 col0\" >Accenture</td>\n",
       "      <td id=\"T_44e34_row0_col1\" class=\"data row0 col1\" >490</td>\n",
       "    </tr>\n",
       "    <tr>\n",
       "      <th id=\"T_44e34_level0_row1\" class=\"row_heading level0 row1\" >1</th>\n",
       "      <td id=\"T_44e34_row1_col0\" class=\"data row1 col0\" >IBM</td>\n",
       "      <td id=\"T_44e34_row1_col1\" class=\"data row1 col1\" >316</td>\n",
       "    </tr>\n",
       "    <tr>\n",
       "      <th id=\"T_44e34_level0_row2\" class=\"row_heading level0 row2\" >2</th>\n",
       "      <td id=\"T_44e34_row2_col0\" class=\"data row2 col0\" >Infostretch solutions Pvt. Ltd.</td>\n",
       "      <td id=\"T_44e34_row2_col1\" class=\"data row2 col1\" >304</td>\n",
       "    </tr>\n",
       "    <tr>\n",
       "      <th id=\"T_44e34_level0_row3\" class=\"row_heading level0 row3\" >3</th>\n",
       "      <td id=\"T_44e34_row3_col0\" class=\"data row3 col0\" >Huquo Consulting Pvt. Ltd</td>\n",
       "      <td id=\"T_44e34_row3_col1\" class=\"data row3 col1\" >295</td>\n",
       "    </tr>\n",
       "    <tr>\n",
       "      <th id=\"T_44e34_level0_row4\" class=\"row_heading level0 row4\" >4</th>\n",
       "      <td id=\"T_44e34_row4_col0\" class=\"data row4 col0\" >Anicalls</td>\n",
       "      <td id=\"T_44e34_row4_col1\" class=\"data row4 col1\" >115</td>\n",
       "    </tr>\n",
       "    <tr>\n",
       "      <th id=\"T_44e34_level0_row5\" class=\"row_heading level0 row5\" >5</th>\n",
       "      <td id=\"T_44e34_row5_col0\" class=\"data row5 col0\" >BNY Mellon</td>\n",
       "      <td id=\"T_44e34_row5_col1\" class=\"data row5 col1\" >103</td>\n",
       "    </tr>\n",
       "    <tr>\n",
       "      <th id=\"T_44e34_level0_row6\" class=\"row_heading level0 row6\" >6</th>\n",
       "      <td id=\"T_44e34_row6_col0\" class=\"data row6 col0\" >Microsoft</td>\n",
       "      <td id=\"T_44e34_row6_col1\" class=\"data row6 col1\" >92</td>\n",
       "    </tr>\n",
       "  </tbody>\n",
       "</table>\n"
      ],
      "text/plain": [
       "<pandas.io.formats.style.Styler at 0x28547656c10>"
      ]
     },
     "execution_count": 15,
     "metadata": {},
     "output_type": "execute_result"
    }
   ],
   "source": [
    "# top 10 companies\n",
    "df_company=data['Company'].value_counts()[:7].rename_axis('Company').reset_index(name='Job Openings')\n",
    "df_company.style.background_gradient(cmap='copper')"
   ]
  },
  {
   "cell_type": "code",
   "execution_count": 49,
   "id": "fd48875d",
   "metadata": {},
   "outputs": [
    {
     "name": "stderr",
     "output_type": "stream",
     "text": [
      "C:\\Users\\Ayush\\AppData\\Local\\Temp\\ipykernel_8856\\1184236802.py:12: FutureWarning:\n",
      "\n",
      "The frame.append method is deprecated and will be removed from pandas in a future version. Use pandas.concat instead.\n",
      "\n",
      "C:\\Users\\Ayush\\AppData\\Local\\Temp\\ipykernel_8856\\1184236802.py:12: FutureWarning:\n",
      "\n",
      "The frame.append method is deprecated and will be removed from pandas in a future version. Use pandas.concat instead.\n",
      "\n",
      "C:\\Users\\Ayush\\AppData\\Local\\Temp\\ipykernel_8856\\1184236802.py:12: FutureWarning:\n",
      "\n",
      "The frame.append method is deprecated and will be removed from pandas in a future version. Use pandas.concat instead.\n",
      "\n",
      "C:\\Users\\Ayush\\AppData\\Local\\Temp\\ipykernel_8856\\1184236802.py:12: FutureWarning:\n",
      "\n",
      "The frame.append method is deprecated and will be removed from pandas in a future version. Use pandas.concat instead.\n",
      "\n",
      "C:\\Users\\Ayush\\AppData\\Local\\Temp\\ipykernel_8856\\1184236802.py:12: FutureWarning:\n",
      "\n",
      "The frame.append method is deprecated and will be removed from pandas in a future version. Use pandas.concat instead.\n",
      "\n",
      "C:\\Users\\Ayush\\AppData\\Local\\Temp\\ipykernel_8856\\1184236802.py:12: FutureWarning:\n",
      "\n",
      "The frame.append method is deprecated and will be removed from pandas in a future version. Use pandas.concat instead.\n",
      "\n",
      "C:\\Users\\Ayush\\AppData\\Local\\Temp\\ipykernel_8856\\1184236802.py:12: FutureWarning:\n",
      "\n",
      "The frame.append method is deprecated and will be removed from pandas in a future version. Use pandas.concat instead.\n",
      "\n",
      "C:\\Users\\Ayush\\anaconda3\\lib\\site-packages\\plotly\\express\\_core.py:1637: FutureWarning:\n",
      "\n",
      "The frame.append method is deprecated and will be removed from pandas in a future version. Use pandas.concat instead.\n",
      "\n",
      "C:\\Users\\Ayush\\anaconda3\\lib\\site-packages\\plotly\\express\\_core.py:1637: FutureWarning:\n",
      "\n",
      "The frame.append method is deprecated and will be removed from pandas in a future version. Use pandas.concat instead.\n",
      "\n"
     ]
    },
    {
     "data": {
      "application/vnd.plotly.v1+json": {
       "config": {
        "plotlyServerURL": "https://plot.ly"
       },
       "data": [
        {
         "branchvalues": "total",
         "domain": {
          "x": [
           0,
           1
          ],
          "y": [
           0,
           1
          ]
         },
         "hovertemplate": "labels=%{label}<br>count=%{value}<br>parent=%{parent}<br>id=%{id}<extra></extra>",
         "ids": [
          "Huquo Consulting Pvt. Ltd/Analyst - Data Science - Python/Machine Learning/Analytics",
          "Anicalls/Artificial Intelligence Data Engineer",
          "Huquo Consulting Pvt. Ltd/Assistant Manager/Manager/Senior Manager - Data Scientist",
          "Huquo Consulting Pvt. Ltd/Associate Vice President- Analytics/Data Science- IIM/IIT/XLRI/FMS/NIT",
          "Microsoft/Data & Applied Scientist",
          "Infostretch solutions Pvt. Ltd./Data Engineer",
          "IBM/Data Engineer: Big Data",
          "IBM/Data Engineer: Data Integration",
          "IBM/Data Engineer: Data Modeling",
          "IBM/Data Engineer: Enterprise Content Management",
          "Accenture/Data Engineering Application Developer",
          "Accenture/Data Engineering Application Lead",
          "Anicalls/Data Mining Analyst",
          "Huquo Consulting Pvt. Ltd/Data Scientist - Insurance - IIM/ IIT/ NIT",
          "IBM/Data Scientist: Artificial Intelligence",
          "BNY Mellon/Ld. Front-End Dev",
          "BNY Mellon/Ld. Full-Stack Dev",
          "Anicalls/Lead Data Engineer",
          "Huquo Consulting Pvt. Ltd/Manager - Data Scientist - Analytics",
          "Accenture/Senior Analyst-Data Maintenance",
          "Accenture/Senior Analyst-Data Management",
          "Accenture/Senior Analyst-Data Visualization",
          "Anicalls/Senior Business Systems Analyst, En...",
          "Microsoft/Senior Data & Applied Scientist",
          "Anicalls/Senior Data Engineer",
          "Infostretch solutions Pvt. Ltd./Senior Data Engineer",
          "Infostretch solutions Pvt. Ltd./Senior Software Engineer",
          "Microsoft/Senior Software Engineer",
          "Infostretch solutions Pvt. Ltd./Senior Technical Lead (Data Engineer)",
          "Infostretch solutions Pvt. Ltd./Senior Technical Lead - Data Engineer",
          "Microsoft/Software Engineer",
          "Microsoft/Software Engineer II",
          "BNY Mellon/Spec, Full-Stack Dev",
          "BNY Mellon/Sr. Full-Stack Dev",
          "BNY Mellon/Sr. Spec, Back-End Dev",
          "Accenture",
          "Anicalls",
          "BNY Mellon",
          "Huquo Consulting Pvt. Ltd",
          "IBM",
          "Infostretch solutions Pvt. Ltd.",
          "Microsoft"
         ],
         "labels": [
          "Analyst - Data Science - Python/Machine Learning/Analytics",
          "Artificial Intelligence Data Engineer",
          "Assistant Manager/Manager/Senior Manager - Data Scientist",
          "Associate Vice President- Analytics/Data Science- IIM/IIT/XLRI/FMS/NIT",
          "Data & Applied Scientist",
          "Data Engineer",
          "Data Engineer: Big Data",
          "Data Engineer: Data Integration",
          "Data Engineer: Data Modeling",
          "Data Engineer: Enterprise Content Management",
          "Data Engineering Application Developer",
          "Data Engineering Application Lead",
          "Data Mining Analyst",
          "Data Scientist - Insurance - IIM/ IIT/ NIT",
          "Data Scientist: Artificial Intelligence",
          "Ld. Front-End Dev",
          "Ld. Full-Stack Dev",
          "Lead Data Engineer",
          "Manager - Data Scientist - Analytics",
          "Senior Analyst-Data Maintenance",
          "Senior Analyst-Data Management",
          "Senior Analyst-Data Visualization",
          "Senior Business Systems Analyst, En...",
          "Senior Data & Applied Scientist",
          "Senior Data Engineer",
          "Senior Data Engineer",
          "Senior Software Engineer",
          "Senior Software Engineer",
          "Senior Technical Lead (Data Engineer)",
          "Senior Technical Lead - Data Engineer",
          "Software Engineer",
          "Software Engineer II",
          "Spec, Full-Stack Dev",
          "Sr. Full-Stack Dev",
          "Sr. Spec, Back-End Dev",
          "Accenture",
          "Anicalls",
          "BNY Mellon",
          "Huquo Consulting Pvt. Ltd",
          "IBM",
          "Infostretch solutions Pvt. Ltd.",
          "Microsoft"
         ],
         "name": "",
         "parents": [
          "Huquo Consulting Pvt. Ltd",
          "Anicalls",
          "Huquo Consulting Pvt. Ltd",
          "Huquo Consulting Pvt. Ltd",
          "Microsoft",
          "Infostretch solutions Pvt. Ltd.",
          "IBM",
          "IBM",
          "IBM",
          "IBM",
          "Accenture",
          "Accenture",
          "Anicalls",
          "Huquo Consulting Pvt. Ltd",
          "IBM",
          "BNY Mellon",
          "BNY Mellon",
          "Anicalls",
          "Huquo Consulting Pvt. Ltd",
          "Accenture",
          "Accenture",
          "Accenture",
          "Anicalls",
          "Microsoft",
          "Anicalls",
          "Infostretch solutions Pvt. Ltd.",
          "Infostretch solutions Pvt. Ltd.",
          "Microsoft",
          "Infostretch solutions Pvt. Ltd.",
          "Infostretch solutions Pvt. Ltd.",
          "Microsoft",
          "Microsoft",
          "BNY Mellon",
          "BNY Mellon",
          "BNY Mellon",
          "",
          "",
          "",
          "",
          "",
          "",
          ""
         ],
         "type": "sunburst",
         "values": [
          1,
          1,
          1,
          1,
          1,
          1,
          1,
          1,
          1,
          1,
          1,
          1,
          1,
          1,
          1,
          1,
          1,
          1,
          1,
          1,
          1,
          1,
          1,
          1,
          1,
          1,
          1,
          1,
          1,
          1,
          1,
          1,
          1,
          1,
          1,
          5,
          5,
          5,
          5,
          5,
          5,
          5
         ]
        }
       ],
       "layout": {
        "autosize": false,
        "height": 920,
        "legend": {
         "tracegroupgap": 0
        },
        "margin": {
         "t": 60
        },
        "template": {
         "data": {
          "bar": [
           {
            "error_x": {
             "color": "#2a3f5f"
            },
            "error_y": {
             "color": "#2a3f5f"
            },
            "marker": {
             "line": {
              "color": "#E5ECF6",
              "width": 0.5
             },
             "pattern": {
              "fillmode": "overlay",
              "size": 10,
              "solidity": 0.2
             }
            },
            "type": "bar"
           }
          ],
          "barpolar": [
           {
            "marker": {
             "line": {
              "color": "#E5ECF6",
              "width": 0.5
             },
             "pattern": {
              "fillmode": "overlay",
              "size": 10,
              "solidity": 0.2
             }
            },
            "type": "barpolar"
           }
          ],
          "carpet": [
           {
            "aaxis": {
             "endlinecolor": "#2a3f5f",
             "gridcolor": "white",
             "linecolor": "white",
             "minorgridcolor": "white",
             "startlinecolor": "#2a3f5f"
            },
            "baxis": {
             "endlinecolor": "#2a3f5f",
             "gridcolor": "white",
             "linecolor": "white",
             "minorgridcolor": "white",
             "startlinecolor": "#2a3f5f"
            },
            "type": "carpet"
           }
          ],
          "choropleth": [
           {
            "colorbar": {
             "outlinewidth": 0,
             "ticks": ""
            },
            "type": "choropleth"
           }
          ],
          "contour": [
           {
            "colorbar": {
             "outlinewidth": 0,
             "ticks": ""
            },
            "colorscale": [
             [
              0,
              "#0d0887"
             ],
             [
              0.1111111111111111,
              "#46039f"
             ],
             [
              0.2222222222222222,
              "#7201a8"
             ],
             [
              0.3333333333333333,
              "#9c179e"
             ],
             [
              0.4444444444444444,
              "#bd3786"
             ],
             [
              0.5555555555555556,
              "#d8576b"
             ],
             [
              0.6666666666666666,
              "#ed7953"
             ],
             [
              0.7777777777777778,
              "#fb9f3a"
             ],
             [
              0.8888888888888888,
              "#fdca26"
             ],
             [
              1,
              "#f0f921"
             ]
            ],
            "type": "contour"
           }
          ],
          "contourcarpet": [
           {
            "colorbar": {
             "outlinewidth": 0,
             "ticks": ""
            },
            "type": "contourcarpet"
           }
          ],
          "heatmap": [
           {
            "colorbar": {
             "outlinewidth": 0,
             "ticks": ""
            },
            "colorscale": [
             [
              0,
              "#0d0887"
             ],
             [
              0.1111111111111111,
              "#46039f"
             ],
             [
              0.2222222222222222,
              "#7201a8"
             ],
             [
              0.3333333333333333,
              "#9c179e"
             ],
             [
              0.4444444444444444,
              "#bd3786"
             ],
             [
              0.5555555555555556,
              "#d8576b"
             ],
             [
              0.6666666666666666,
              "#ed7953"
             ],
             [
              0.7777777777777778,
              "#fb9f3a"
             ],
             [
              0.8888888888888888,
              "#fdca26"
             ],
             [
              1,
              "#f0f921"
             ]
            ],
            "type": "heatmap"
           }
          ],
          "heatmapgl": [
           {
            "colorbar": {
             "outlinewidth": 0,
             "ticks": ""
            },
            "colorscale": [
             [
              0,
              "#0d0887"
             ],
             [
              0.1111111111111111,
              "#46039f"
             ],
             [
              0.2222222222222222,
              "#7201a8"
             ],
             [
              0.3333333333333333,
              "#9c179e"
             ],
             [
              0.4444444444444444,
              "#bd3786"
             ],
             [
              0.5555555555555556,
              "#d8576b"
             ],
             [
              0.6666666666666666,
              "#ed7953"
             ],
             [
              0.7777777777777778,
              "#fb9f3a"
             ],
             [
              0.8888888888888888,
              "#fdca26"
             ],
             [
              1,
              "#f0f921"
             ]
            ],
            "type": "heatmapgl"
           }
          ],
          "histogram": [
           {
            "marker": {
             "pattern": {
              "fillmode": "overlay",
              "size": 10,
              "solidity": 0.2
             }
            },
            "type": "histogram"
           }
          ],
          "histogram2d": [
           {
            "colorbar": {
             "outlinewidth": 0,
             "ticks": ""
            },
            "colorscale": [
             [
              0,
              "#0d0887"
             ],
             [
              0.1111111111111111,
              "#46039f"
             ],
             [
              0.2222222222222222,
              "#7201a8"
             ],
             [
              0.3333333333333333,
              "#9c179e"
             ],
             [
              0.4444444444444444,
              "#bd3786"
             ],
             [
              0.5555555555555556,
              "#d8576b"
             ],
             [
              0.6666666666666666,
              "#ed7953"
             ],
             [
              0.7777777777777778,
              "#fb9f3a"
             ],
             [
              0.8888888888888888,
              "#fdca26"
             ],
             [
              1,
              "#f0f921"
             ]
            ],
            "type": "histogram2d"
           }
          ],
          "histogram2dcontour": [
           {
            "colorbar": {
             "outlinewidth": 0,
             "ticks": ""
            },
            "colorscale": [
             [
              0,
              "#0d0887"
             ],
             [
              0.1111111111111111,
              "#46039f"
             ],
             [
              0.2222222222222222,
              "#7201a8"
             ],
             [
              0.3333333333333333,
              "#9c179e"
             ],
             [
              0.4444444444444444,
              "#bd3786"
             ],
             [
              0.5555555555555556,
              "#d8576b"
             ],
             [
              0.6666666666666666,
              "#ed7953"
             ],
             [
              0.7777777777777778,
              "#fb9f3a"
             ],
             [
              0.8888888888888888,
              "#fdca26"
             ],
             [
              1,
              "#f0f921"
             ]
            ],
            "type": "histogram2dcontour"
           }
          ],
          "mesh3d": [
           {
            "colorbar": {
             "outlinewidth": 0,
             "ticks": ""
            },
            "type": "mesh3d"
           }
          ],
          "parcoords": [
           {
            "line": {
             "colorbar": {
              "outlinewidth": 0,
              "ticks": ""
             }
            },
            "type": "parcoords"
           }
          ],
          "pie": [
           {
            "automargin": true,
            "type": "pie"
           }
          ],
          "scatter": [
           {
            "marker": {
             "colorbar": {
              "outlinewidth": 0,
              "ticks": ""
             }
            },
            "type": "scatter"
           }
          ],
          "scatter3d": [
           {
            "line": {
             "colorbar": {
              "outlinewidth": 0,
              "ticks": ""
             }
            },
            "marker": {
             "colorbar": {
              "outlinewidth": 0,
              "ticks": ""
             }
            },
            "type": "scatter3d"
           }
          ],
          "scattercarpet": [
           {
            "marker": {
             "colorbar": {
              "outlinewidth": 0,
              "ticks": ""
             }
            },
            "type": "scattercarpet"
           }
          ],
          "scattergeo": [
           {
            "marker": {
             "colorbar": {
              "outlinewidth": 0,
              "ticks": ""
             }
            },
            "type": "scattergeo"
           }
          ],
          "scattergl": [
           {
            "marker": {
             "colorbar": {
              "outlinewidth": 0,
              "ticks": ""
             }
            },
            "type": "scattergl"
           }
          ],
          "scattermapbox": [
           {
            "marker": {
             "colorbar": {
              "outlinewidth": 0,
              "ticks": ""
             }
            },
            "type": "scattermapbox"
           }
          ],
          "scatterpolar": [
           {
            "marker": {
             "colorbar": {
              "outlinewidth": 0,
              "ticks": ""
             }
            },
            "type": "scatterpolar"
           }
          ],
          "scatterpolargl": [
           {
            "marker": {
             "colorbar": {
              "outlinewidth": 0,
              "ticks": ""
             }
            },
            "type": "scatterpolargl"
           }
          ],
          "scatterternary": [
           {
            "marker": {
             "colorbar": {
              "outlinewidth": 0,
              "ticks": ""
             }
            },
            "type": "scatterternary"
           }
          ],
          "surface": [
           {
            "colorbar": {
             "outlinewidth": 0,
             "ticks": ""
            },
            "colorscale": [
             [
              0,
              "#0d0887"
             ],
             [
              0.1111111111111111,
              "#46039f"
             ],
             [
              0.2222222222222222,
              "#7201a8"
             ],
             [
              0.3333333333333333,
              "#9c179e"
             ],
             [
              0.4444444444444444,
              "#bd3786"
             ],
             [
              0.5555555555555556,
              "#d8576b"
             ],
             [
              0.6666666666666666,
              "#ed7953"
             ],
             [
              0.7777777777777778,
              "#fb9f3a"
             ],
             [
              0.8888888888888888,
              "#fdca26"
             ],
             [
              1,
              "#f0f921"
             ]
            ],
            "type": "surface"
           }
          ],
          "table": [
           {
            "cells": {
             "fill": {
              "color": "#EBF0F8"
             },
             "line": {
              "color": "white"
             }
            },
            "header": {
             "fill": {
              "color": "#C8D4E3"
             },
             "line": {
              "color": "white"
             }
            },
            "type": "table"
           }
          ]
         },
         "layout": {
          "annotationdefaults": {
           "arrowcolor": "#2a3f5f",
           "arrowhead": 0,
           "arrowwidth": 1
          },
          "autotypenumbers": "strict",
          "coloraxis": {
           "colorbar": {
            "outlinewidth": 0,
            "ticks": ""
           }
          },
          "colorscale": {
           "diverging": [
            [
             0,
             "#8e0152"
            ],
            [
             0.1,
             "#c51b7d"
            ],
            [
             0.2,
             "#de77ae"
            ],
            [
             0.3,
             "#f1b6da"
            ],
            [
             0.4,
             "#fde0ef"
            ],
            [
             0.5,
             "#f7f7f7"
            ],
            [
             0.6,
             "#e6f5d0"
            ],
            [
             0.7,
             "#b8e186"
            ],
            [
             0.8,
             "#7fbc41"
            ],
            [
             0.9,
             "#4d9221"
            ],
            [
             1,
             "#276419"
            ]
           ],
           "sequential": [
            [
             0,
             "#0d0887"
            ],
            [
             0.1111111111111111,
             "#46039f"
            ],
            [
             0.2222222222222222,
             "#7201a8"
            ],
            [
             0.3333333333333333,
             "#9c179e"
            ],
            [
             0.4444444444444444,
             "#bd3786"
            ],
            [
             0.5555555555555556,
             "#d8576b"
            ],
            [
             0.6666666666666666,
             "#ed7953"
            ],
            [
             0.7777777777777778,
             "#fb9f3a"
            ],
            [
             0.8888888888888888,
             "#fdca26"
            ],
            [
             1,
             "#f0f921"
            ]
           ],
           "sequentialminus": [
            [
             0,
             "#0d0887"
            ],
            [
             0.1111111111111111,
             "#46039f"
            ],
            [
             0.2222222222222222,
             "#7201a8"
            ],
            [
             0.3333333333333333,
             "#9c179e"
            ],
            [
             0.4444444444444444,
             "#bd3786"
            ],
            [
             0.5555555555555556,
             "#d8576b"
            ],
            [
             0.6666666666666666,
             "#ed7953"
            ],
            [
             0.7777777777777778,
             "#fb9f3a"
            ],
            [
             0.8888888888888888,
             "#fdca26"
            ],
            [
             1,
             "#f0f921"
            ]
           ]
          },
          "colorway": [
           "#636efa",
           "#EF553B",
           "#00cc96",
           "#ab63fa",
           "#FFA15A",
           "#19d3f3",
           "#FF6692",
           "#B6E880",
           "#FF97FF",
           "#FECB52"
          ],
          "font": {
           "color": "#2a3f5f"
          },
          "geo": {
           "bgcolor": "white",
           "lakecolor": "white",
           "landcolor": "#E5ECF6",
           "showlakes": true,
           "showland": true,
           "subunitcolor": "white"
          },
          "hoverlabel": {
           "align": "left"
          },
          "hovermode": "closest",
          "mapbox": {
           "style": "light"
          },
          "paper_bgcolor": "white",
          "plot_bgcolor": "#E5ECF6",
          "polar": {
           "angularaxis": {
            "gridcolor": "white",
            "linecolor": "white",
            "ticks": ""
           },
           "bgcolor": "#E5ECF6",
           "radialaxis": {
            "gridcolor": "white",
            "linecolor": "white",
            "ticks": ""
           }
          },
          "scene": {
           "xaxis": {
            "backgroundcolor": "#E5ECF6",
            "gridcolor": "white",
            "gridwidth": 2,
            "linecolor": "white",
            "showbackground": true,
            "ticks": "",
            "zerolinecolor": "white"
           },
           "yaxis": {
            "backgroundcolor": "#E5ECF6",
            "gridcolor": "white",
            "gridwidth": 2,
            "linecolor": "white",
            "showbackground": true,
            "ticks": "",
            "zerolinecolor": "white"
           },
           "zaxis": {
            "backgroundcolor": "#E5ECF6",
            "gridcolor": "white",
            "gridwidth": 2,
            "linecolor": "white",
            "showbackground": true,
            "ticks": "",
            "zerolinecolor": "white"
           }
          },
          "shapedefaults": {
           "line": {
            "color": "#2a3f5f"
           }
          },
          "ternary": {
           "aaxis": {
            "gridcolor": "white",
            "linecolor": "white",
            "ticks": ""
           },
           "baxis": {
            "gridcolor": "white",
            "linecolor": "white",
            "ticks": ""
           },
           "bgcolor": "#E5ECF6",
           "caxis": {
            "gridcolor": "white",
            "linecolor": "white",
            "ticks": ""
           }
          },
          "title": {
           "x": 0.05
          },
          "xaxis": {
           "automargin": true,
           "gridcolor": "white",
           "linecolor": "white",
           "ticks": "",
           "title": {
            "standoff": 15
           },
           "zerolinecolor": "white",
           "zerolinewidth": 2
          },
          "yaxis": {
           "automargin": true,
           "gridcolor": "white",
           "linecolor": "white",
           "ticks": "",
           "title": {
            "standoff": 15
           },
           "zerolinecolor": "white",
           "zerolinewidth": 2
          }
         }
        },
        "title": {
         "text": "Top Job Providers and Jobs",
         "x": 0.5
        },
        "width": 1200
       }
      },
      "text/html": [
       "<div>                            <div id=\"421be3d7-15be-4e7d-b588-21e6618db4b5\" class=\"plotly-graph-div\" style=\"height:920px; width:1200px;\"></div>            <script type=\"text/javascript\">                require([\"plotly\"], function(Plotly) {                    window.PLOTLYENV=window.PLOTLYENV || {};                                    if (document.getElementById(\"421be3d7-15be-4e7d-b588-21e6618db4b5\")) {                    Plotly.newPlot(                        \"421be3d7-15be-4e7d-b588-21e6618db4b5\",                        [{\"branchvalues\":\"total\",\"domain\":{\"x\":[0.0,1.0],\"y\":[0.0,1.0]},\"hovertemplate\":\"labels=%{label}<br>count=%{value}<br>parent=%{parent}<br>id=%{id}<extra></extra>\",\"ids\":[\"Huquo Consulting Pvt. Ltd/Analyst - Data Science - Python/Machine Learning/Analytics\",\"Anicalls/Artificial Intelligence Data Engineer\",\"Huquo Consulting Pvt. Ltd/Assistant Manager/Manager/Senior Manager - Data Scientist\",\"Huquo Consulting Pvt. Ltd/Associate Vice President- Analytics/Data Science- IIM/IIT/XLRI/FMS/NIT\",\"Microsoft/Data & Applied Scientist\",\"Infostretch solutions Pvt. Ltd./Data Engineer\",\"IBM/Data Engineer: Big Data\",\"IBM/Data Engineer: Data Integration\",\"IBM/Data Engineer: Data Modeling\",\"IBM/Data Engineer: Enterprise Content Management\",\"Accenture/Data Engineering Application Developer\",\"Accenture/Data Engineering Application Lead\",\"Anicalls/Data Mining Analyst\",\"Huquo Consulting Pvt. Ltd/Data Scientist - Insurance - IIM/ IIT/ NIT\",\"IBM/Data Scientist: Artificial Intelligence\",\"BNY Mellon/Ld. Front-End Dev\",\"BNY Mellon/Ld. Full-Stack Dev\",\"Anicalls/Lead Data Engineer\",\"Huquo Consulting Pvt. Ltd/Manager - Data Scientist - Analytics\",\"Accenture/Senior Analyst-Data Maintenance\",\"Accenture/Senior Analyst-Data Management\",\"Accenture/Senior Analyst-Data Visualization\",\"Anicalls/Senior Business Systems Analyst, En...\",\"Microsoft/Senior Data & Applied Scientist\",\"Anicalls/Senior Data Engineer\",\"Infostretch solutions Pvt. Ltd./Senior Data Engineer\",\"Infostretch solutions Pvt. Ltd./Senior Software Engineer\",\"Microsoft/Senior Software Engineer\",\"Infostretch solutions Pvt. Ltd./Senior Technical Lead (Data Engineer)\",\"Infostretch solutions Pvt. Ltd./Senior Technical Lead - Data Engineer\",\"Microsoft/Software Engineer\",\"Microsoft/Software Engineer II\",\"BNY Mellon/Spec, Full-Stack Dev\",\"BNY Mellon/Sr. Full-Stack Dev\",\"BNY Mellon/Sr. Spec, Back-End Dev\",\"Accenture\",\"Anicalls\",\"BNY Mellon\",\"Huquo Consulting Pvt. Ltd\",\"IBM\",\"Infostretch solutions Pvt. Ltd.\",\"Microsoft\"],\"labels\":[\"Analyst - Data Science - Python/Machine Learning/Analytics\",\"Artificial Intelligence Data Engineer\",\"Assistant Manager/Manager/Senior Manager - Data Scientist\",\"Associate Vice President- Analytics/Data Science- IIM/IIT/XLRI/FMS/NIT\",\"Data & Applied Scientist\",\"Data Engineer\",\"Data Engineer: Big Data\",\"Data Engineer: Data Integration\",\"Data Engineer: Data Modeling\",\"Data Engineer: Enterprise Content Management\",\"Data Engineering Application Developer\",\"Data Engineering Application Lead\",\"Data Mining Analyst\",\"Data Scientist - Insurance - IIM/ IIT/ NIT\",\"Data Scientist: Artificial Intelligence\",\"Ld. Front-End Dev\",\"Ld. Full-Stack Dev\",\"Lead Data Engineer\",\"Manager - Data Scientist - Analytics\",\"Senior Analyst-Data Maintenance\",\"Senior Analyst-Data Management\",\"Senior Analyst-Data Visualization\",\"Senior Business Systems Analyst, En...\",\"Senior Data & Applied Scientist\",\"Senior Data Engineer\",\"Senior Data Engineer\",\"Senior Software Engineer\",\"Senior Software Engineer\",\"Senior Technical Lead (Data Engineer)\",\"Senior Technical Lead - Data Engineer\",\"Software Engineer\",\"Software Engineer II\",\"Spec, Full-Stack Dev\",\"Sr. Full-Stack Dev\",\"Sr. Spec, Back-End Dev\",\"Accenture\",\"Anicalls\",\"BNY Mellon\",\"Huquo Consulting Pvt. Ltd\",\"IBM\",\"Infostretch solutions Pvt. Ltd.\",\"Microsoft\"],\"name\":\"\",\"parents\":[\"Huquo Consulting Pvt. Ltd\",\"Anicalls\",\"Huquo Consulting Pvt. Ltd\",\"Huquo Consulting Pvt. Ltd\",\"Microsoft\",\"Infostretch solutions Pvt. Ltd.\",\"IBM\",\"IBM\",\"IBM\",\"IBM\",\"Accenture\",\"Accenture\",\"Anicalls\",\"Huquo Consulting Pvt. Ltd\",\"IBM\",\"BNY Mellon\",\"BNY Mellon\",\"Anicalls\",\"Huquo Consulting Pvt. Ltd\",\"Accenture\",\"Accenture\",\"Accenture\",\"Anicalls\",\"Microsoft\",\"Anicalls\",\"Infostretch solutions Pvt. Ltd.\",\"Infostretch solutions Pvt. Ltd.\",\"Microsoft\",\"Infostretch solutions Pvt. Ltd.\",\"Infostretch solutions Pvt. Ltd.\",\"Microsoft\",\"Microsoft\",\"BNY Mellon\",\"BNY Mellon\",\"BNY Mellon\",\"\",\"\",\"\",\"\",\"\",\"\",\"\"],\"values\":[1,1,1,1,1,1,1,1,1,1,1,1,1,1,1,1,1,1,1,1,1,1,1,1,1,1,1,1,1,1,1,1,1,1,1,5,5,5,5,5,5,5],\"type\":\"sunburst\"}],                        {\"template\":{\"data\":{\"bar\":[{\"error_x\":{\"color\":\"#2a3f5f\"},\"error_y\":{\"color\":\"#2a3f5f\"},\"marker\":{\"line\":{\"color\":\"#E5ECF6\",\"width\":0.5},\"pattern\":{\"fillmode\":\"overlay\",\"size\":10,\"solidity\":0.2}},\"type\":\"bar\"}],\"barpolar\":[{\"marker\":{\"line\":{\"color\":\"#E5ECF6\",\"width\":0.5},\"pattern\":{\"fillmode\":\"overlay\",\"size\":10,\"solidity\":0.2}},\"type\":\"barpolar\"}],\"carpet\":[{\"aaxis\":{\"endlinecolor\":\"#2a3f5f\",\"gridcolor\":\"white\",\"linecolor\":\"white\",\"minorgridcolor\":\"white\",\"startlinecolor\":\"#2a3f5f\"},\"baxis\":{\"endlinecolor\":\"#2a3f5f\",\"gridcolor\":\"white\",\"linecolor\":\"white\",\"minorgridcolor\":\"white\",\"startlinecolor\":\"#2a3f5f\"},\"type\":\"carpet\"}],\"choropleth\":[{\"colorbar\":{\"outlinewidth\":0,\"ticks\":\"\"},\"type\":\"choropleth\"}],\"contour\":[{\"colorbar\":{\"outlinewidth\":0,\"ticks\":\"\"},\"colorscale\":[[0.0,\"#0d0887\"],[0.1111111111111111,\"#46039f\"],[0.2222222222222222,\"#7201a8\"],[0.3333333333333333,\"#9c179e\"],[0.4444444444444444,\"#bd3786\"],[0.5555555555555556,\"#d8576b\"],[0.6666666666666666,\"#ed7953\"],[0.7777777777777778,\"#fb9f3a\"],[0.8888888888888888,\"#fdca26\"],[1.0,\"#f0f921\"]],\"type\":\"contour\"}],\"contourcarpet\":[{\"colorbar\":{\"outlinewidth\":0,\"ticks\":\"\"},\"type\":\"contourcarpet\"}],\"heatmap\":[{\"colorbar\":{\"outlinewidth\":0,\"ticks\":\"\"},\"colorscale\":[[0.0,\"#0d0887\"],[0.1111111111111111,\"#46039f\"],[0.2222222222222222,\"#7201a8\"],[0.3333333333333333,\"#9c179e\"],[0.4444444444444444,\"#bd3786\"],[0.5555555555555556,\"#d8576b\"],[0.6666666666666666,\"#ed7953\"],[0.7777777777777778,\"#fb9f3a\"],[0.8888888888888888,\"#fdca26\"],[1.0,\"#f0f921\"]],\"type\":\"heatmap\"}],\"heatmapgl\":[{\"colorbar\":{\"outlinewidth\":0,\"ticks\":\"\"},\"colorscale\":[[0.0,\"#0d0887\"],[0.1111111111111111,\"#46039f\"],[0.2222222222222222,\"#7201a8\"],[0.3333333333333333,\"#9c179e\"],[0.4444444444444444,\"#bd3786\"],[0.5555555555555556,\"#d8576b\"],[0.6666666666666666,\"#ed7953\"],[0.7777777777777778,\"#fb9f3a\"],[0.8888888888888888,\"#fdca26\"],[1.0,\"#f0f921\"]],\"type\":\"heatmapgl\"}],\"histogram\":[{\"marker\":{\"pattern\":{\"fillmode\":\"overlay\",\"size\":10,\"solidity\":0.2}},\"type\":\"histogram\"}],\"histogram2d\":[{\"colorbar\":{\"outlinewidth\":0,\"ticks\":\"\"},\"colorscale\":[[0.0,\"#0d0887\"],[0.1111111111111111,\"#46039f\"],[0.2222222222222222,\"#7201a8\"],[0.3333333333333333,\"#9c179e\"],[0.4444444444444444,\"#bd3786\"],[0.5555555555555556,\"#d8576b\"],[0.6666666666666666,\"#ed7953\"],[0.7777777777777778,\"#fb9f3a\"],[0.8888888888888888,\"#fdca26\"],[1.0,\"#f0f921\"]],\"type\":\"histogram2d\"}],\"histogram2dcontour\":[{\"colorbar\":{\"outlinewidth\":0,\"ticks\":\"\"},\"colorscale\":[[0.0,\"#0d0887\"],[0.1111111111111111,\"#46039f\"],[0.2222222222222222,\"#7201a8\"],[0.3333333333333333,\"#9c179e\"],[0.4444444444444444,\"#bd3786\"],[0.5555555555555556,\"#d8576b\"],[0.6666666666666666,\"#ed7953\"],[0.7777777777777778,\"#fb9f3a\"],[0.8888888888888888,\"#fdca26\"],[1.0,\"#f0f921\"]],\"type\":\"histogram2dcontour\"}],\"mesh3d\":[{\"colorbar\":{\"outlinewidth\":0,\"ticks\":\"\"},\"type\":\"mesh3d\"}],\"parcoords\":[{\"line\":{\"colorbar\":{\"outlinewidth\":0,\"ticks\":\"\"}},\"type\":\"parcoords\"}],\"pie\":[{\"automargin\":true,\"type\":\"pie\"}],\"scatter\":[{\"marker\":{\"colorbar\":{\"outlinewidth\":0,\"ticks\":\"\"}},\"type\":\"scatter\"}],\"scatter3d\":[{\"line\":{\"colorbar\":{\"outlinewidth\":0,\"ticks\":\"\"}},\"marker\":{\"colorbar\":{\"outlinewidth\":0,\"ticks\":\"\"}},\"type\":\"scatter3d\"}],\"scattercarpet\":[{\"marker\":{\"colorbar\":{\"outlinewidth\":0,\"ticks\":\"\"}},\"type\":\"scattercarpet\"}],\"scattergeo\":[{\"marker\":{\"colorbar\":{\"outlinewidth\":0,\"ticks\":\"\"}},\"type\":\"scattergeo\"}],\"scattergl\":[{\"marker\":{\"colorbar\":{\"outlinewidth\":0,\"ticks\":\"\"}},\"type\":\"scattergl\"}],\"scattermapbox\":[{\"marker\":{\"colorbar\":{\"outlinewidth\":0,\"ticks\":\"\"}},\"type\":\"scattermapbox\"}],\"scatterpolar\":[{\"marker\":{\"colorbar\":{\"outlinewidth\":0,\"ticks\":\"\"}},\"type\":\"scatterpolar\"}],\"scatterpolargl\":[{\"marker\":{\"colorbar\":{\"outlinewidth\":0,\"ticks\":\"\"}},\"type\":\"scatterpolargl\"}],\"scatterternary\":[{\"marker\":{\"colorbar\":{\"outlinewidth\":0,\"ticks\":\"\"}},\"type\":\"scatterternary\"}],\"surface\":[{\"colorbar\":{\"outlinewidth\":0,\"ticks\":\"\"},\"colorscale\":[[0.0,\"#0d0887\"],[0.1111111111111111,\"#46039f\"],[0.2222222222222222,\"#7201a8\"],[0.3333333333333333,\"#9c179e\"],[0.4444444444444444,\"#bd3786\"],[0.5555555555555556,\"#d8576b\"],[0.6666666666666666,\"#ed7953\"],[0.7777777777777778,\"#fb9f3a\"],[0.8888888888888888,\"#fdca26\"],[1.0,\"#f0f921\"]],\"type\":\"surface\"}],\"table\":[{\"cells\":{\"fill\":{\"color\":\"#EBF0F8\"},\"line\":{\"color\":\"white\"}},\"header\":{\"fill\":{\"color\":\"#C8D4E3\"},\"line\":{\"color\":\"white\"}},\"type\":\"table\"}]},\"layout\":{\"annotationdefaults\":{\"arrowcolor\":\"#2a3f5f\",\"arrowhead\":0,\"arrowwidth\":1},\"autotypenumbers\":\"strict\",\"coloraxis\":{\"colorbar\":{\"outlinewidth\":0,\"ticks\":\"\"}},\"colorscale\":{\"diverging\":[[0,\"#8e0152\"],[0.1,\"#c51b7d\"],[0.2,\"#de77ae\"],[0.3,\"#f1b6da\"],[0.4,\"#fde0ef\"],[0.5,\"#f7f7f7\"],[0.6,\"#e6f5d0\"],[0.7,\"#b8e186\"],[0.8,\"#7fbc41\"],[0.9,\"#4d9221\"],[1,\"#276419\"]],\"sequential\":[[0.0,\"#0d0887\"],[0.1111111111111111,\"#46039f\"],[0.2222222222222222,\"#7201a8\"],[0.3333333333333333,\"#9c179e\"],[0.4444444444444444,\"#bd3786\"],[0.5555555555555556,\"#d8576b\"],[0.6666666666666666,\"#ed7953\"],[0.7777777777777778,\"#fb9f3a\"],[0.8888888888888888,\"#fdca26\"],[1.0,\"#f0f921\"]],\"sequentialminus\":[[0.0,\"#0d0887\"],[0.1111111111111111,\"#46039f\"],[0.2222222222222222,\"#7201a8\"],[0.3333333333333333,\"#9c179e\"],[0.4444444444444444,\"#bd3786\"],[0.5555555555555556,\"#d8576b\"],[0.6666666666666666,\"#ed7953\"],[0.7777777777777778,\"#fb9f3a\"],[0.8888888888888888,\"#fdca26\"],[1.0,\"#f0f921\"]]},\"colorway\":[\"#636efa\",\"#EF553B\",\"#00cc96\",\"#ab63fa\",\"#FFA15A\",\"#19d3f3\",\"#FF6692\",\"#B6E880\",\"#FF97FF\",\"#FECB52\"],\"font\":{\"color\":\"#2a3f5f\"},\"geo\":{\"bgcolor\":\"white\",\"lakecolor\":\"white\",\"landcolor\":\"#E5ECF6\",\"showlakes\":true,\"showland\":true,\"subunitcolor\":\"white\"},\"hoverlabel\":{\"align\":\"left\"},\"hovermode\":\"closest\",\"mapbox\":{\"style\":\"light\"},\"paper_bgcolor\":\"white\",\"plot_bgcolor\":\"#E5ECF6\",\"polar\":{\"angularaxis\":{\"gridcolor\":\"white\",\"linecolor\":\"white\",\"ticks\":\"\"},\"bgcolor\":\"#E5ECF6\",\"radialaxis\":{\"gridcolor\":\"white\",\"linecolor\":\"white\",\"ticks\":\"\"}},\"scene\":{\"xaxis\":{\"backgroundcolor\":\"#E5ECF6\",\"gridcolor\":\"white\",\"gridwidth\":2,\"linecolor\":\"white\",\"showbackground\":true,\"ticks\":\"\",\"zerolinecolor\":\"white\"},\"yaxis\":{\"backgroundcolor\":\"#E5ECF6\",\"gridcolor\":\"white\",\"gridwidth\":2,\"linecolor\":\"white\",\"showbackground\":true,\"ticks\":\"\",\"zerolinecolor\":\"white\"},\"zaxis\":{\"backgroundcolor\":\"#E5ECF6\",\"gridcolor\":\"white\",\"gridwidth\":2,\"linecolor\":\"white\",\"showbackground\":true,\"ticks\":\"\",\"zerolinecolor\":\"white\"}},\"shapedefaults\":{\"line\":{\"color\":\"#2a3f5f\"}},\"ternary\":{\"aaxis\":{\"gridcolor\":\"white\",\"linecolor\":\"white\",\"ticks\":\"\"},\"baxis\":{\"gridcolor\":\"white\",\"linecolor\":\"white\",\"ticks\":\"\"},\"bgcolor\":\"#E5ECF6\",\"caxis\":{\"gridcolor\":\"white\",\"linecolor\":\"white\",\"ticks\":\"\"}},\"title\":{\"x\":0.05},\"xaxis\":{\"automargin\":true,\"gridcolor\":\"white\",\"linecolor\":\"white\",\"ticks\":\"\",\"title\":{\"standoff\":15},\"zerolinecolor\":\"white\",\"zerolinewidth\":2},\"yaxis\":{\"automargin\":true,\"gridcolor\":\"white\",\"linecolor\":\"white\",\"ticks\":\"\",\"title\":{\"standoff\":15},\"zerolinecolor\":\"white\",\"zerolinewidth\":2}}},\"legend\":{\"tracegroupgap\":0},\"margin\":{\"t\":60},\"title\":{\"text\":\"Top Job Providers and Jobs\",\"x\":0.5},\"autosize\":false,\"width\":1200,\"height\":920},                        {\"responsive\": true}                    ).then(function(){\n",
       "                            \n",
       "var gd = document.getElementById('421be3d7-15be-4e7d-b588-21e6618db4b5');\n",
       "var x = new MutationObserver(function (mutations, observer) {{\n",
       "        var display = window.getComputedStyle(gd).display;\n",
       "        if (!display || display === 'none') {{\n",
       "            console.log([gd, 'removed!']);\n",
       "            Plotly.purge(gd);\n",
       "            observer.disconnect();\n",
       "        }}\n",
       "}});\n",
       "\n",
       "// Listen for the removal of the full notebook cells\n",
       "var notebookContainer = gd.closest('#notebook-container');\n",
       "if (notebookContainer) {{\n",
       "    x.observe(notebookContainer, {childList: true});\n",
       "}}\n",
       "\n",
       "// Listen for the clearing of the current output cell\n",
       "var outputEl = gd.closest('.output');\n",
       "if (outputEl) {{\n",
       "    x.observe(outputEl, {childList: true});\n",
       "}}\n",
       "\n",
       "                        })                };                });            </script>        </div>"
      ]
     },
     "metadata": {},
     "output_type": "display_data"
    }
   ],
   "source": [
    "# Companies and Jobs\n",
    "\n",
    "dataframe = pd.DataFrame()\n",
    "\n",
    "for company in df_company['Company']:\n",
    "    df1 = data[data['Company']==company]\n",
    "    jobs = [job for job in df1['Job_Role']]\n",
    "    fdist = FreqDist(jobs)\n",
    "    fdist_df=pd.DataFrame(list(dict(fdist).items()), columns=['jobs', 'count'])\n",
    "    fdist_df= fdist_df.sort_values(by='count', ascending=False)[:5]\n",
    "    fdist_df = fdist_df.assign(company=company)\n",
    "    dataframe=dataframe.append(fdist_df)\n",
    "    \n",
    "dataframe.head()\n",
    "    \n",
    "# Creating sunburst chart\n",
    "fig = px.sunburst(dataframe,\n",
    "                  path=['company', 'jobs'])\n",
    "\n",
    "fig.update_layout(\n",
    "    autosize=False,\n",
    "    title_text='Top Job Providers and Jobs',\n",
    "    title_x=0.5,\n",
    "    width=1200,\n",
    "    height=920)\n",
    "\n"
   ]
  },
  {
   "cell_type": "code",
   "execution_count": 51,
   "id": "5a3cdec2",
   "metadata": {},
   "outputs": [
    {
     "data": {
      "application/vnd.plotly.v1+json": {
       "config": {
        "plotlyServerURL": "https://plot.ly"
       },
       "data": [
        {
         "branchvalues": "total",
         "domain": {
          "x": [
           0,
           1
          ],
          "y": [
           0,
           1
          ]
         },
         "hovertemplate": "labels=%{label}<br>count=%{value}<br>parent=%{parent}<br>id=%{id}<extra></extra>",
         "ids": [
          "Huquo Consulting Pvt. Ltd/Analyst - Data Science - Python/Machine Learning/Analytics",
          "Anicalls/Artificial Intelligence Data Engineer",
          "Huquo Consulting Pvt. Ltd/Assistant Manager/Manager/Senior Manager - Data Scientist",
          "Huquo Consulting Pvt. Ltd/Associate Vice President- Analytics/Data Science- IIM/IIT/XLRI/FMS/NIT",
          "Microsoft/Data & Applied Scientist",
          "Infostretch solutions Pvt. Ltd./Data Engineer",
          "IBM/Data Engineer: Big Data",
          "IBM/Data Engineer: Data Integration",
          "IBM/Data Engineer: Data Modeling",
          "IBM/Data Engineer: Enterprise Content Management",
          "Accenture/Data Engineering Application Developer",
          "Accenture/Data Engineering Application Lead",
          "Anicalls/Data Mining Analyst",
          "Huquo Consulting Pvt. Ltd/Data Scientist - Insurance - IIM/ IIT/ NIT",
          "IBM/Data Scientist: Artificial Intelligence",
          "BNY Mellon/Ld. Front-End Dev",
          "BNY Mellon/Ld. Full-Stack Dev",
          "Anicalls/Lead Data Engineer",
          "Huquo Consulting Pvt. Ltd/Manager - Data Scientist - Analytics",
          "Accenture/Senior Analyst-Data Maintenance",
          "Accenture/Senior Analyst-Data Management",
          "Accenture/Senior Analyst-Data Visualization",
          "Anicalls/Senior Business Systems Analyst, En...",
          "Microsoft/Senior Data & Applied Scientist",
          "Anicalls/Senior Data Engineer",
          "Infostretch solutions Pvt. Ltd./Senior Data Engineer",
          "Infostretch solutions Pvt. Ltd./Senior Software Engineer",
          "Microsoft/Senior Software Engineer",
          "Infostretch solutions Pvt. Ltd./Senior Technical Lead (Data Engineer)",
          "Infostretch solutions Pvt. Ltd./Senior Technical Lead - Data Engineer",
          "Microsoft/Software Engineer",
          "Microsoft/Software Engineer II",
          "BNY Mellon/Spec, Full-Stack Dev",
          "BNY Mellon/Sr. Full-Stack Dev",
          "BNY Mellon/Sr. Spec, Back-End Dev",
          "Accenture",
          "Anicalls",
          "BNY Mellon",
          "Huquo Consulting Pvt. Ltd",
          "IBM",
          "Infostretch solutions Pvt. Ltd.",
          "Microsoft"
         ],
         "labels": [
          "Analyst - Data Science - Python/Machine Learning/Analytics",
          "Artificial Intelligence Data Engineer",
          "Assistant Manager/Manager/Senior Manager - Data Scientist",
          "Associate Vice President- Analytics/Data Science- IIM/IIT/XLRI/FMS/NIT",
          "Data & Applied Scientist",
          "Data Engineer",
          "Data Engineer: Big Data",
          "Data Engineer: Data Integration",
          "Data Engineer: Data Modeling",
          "Data Engineer: Enterprise Content Management",
          "Data Engineering Application Developer",
          "Data Engineering Application Lead",
          "Data Mining Analyst",
          "Data Scientist - Insurance - IIM/ IIT/ NIT",
          "Data Scientist: Artificial Intelligence",
          "Ld. Front-End Dev",
          "Ld. Full-Stack Dev",
          "Lead Data Engineer",
          "Manager - Data Scientist - Analytics",
          "Senior Analyst-Data Maintenance",
          "Senior Analyst-Data Management",
          "Senior Analyst-Data Visualization",
          "Senior Business Systems Analyst, En...",
          "Senior Data & Applied Scientist",
          "Senior Data Engineer",
          "Senior Data Engineer",
          "Senior Software Engineer",
          "Senior Software Engineer",
          "Senior Technical Lead (Data Engineer)",
          "Senior Technical Lead - Data Engineer",
          "Software Engineer",
          "Software Engineer II",
          "Spec, Full-Stack Dev",
          "Sr. Full-Stack Dev",
          "Sr. Spec, Back-End Dev",
          "Accenture",
          "Anicalls",
          "BNY Mellon",
          "Huquo Consulting Pvt. Ltd",
          "IBM",
          "Infostretch solutions Pvt. Ltd.",
          "Microsoft"
         ],
         "name": "",
         "parents": [
          "Huquo Consulting Pvt. Ltd",
          "Anicalls",
          "Huquo Consulting Pvt. Ltd",
          "Huquo Consulting Pvt. Ltd",
          "Microsoft",
          "Infostretch solutions Pvt. Ltd.",
          "IBM",
          "IBM",
          "IBM",
          "IBM",
          "Accenture",
          "Accenture",
          "Anicalls",
          "Huquo Consulting Pvt. Ltd",
          "IBM",
          "BNY Mellon",
          "BNY Mellon",
          "Anicalls",
          "Huquo Consulting Pvt. Ltd",
          "Accenture",
          "Accenture",
          "Accenture",
          "Anicalls",
          "Microsoft",
          "Anicalls",
          "Infostretch solutions Pvt. Ltd.",
          "Infostretch solutions Pvt. Ltd.",
          "Microsoft",
          "Infostretch solutions Pvt. Ltd.",
          "Infostretch solutions Pvt. Ltd.",
          "Microsoft",
          "Microsoft",
          "BNY Mellon",
          "BNY Mellon",
          "BNY Mellon",
          "",
          "",
          "",
          "",
          "",
          "",
          ""
         ],
         "type": "sunburst",
         "values": [
          1,
          1,
          1,
          1,
          1,
          1,
          1,
          1,
          1,
          1,
          1,
          1,
          1,
          1,
          1,
          1,
          1,
          1,
          1,
          1,
          1,
          1,
          1,
          1,
          1,
          1,
          1,
          1,
          1,
          1,
          1,
          1,
          1,
          1,
          1,
          5,
          5,
          5,
          5,
          5,
          5,
          5
         ]
        }
       ],
       "layout": {
        "autosize": false,
        "height": 920,
        "legend": {
         "tracegroupgap": 0
        },
        "margin": {
         "t": 60
        },
        "template": {
         "data": {
          "bar": [
           {
            "error_x": {
             "color": "#2a3f5f"
            },
            "error_y": {
             "color": "#2a3f5f"
            },
            "marker": {
             "line": {
              "color": "#E5ECF6",
              "width": 0.5
             },
             "pattern": {
              "fillmode": "overlay",
              "size": 10,
              "solidity": 0.2
             }
            },
            "type": "bar"
           }
          ],
          "barpolar": [
           {
            "marker": {
             "line": {
              "color": "#E5ECF6",
              "width": 0.5
             },
             "pattern": {
              "fillmode": "overlay",
              "size": 10,
              "solidity": 0.2
             }
            },
            "type": "barpolar"
           }
          ],
          "carpet": [
           {
            "aaxis": {
             "endlinecolor": "#2a3f5f",
             "gridcolor": "white",
             "linecolor": "white",
             "minorgridcolor": "white",
             "startlinecolor": "#2a3f5f"
            },
            "baxis": {
             "endlinecolor": "#2a3f5f",
             "gridcolor": "white",
             "linecolor": "white",
             "minorgridcolor": "white",
             "startlinecolor": "#2a3f5f"
            },
            "type": "carpet"
           }
          ],
          "choropleth": [
           {
            "colorbar": {
             "outlinewidth": 0,
             "ticks": ""
            },
            "type": "choropleth"
           }
          ],
          "contour": [
           {
            "colorbar": {
             "outlinewidth": 0,
             "ticks": ""
            },
            "colorscale": [
             [
              0,
              "#0d0887"
             ],
             [
              0.1111111111111111,
              "#46039f"
             ],
             [
              0.2222222222222222,
              "#7201a8"
             ],
             [
              0.3333333333333333,
              "#9c179e"
             ],
             [
              0.4444444444444444,
              "#bd3786"
             ],
             [
              0.5555555555555556,
              "#d8576b"
             ],
             [
              0.6666666666666666,
              "#ed7953"
             ],
             [
              0.7777777777777778,
              "#fb9f3a"
             ],
             [
              0.8888888888888888,
              "#fdca26"
             ],
             [
              1,
              "#f0f921"
             ]
            ],
            "type": "contour"
           }
          ],
          "contourcarpet": [
           {
            "colorbar": {
             "outlinewidth": 0,
             "ticks": ""
            },
            "type": "contourcarpet"
           }
          ],
          "heatmap": [
           {
            "colorbar": {
             "outlinewidth": 0,
             "ticks": ""
            },
            "colorscale": [
             [
              0,
              "#0d0887"
             ],
             [
              0.1111111111111111,
              "#46039f"
             ],
             [
              0.2222222222222222,
              "#7201a8"
             ],
             [
              0.3333333333333333,
              "#9c179e"
             ],
             [
              0.4444444444444444,
              "#bd3786"
             ],
             [
              0.5555555555555556,
              "#d8576b"
             ],
             [
              0.6666666666666666,
              "#ed7953"
             ],
             [
              0.7777777777777778,
              "#fb9f3a"
             ],
             [
              0.8888888888888888,
              "#fdca26"
             ],
             [
              1,
              "#f0f921"
             ]
            ],
            "type": "heatmap"
           }
          ],
          "heatmapgl": [
           {
            "colorbar": {
             "outlinewidth": 0,
             "ticks": ""
            },
            "colorscale": [
             [
              0,
              "#0d0887"
             ],
             [
              0.1111111111111111,
              "#46039f"
             ],
             [
              0.2222222222222222,
              "#7201a8"
             ],
             [
              0.3333333333333333,
              "#9c179e"
             ],
             [
              0.4444444444444444,
              "#bd3786"
             ],
             [
              0.5555555555555556,
              "#d8576b"
             ],
             [
              0.6666666666666666,
              "#ed7953"
             ],
             [
              0.7777777777777778,
              "#fb9f3a"
             ],
             [
              0.8888888888888888,
              "#fdca26"
             ],
             [
              1,
              "#f0f921"
             ]
            ],
            "type": "heatmapgl"
           }
          ],
          "histogram": [
           {
            "marker": {
             "pattern": {
              "fillmode": "overlay",
              "size": 10,
              "solidity": 0.2
             }
            },
            "type": "histogram"
           }
          ],
          "histogram2d": [
           {
            "colorbar": {
             "outlinewidth": 0,
             "ticks": ""
            },
            "colorscale": [
             [
              0,
              "#0d0887"
             ],
             [
              0.1111111111111111,
              "#46039f"
             ],
             [
              0.2222222222222222,
              "#7201a8"
             ],
             [
              0.3333333333333333,
              "#9c179e"
             ],
             [
              0.4444444444444444,
              "#bd3786"
             ],
             [
              0.5555555555555556,
              "#d8576b"
             ],
             [
              0.6666666666666666,
              "#ed7953"
             ],
             [
              0.7777777777777778,
              "#fb9f3a"
             ],
             [
              0.8888888888888888,
              "#fdca26"
             ],
             [
              1,
              "#f0f921"
             ]
            ],
            "type": "histogram2d"
           }
          ],
          "histogram2dcontour": [
           {
            "colorbar": {
             "outlinewidth": 0,
             "ticks": ""
            },
            "colorscale": [
             [
              0,
              "#0d0887"
             ],
             [
              0.1111111111111111,
              "#46039f"
             ],
             [
              0.2222222222222222,
              "#7201a8"
             ],
             [
              0.3333333333333333,
              "#9c179e"
             ],
             [
              0.4444444444444444,
              "#bd3786"
             ],
             [
              0.5555555555555556,
              "#d8576b"
             ],
             [
              0.6666666666666666,
              "#ed7953"
             ],
             [
              0.7777777777777778,
              "#fb9f3a"
             ],
             [
              0.8888888888888888,
              "#fdca26"
             ],
             [
              1,
              "#f0f921"
             ]
            ],
            "type": "histogram2dcontour"
           }
          ],
          "mesh3d": [
           {
            "colorbar": {
             "outlinewidth": 0,
             "ticks": ""
            },
            "type": "mesh3d"
           }
          ],
          "parcoords": [
           {
            "line": {
             "colorbar": {
              "outlinewidth": 0,
              "ticks": ""
             }
            },
            "type": "parcoords"
           }
          ],
          "pie": [
           {
            "automargin": true,
            "type": "pie"
           }
          ],
          "scatter": [
           {
            "marker": {
             "colorbar": {
              "outlinewidth": 0,
              "ticks": ""
             }
            },
            "type": "scatter"
           }
          ],
          "scatter3d": [
           {
            "line": {
             "colorbar": {
              "outlinewidth": 0,
              "ticks": ""
             }
            },
            "marker": {
             "colorbar": {
              "outlinewidth": 0,
              "ticks": ""
             }
            },
            "type": "scatter3d"
           }
          ],
          "scattercarpet": [
           {
            "marker": {
             "colorbar": {
              "outlinewidth": 0,
              "ticks": ""
             }
            },
            "type": "scattercarpet"
           }
          ],
          "scattergeo": [
           {
            "marker": {
             "colorbar": {
              "outlinewidth": 0,
              "ticks": ""
             }
            },
            "type": "scattergeo"
           }
          ],
          "scattergl": [
           {
            "marker": {
             "colorbar": {
              "outlinewidth": 0,
              "ticks": ""
             }
            },
            "type": "scattergl"
           }
          ],
          "scattermapbox": [
           {
            "marker": {
             "colorbar": {
              "outlinewidth": 0,
              "ticks": ""
             }
            },
            "type": "scattermapbox"
           }
          ],
          "scatterpolar": [
           {
            "marker": {
             "colorbar": {
              "outlinewidth": 0,
              "ticks": ""
             }
            },
            "type": "scatterpolar"
           }
          ],
          "scatterpolargl": [
           {
            "marker": {
             "colorbar": {
              "outlinewidth": 0,
              "ticks": ""
             }
            },
            "type": "scatterpolargl"
           }
          ],
          "scatterternary": [
           {
            "marker": {
             "colorbar": {
              "outlinewidth": 0,
              "ticks": ""
             }
            },
            "type": "scatterternary"
           }
          ],
          "surface": [
           {
            "colorbar": {
             "outlinewidth": 0,
             "ticks": ""
            },
            "colorscale": [
             [
              0,
              "#0d0887"
             ],
             [
              0.1111111111111111,
              "#46039f"
             ],
             [
              0.2222222222222222,
              "#7201a8"
             ],
             [
              0.3333333333333333,
              "#9c179e"
             ],
             [
              0.4444444444444444,
              "#bd3786"
             ],
             [
              0.5555555555555556,
              "#d8576b"
             ],
             [
              0.6666666666666666,
              "#ed7953"
             ],
             [
              0.7777777777777778,
              "#fb9f3a"
             ],
             [
              0.8888888888888888,
              "#fdca26"
             ],
             [
              1,
              "#f0f921"
             ]
            ],
            "type": "surface"
           }
          ],
          "table": [
           {
            "cells": {
             "fill": {
              "color": "#EBF0F8"
             },
             "line": {
              "color": "white"
             }
            },
            "header": {
             "fill": {
              "color": "#C8D4E3"
             },
             "line": {
              "color": "white"
             }
            },
            "type": "table"
           }
          ]
         },
         "layout": {
          "annotationdefaults": {
           "arrowcolor": "#2a3f5f",
           "arrowhead": 0,
           "arrowwidth": 1
          },
          "autotypenumbers": "strict",
          "coloraxis": {
           "colorbar": {
            "outlinewidth": 0,
            "ticks": ""
           }
          },
          "colorscale": {
           "diverging": [
            [
             0,
             "#8e0152"
            ],
            [
             0.1,
             "#c51b7d"
            ],
            [
             0.2,
             "#de77ae"
            ],
            [
             0.3,
             "#f1b6da"
            ],
            [
             0.4,
             "#fde0ef"
            ],
            [
             0.5,
             "#f7f7f7"
            ],
            [
             0.6,
             "#e6f5d0"
            ],
            [
             0.7,
             "#b8e186"
            ],
            [
             0.8,
             "#7fbc41"
            ],
            [
             0.9,
             "#4d9221"
            ],
            [
             1,
             "#276419"
            ]
           ],
           "sequential": [
            [
             0,
             "#0d0887"
            ],
            [
             0.1111111111111111,
             "#46039f"
            ],
            [
             0.2222222222222222,
             "#7201a8"
            ],
            [
             0.3333333333333333,
             "#9c179e"
            ],
            [
             0.4444444444444444,
             "#bd3786"
            ],
            [
             0.5555555555555556,
             "#d8576b"
            ],
            [
             0.6666666666666666,
             "#ed7953"
            ],
            [
             0.7777777777777778,
             "#fb9f3a"
            ],
            [
             0.8888888888888888,
             "#fdca26"
            ],
            [
             1,
             "#f0f921"
            ]
           ],
           "sequentialminus": [
            [
             0,
             "#0d0887"
            ],
            [
             0.1111111111111111,
             "#46039f"
            ],
            [
             0.2222222222222222,
             "#7201a8"
            ],
            [
             0.3333333333333333,
             "#9c179e"
            ],
            [
             0.4444444444444444,
             "#bd3786"
            ],
            [
             0.5555555555555556,
             "#d8576b"
            ],
            [
             0.6666666666666666,
             "#ed7953"
            ],
            [
             0.7777777777777778,
             "#fb9f3a"
            ],
            [
             0.8888888888888888,
             "#fdca26"
            ],
            [
             1,
             "#f0f921"
            ]
           ]
          },
          "colorway": [
           "#636efa",
           "#EF553B",
           "#00cc96",
           "#ab63fa",
           "#FFA15A",
           "#19d3f3",
           "#FF6692",
           "#B6E880",
           "#FF97FF",
           "#FECB52"
          ],
          "font": {
           "color": "#2a3f5f"
          },
          "geo": {
           "bgcolor": "white",
           "lakecolor": "white",
           "landcolor": "#E5ECF6",
           "showlakes": true,
           "showland": true,
           "subunitcolor": "white"
          },
          "hoverlabel": {
           "align": "left"
          },
          "hovermode": "closest",
          "mapbox": {
           "style": "light"
          },
          "paper_bgcolor": "white",
          "plot_bgcolor": "#E5ECF6",
          "polar": {
           "angularaxis": {
            "gridcolor": "white",
            "linecolor": "white",
            "ticks": ""
           },
           "bgcolor": "#E5ECF6",
           "radialaxis": {
            "gridcolor": "white",
            "linecolor": "white",
            "ticks": ""
           }
          },
          "scene": {
           "xaxis": {
            "backgroundcolor": "#E5ECF6",
            "gridcolor": "white",
            "gridwidth": 2,
            "linecolor": "white",
            "showbackground": true,
            "ticks": "",
            "zerolinecolor": "white"
           },
           "yaxis": {
            "backgroundcolor": "#E5ECF6",
            "gridcolor": "white",
            "gridwidth": 2,
            "linecolor": "white",
            "showbackground": true,
            "ticks": "",
            "zerolinecolor": "white"
           },
           "zaxis": {
            "backgroundcolor": "#E5ECF6",
            "gridcolor": "white",
            "gridwidth": 2,
            "linecolor": "white",
            "showbackground": true,
            "ticks": "",
            "zerolinecolor": "white"
           }
          },
          "shapedefaults": {
           "line": {
            "color": "#2a3f5f"
           }
          },
          "ternary": {
           "aaxis": {
            "gridcolor": "white",
            "linecolor": "white",
            "ticks": ""
           },
           "baxis": {
            "gridcolor": "white",
            "linecolor": "white",
            "ticks": ""
           },
           "bgcolor": "#E5ECF6",
           "caxis": {
            "gridcolor": "white",
            "linecolor": "white",
            "ticks": ""
           }
          },
          "title": {
           "x": 0.05
          },
          "xaxis": {
           "automargin": true,
           "gridcolor": "white",
           "linecolor": "white",
           "ticks": "",
           "title": {
            "standoff": 15
           },
           "zerolinecolor": "white",
           "zerolinewidth": 2
          },
          "yaxis": {
           "automargin": true,
           "gridcolor": "white",
           "linecolor": "white",
           "ticks": "",
           "title": {
            "standoff": 15
           },
           "zerolinecolor": "white",
           "zerolinewidth": 2
          }
         }
        },
        "title": {
         "text": "Top Job Providers and Jobs",
         "x": 0.5
        },
        "width": 1200
       }
      },
      "text/html": [
       "<div>                            <div id=\"9ad188b5-dd98-4235-8e24-6a993b3e4016\" class=\"plotly-graph-div\" style=\"height:920px; width:1200px;\"></div>            <script type=\"text/javascript\">                require([\"plotly\"], function(Plotly) {                    window.PLOTLYENV=window.PLOTLYENV || {};                                    if (document.getElementById(\"9ad188b5-dd98-4235-8e24-6a993b3e4016\")) {                    Plotly.newPlot(                        \"9ad188b5-dd98-4235-8e24-6a993b3e4016\",                        [{\"branchvalues\":\"total\",\"domain\":{\"x\":[0.0,1.0],\"y\":[0.0,1.0]},\"hovertemplate\":\"labels=%{label}<br>count=%{value}<br>parent=%{parent}<br>id=%{id}<extra></extra>\",\"ids\":[\"Huquo Consulting Pvt. Ltd/Analyst - Data Science - Python/Machine Learning/Analytics\",\"Anicalls/Artificial Intelligence Data Engineer\",\"Huquo Consulting Pvt. Ltd/Assistant Manager/Manager/Senior Manager - Data Scientist\",\"Huquo Consulting Pvt. Ltd/Associate Vice President- Analytics/Data Science- IIM/IIT/XLRI/FMS/NIT\",\"Microsoft/Data & Applied Scientist\",\"Infostretch solutions Pvt. Ltd./Data Engineer\",\"IBM/Data Engineer: Big Data\",\"IBM/Data Engineer: Data Integration\",\"IBM/Data Engineer: Data Modeling\",\"IBM/Data Engineer: Enterprise Content Management\",\"Accenture/Data Engineering Application Developer\",\"Accenture/Data Engineering Application Lead\",\"Anicalls/Data Mining Analyst\",\"Huquo Consulting Pvt. Ltd/Data Scientist - Insurance - IIM/ IIT/ NIT\",\"IBM/Data Scientist: Artificial Intelligence\",\"BNY Mellon/Ld. Front-End Dev\",\"BNY Mellon/Ld. Full-Stack Dev\",\"Anicalls/Lead Data Engineer\",\"Huquo Consulting Pvt. Ltd/Manager - Data Scientist - Analytics\",\"Accenture/Senior Analyst-Data Maintenance\",\"Accenture/Senior Analyst-Data Management\",\"Accenture/Senior Analyst-Data Visualization\",\"Anicalls/Senior Business Systems Analyst, En...\",\"Microsoft/Senior Data & Applied Scientist\",\"Anicalls/Senior Data Engineer\",\"Infostretch solutions Pvt. Ltd./Senior Data Engineer\",\"Infostretch solutions Pvt. Ltd./Senior Software Engineer\",\"Microsoft/Senior Software Engineer\",\"Infostretch solutions Pvt. Ltd./Senior Technical Lead (Data Engineer)\",\"Infostretch solutions Pvt. Ltd./Senior Technical Lead - Data Engineer\",\"Microsoft/Software Engineer\",\"Microsoft/Software Engineer II\",\"BNY Mellon/Spec, Full-Stack Dev\",\"BNY Mellon/Sr. Full-Stack Dev\",\"BNY Mellon/Sr. Spec, Back-End Dev\",\"Accenture\",\"Anicalls\",\"BNY Mellon\",\"Huquo Consulting Pvt. Ltd\",\"IBM\",\"Infostretch solutions Pvt. Ltd.\",\"Microsoft\"],\"labels\":[\"Analyst - Data Science - Python/Machine Learning/Analytics\",\"Artificial Intelligence Data Engineer\",\"Assistant Manager/Manager/Senior Manager - Data Scientist\",\"Associate Vice President- Analytics/Data Science- IIM/IIT/XLRI/FMS/NIT\",\"Data & Applied Scientist\",\"Data Engineer\",\"Data Engineer: Big Data\",\"Data Engineer: Data Integration\",\"Data Engineer: Data Modeling\",\"Data Engineer: Enterprise Content Management\",\"Data Engineering Application Developer\",\"Data Engineering Application Lead\",\"Data Mining Analyst\",\"Data Scientist - Insurance - IIM/ IIT/ NIT\",\"Data Scientist: Artificial Intelligence\",\"Ld. Front-End Dev\",\"Ld. Full-Stack Dev\",\"Lead Data Engineer\",\"Manager - Data Scientist - Analytics\",\"Senior Analyst-Data Maintenance\",\"Senior Analyst-Data Management\",\"Senior Analyst-Data Visualization\",\"Senior Business Systems Analyst, En...\",\"Senior Data & Applied Scientist\",\"Senior Data Engineer\",\"Senior Data Engineer\",\"Senior Software Engineer\",\"Senior Software Engineer\",\"Senior Technical Lead (Data Engineer)\",\"Senior Technical Lead - Data Engineer\",\"Software Engineer\",\"Software Engineer II\",\"Spec, Full-Stack Dev\",\"Sr. Full-Stack Dev\",\"Sr. Spec, Back-End Dev\",\"Accenture\",\"Anicalls\",\"BNY Mellon\",\"Huquo Consulting Pvt. Ltd\",\"IBM\",\"Infostretch solutions Pvt. Ltd.\",\"Microsoft\"],\"name\":\"\",\"parents\":[\"Huquo Consulting Pvt. Ltd\",\"Anicalls\",\"Huquo Consulting Pvt. Ltd\",\"Huquo Consulting Pvt. Ltd\",\"Microsoft\",\"Infostretch solutions Pvt. Ltd.\",\"IBM\",\"IBM\",\"IBM\",\"IBM\",\"Accenture\",\"Accenture\",\"Anicalls\",\"Huquo Consulting Pvt. Ltd\",\"IBM\",\"BNY Mellon\",\"BNY Mellon\",\"Anicalls\",\"Huquo Consulting Pvt. Ltd\",\"Accenture\",\"Accenture\",\"Accenture\",\"Anicalls\",\"Microsoft\",\"Anicalls\",\"Infostretch solutions Pvt. Ltd.\",\"Infostretch solutions Pvt. Ltd.\",\"Microsoft\",\"Infostretch solutions Pvt. Ltd.\",\"Infostretch solutions Pvt. Ltd.\",\"Microsoft\",\"Microsoft\",\"BNY Mellon\",\"BNY Mellon\",\"BNY Mellon\",\"\",\"\",\"\",\"\",\"\",\"\",\"\"],\"values\":[1,1,1,1,1,1,1,1,1,1,1,1,1,1,1,1,1,1,1,1,1,1,1,1,1,1,1,1,1,1,1,1,1,1,1,5,5,5,5,5,5,5],\"type\":\"sunburst\"}],                        {\"template\":{\"data\":{\"bar\":[{\"error_x\":{\"color\":\"#2a3f5f\"},\"error_y\":{\"color\":\"#2a3f5f\"},\"marker\":{\"line\":{\"color\":\"#E5ECF6\",\"width\":0.5},\"pattern\":{\"fillmode\":\"overlay\",\"size\":10,\"solidity\":0.2}},\"type\":\"bar\"}],\"barpolar\":[{\"marker\":{\"line\":{\"color\":\"#E5ECF6\",\"width\":0.5},\"pattern\":{\"fillmode\":\"overlay\",\"size\":10,\"solidity\":0.2}},\"type\":\"barpolar\"}],\"carpet\":[{\"aaxis\":{\"endlinecolor\":\"#2a3f5f\",\"gridcolor\":\"white\",\"linecolor\":\"white\",\"minorgridcolor\":\"white\",\"startlinecolor\":\"#2a3f5f\"},\"baxis\":{\"endlinecolor\":\"#2a3f5f\",\"gridcolor\":\"white\",\"linecolor\":\"white\",\"minorgridcolor\":\"white\",\"startlinecolor\":\"#2a3f5f\"},\"type\":\"carpet\"}],\"choropleth\":[{\"colorbar\":{\"outlinewidth\":0,\"ticks\":\"\"},\"type\":\"choropleth\"}],\"contour\":[{\"colorbar\":{\"outlinewidth\":0,\"ticks\":\"\"},\"colorscale\":[[0.0,\"#0d0887\"],[0.1111111111111111,\"#46039f\"],[0.2222222222222222,\"#7201a8\"],[0.3333333333333333,\"#9c179e\"],[0.4444444444444444,\"#bd3786\"],[0.5555555555555556,\"#d8576b\"],[0.6666666666666666,\"#ed7953\"],[0.7777777777777778,\"#fb9f3a\"],[0.8888888888888888,\"#fdca26\"],[1.0,\"#f0f921\"]],\"type\":\"contour\"}],\"contourcarpet\":[{\"colorbar\":{\"outlinewidth\":0,\"ticks\":\"\"},\"type\":\"contourcarpet\"}],\"heatmap\":[{\"colorbar\":{\"outlinewidth\":0,\"ticks\":\"\"},\"colorscale\":[[0.0,\"#0d0887\"],[0.1111111111111111,\"#46039f\"],[0.2222222222222222,\"#7201a8\"],[0.3333333333333333,\"#9c179e\"],[0.4444444444444444,\"#bd3786\"],[0.5555555555555556,\"#d8576b\"],[0.6666666666666666,\"#ed7953\"],[0.7777777777777778,\"#fb9f3a\"],[0.8888888888888888,\"#fdca26\"],[1.0,\"#f0f921\"]],\"type\":\"heatmap\"}],\"heatmapgl\":[{\"colorbar\":{\"outlinewidth\":0,\"ticks\":\"\"},\"colorscale\":[[0.0,\"#0d0887\"],[0.1111111111111111,\"#46039f\"],[0.2222222222222222,\"#7201a8\"],[0.3333333333333333,\"#9c179e\"],[0.4444444444444444,\"#bd3786\"],[0.5555555555555556,\"#d8576b\"],[0.6666666666666666,\"#ed7953\"],[0.7777777777777778,\"#fb9f3a\"],[0.8888888888888888,\"#fdca26\"],[1.0,\"#f0f921\"]],\"type\":\"heatmapgl\"}],\"histogram\":[{\"marker\":{\"pattern\":{\"fillmode\":\"overlay\",\"size\":10,\"solidity\":0.2}},\"type\":\"histogram\"}],\"histogram2d\":[{\"colorbar\":{\"outlinewidth\":0,\"ticks\":\"\"},\"colorscale\":[[0.0,\"#0d0887\"],[0.1111111111111111,\"#46039f\"],[0.2222222222222222,\"#7201a8\"],[0.3333333333333333,\"#9c179e\"],[0.4444444444444444,\"#bd3786\"],[0.5555555555555556,\"#d8576b\"],[0.6666666666666666,\"#ed7953\"],[0.7777777777777778,\"#fb9f3a\"],[0.8888888888888888,\"#fdca26\"],[1.0,\"#f0f921\"]],\"type\":\"histogram2d\"}],\"histogram2dcontour\":[{\"colorbar\":{\"outlinewidth\":0,\"ticks\":\"\"},\"colorscale\":[[0.0,\"#0d0887\"],[0.1111111111111111,\"#46039f\"],[0.2222222222222222,\"#7201a8\"],[0.3333333333333333,\"#9c179e\"],[0.4444444444444444,\"#bd3786\"],[0.5555555555555556,\"#d8576b\"],[0.6666666666666666,\"#ed7953\"],[0.7777777777777778,\"#fb9f3a\"],[0.8888888888888888,\"#fdca26\"],[1.0,\"#f0f921\"]],\"type\":\"histogram2dcontour\"}],\"mesh3d\":[{\"colorbar\":{\"outlinewidth\":0,\"ticks\":\"\"},\"type\":\"mesh3d\"}],\"parcoords\":[{\"line\":{\"colorbar\":{\"outlinewidth\":0,\"ticks\":\"\"}},\"type\":\"parcoords\"}],\"pie\":[{\"automargin\":true,\"type\":\"pie\"}],\"scatter\":[{\"marker\":{\"colorbar\":{\"outlinewidth\":0,\"ticks\":\"\"}},\"type\":\"scatter\"}],\"scatter3d\":[{\"line\":{\"colorbar\":{\"outlinewidth\":0,\"ticks\":\"\"}},\"marker\":{\"colorbar\":{\"outlinewidth\":0,\"ticks\":\"\"}},\"type\":\"scatter3d\"}],\"scattercarpet\":[{\"marker\":{\"colorbar\":{\"outlinewidth\":0,\"ticks\":\"\"}},\"type\":\"scattercarpet\"}],\"scattergeo\":[{\"marker\":{\"colorbar\":{\"outlinewidth\":0,\"ticks\":\"\"}},\"type\":\"scattergeo\"}],\"scattergl\":[{\"marker\":{\"colorbar\":{\"outlinewidth\":0,\"ticks\":\"\"}},\"type\":\"scattergl\"}],\"scattermapbox\":[{\"marker\":{\"colorbar\":{\"outlinewidth\":0,\"ticks\":\"\"}},\"type\":\"scattermapbox\"}],\"scatterpolar\":[{\"marker\":{\"colorbar\":{\"outlinewidth\":0,\"ticks\":\"\"}},\"type\":\"scatterpolar\"}],\"scatterpolargl\":[{\"marker\":{\"colorbar\":{\"outlinewidth\":0,\"ticks\":\"\"}},\"type\":\"scatterpolargl\"}],\"scatterternary\":[{\"marker\":{\"colorbar\":{\"outlinewidth\":0,\"ticks\":\"\"}},\"type\":\"scatterternary\"}],\"surface\":[{\"colorbar\":{\"outlinewidth\":0,\"ticks\":\"\"},\"colorscale\":[[0.0,\"#0d0887\"],[0.1111111111111111,\"#46039f\"],[0.2222222222222222,\"#7201a8\"],[0.3333333333333333,\"#9c179e\"],[0.4444444444444444,\"#bd3786\"],[0.5555555555555556,\"#d8576b\"],[0.6666666666666666,\"#ed7953\"],[0.7777777777777778,\"#fb9f3a\"],[0.8888888888888888,\"#fdca26\"],[1.0,\"#f0f921\"]],\"type\":\"surface\"}],\"table\":[{\"cells\":{\"fill\":{\"color\":\"#EBF0F8\"},\"line\":{\"color\":\"white\"}},\"header\":{\"fill\":{\"color\":\"#C8D4E3\"},\"line\":{\"color\":\"white\"}},\"type\":\"table\"}]},\"layout\":{\"annotationdefaults\":{\"arrowcolor\":\"#2a3f5f\",\"arrowhead\":0,\"arrowwidth\":1},\"autotypenumbers\":\"strict\",\"coloraxis\":{\"colorbar\":{\"outlinewidth\":0,\"ticks\":\"\"}},\"colorscale\":{\"diverging\":[[0,\"#8e0152\"],[0.1,\"#c51b7d\"],[0.2,\"#de77ae\"],[0.3,\"#f1b6da\"],[0.4,\"#fde0ef\"],[0.5,\"#f7f7f7\"],[0.6,\"#e6f5d0\"],[0.7,\"#b8e186\"],[0.8,\"#7fbc41\"],[0.9,\"#4d9221\"],[1,\"#276419\"]],\"sequential\":[[0.0,\"#0d0887\"],[0.1111111111111111,\"#46039f\"],[0.2222222222222222,\"#7201a8\"],[0.3333333333333333,\"#9c179e\"],[0.4444444444444444,\"#bd3786\"],[0.5555555555555556,\"#d8576b\"],[0.6666666666666666,\"#ed7953\"],[0.7777777777777778,\"#fb9f3a\"],[0.8888888888888888,\"#fdca26\"],[1.0,\"#f0f921\"]],\"sequentialminus\":[[0.0,\"#0d0887\"],[0.1111111111111111,\"#46039f\"],[0.2222222222222222,\"#7201a8\"],[0.3333333333333333,\"#9c179e\"],[0.4444444444444444,\"#bd3786\"],[0.5555555555555556,\"#d8576b\"],[0.6666666666666666,\"#ed7953\"],[0.7777777777777778,\"#fb9f3a\"],[0.8888888888888888,\"#fdca26\"],[1.0,\"#f0f921\"]]},\"colorway\":[\"#636efa\",\"#EF553B\",\"#00cc96\",\"#ab63fa\",\"#FFA15A\",\"#19d3f3\",\"#FF6692\",\"#B6E880\",\"#FF97FF\",\"#FECB52\"],\"font\":{\"color\":\"#2a3f5f\"},\"geo\":{\"bgcolor\":\"white\",\"lakecolor\":\"white\",\"landcolor\":\"#E5ECF6\",\"showlakes\":true,\"showland\":true,\"subunitcolor\":\"white\"},\"hoverlabel\":{\"align\":\"left\"},\"hovermode\":\"closest\",\"mapbox\":{\"style\":\"light\"},\"paper_bgcolor\":\"white\",\"plot_bgcolor\":\"#E5ECF6\",\"polar\":{\"angularaxis\":{\"gridcolor\":\"white\",\"linecolor\":\"white\",\"ticks\":\"\"},\"bgcolor\":\"#E5ECF6\",\"radialaxis\":{\"gridcolor\":\"white\",\"linecolor\":\"white\",\"ticks\":\"\"}},\"scene\":{\"xaxis\":{\"backgroundcolor\":\"#E5ECF6\",\"gridcolor\":\"white\",\"gridwidth\":2,\"linecolor\":\"white\",\"showbackground\":true,\"ticks\":\"\",\"zerolinecolor\":\"white\"},\"yaxis\":{\"backgroundcolor\":\"#E5ECF6\",\"gridcolor\":\"white\",\"gridwidth\":2,\"linecolor\":\"white\",\"showbackground\":true,\"ticks\":\"\",\"zerolinecolor\":\"white\"},\"zaxis\":{\"backgroundcolor\":\"#E5ECF6\",\"gridcolor\":\"white\",\"gridwidth\":2,\"linecolor\":\"white\",\"showbackground\":true,\"ticks\":\"\",\"zerolinecolor\":\"white\"}},\"shapedefaults\":{\"line\":{\"color\":\"#2a3f5f\"}},\"ternary\":{\"aaxis\":{\"gridcolor\":\"white\",\"linecolor\":\"white\",\"ticks\":\"\"},\"baxis\":{\"gridcolor\":\"white\",\"linecolor\":\"white\",\"ticks\":\"\"},\"bgcolor\":\"#E5ECF6\",\"caxis\":{\"gridcolor\":\"white\",\"linecolor\":\"white\",\"ticks\":\"\"}},\"title\":{\"x\":0.05},\"xaxis\":{\"automargin\":true,\"gridcolor\":\"white\",\"linecolor\":\"white\",\"ticks\":\"\",\"title\":{\"standoff\":15},\"zerolinecolor\":\"white\",\"zerolinewidth\":2},\"yaxis\":{\"automargin\":true,\"gridcolor\":\"white\",\"linecolor\":\"white\",\"ticks\":\"\",\"title\":{\"standoff\":15},\"zerolinecolor\":\"white\",\"zerolinewidth\":2}}},\"legend\":{\"tracegroupgap\":0},\"margin\":{\"t\":60},\"title\":{\"text\":\"Top Job Providers and Jobs\",\"x\":0.5},\"autosize\":false,\"width\":1200,\"height\":920},                        {\"responsive\": true}                    ).then(function(){\n",
       "                            \n",
       "var gd = document.getElementById('9ad188b5-dd98-4235-8e24-6a993b3e4016');\n",
       "var x = new MutationObserver(function (mutations, observer) {{\n",
       "        var display = window.getComputedStyle(gd).display;\n",
       "        if (!display || display === 'none') {{\n",
       "            console.log([gd, 'removed!']);\n",
       "            Plotly.purge(gd);\n",
       "            observer.disconnect();\n",
       "        }}\n",
       "}});\n",
       "\n",
       "// Listen for the removal of the full notebook cells\n",
       "var notebookContainer = gd.closest('#notebook-container');\n",
       "if (notebookContainer) {{\n",
       "    x.observe(notebookContainer, {childList: true});\n",
       "}}\n",
       "\n",
       "// Listen for the clearing of the current output cell\n",
       "var outputEl = gd.closest('.output');\n",
       "if (outputEl) {{\n",
       "    x.observe(outputEl, {childList: true});\n",
       "}}\n",
       "\n",
       "                        })                };                });            </script>        </div>"
      ]
     },
     "metadata": {},
     "output_type": "display_data"
    }
   ],
   "source": [
    "# Display the figure\n",
    "fig.show()"
   ]
  },
  {
   "cell_type": "code",
   "execution_count": 17,
   "id": "f08e358e",
   "metadata": {},
   "outputs": [
    {
     "data": {
      "text/plain": [
       "5-10    944\n",
       "2-5     833\n",
       "3-8     690\n",
       "3-5     589\n",
       "4-9     582\n",
       "2-7     537\n",
       "3-6     504\n",
       "5-8     495\n",
       "3-7     454\n",
       "4-8     445\n",
       "Name: Job Experience, dtype: int64"
      ]
     },
     "execution_count": 17,
     "metadata": {},
     "output_type": "execute_result"
    }
   ],
   "source": [
    "# top 10 values in 'Job Experience'\n",
    "data['Job Experience'].value_counts()[:10]"
   ]
  },
  {
   "cell_type": "code",
   "execution_count": 38,
   "id": "76d282aa",
   "metadata": {},
   "outputs": [
    {
     "data": {
      "text/plain": [
       "['12 May - 21 May',\n",
       " 'B.Tech/B.E.',\n",
       " '16 May - 22 May',\n",
       " '12 May - 21 May',\n",
       " '17 May - 26 May']"
      ]
     },
     "execution_count": 38,
     "metadata": {},
     "output_type": "execute_result"
    }
   ],
   "source": [
    "# outliers in 'Job Experience' column\n",
    "lst=[]\n",
    "for i in df['Job Experience']:\n",
    "    c=False\n",
    "    for j in i:\n",
    "        if j.isalpha():\n",
    "            c=True\n",
    "    if c==True:\n",
    "        lst.append(i)\n",
    "        \n",
    "lst"
   ]
  },
  {
   "cell_type": "code",
   "execution_count": 39,
   "id": "f793eeed",
   "metadata": {},
   "outputs": [],
   "source": [
    "# For removing outliers\n",
    "for j in lst:\n",
    "    df=df[df['Job Experience'] != j]"
   ]
  },
  {
   "cell_type": "code",
   "execution_count": 40,
   "id": "ba41697c",
   "metadata": {},
   "outputs": [],
   "source": [
    "def MinExp(txt):\n",
    "    num = int(txt.split('-')[0])\n",
    "    return num\n",
    "\n",
    "def MaxExp(txt):\n",
    "    num = int(txt.split('-')[1])\n",
    "    return num"
   ]
  },
  {
   "cell_type": "code",
   "execution_count": 41,
   "id": "2eca01a2",
   "metadata": {},
   "outputs": [],
   "source": [
    "# new features\n",
    "df['Min. Exp.'] = df['Job Experience'].apply(MinExp)\n",
    "df['Max. Exp.'] = df['Job Experience'].apply(MaxExp)"
   ]
  },
  {
   "cell_type": "code",
   "execution_count": 42,
   "id": "ed0f9126",
   "metadata": {},
   "outputs": [
    {
     "data": {
      "text/html": [
       "<div>\n",
       "<style scoped>\n",
       "    .dataframe tbody tr th:only-of-type {\n",
       "        vertical-align: middle;\n",
       "    }\n",
       "\n",
       "    .dataframe tbody tr th {\n",
       "        vertical-align: top;\n",
       "    }\n",
       "\n",
       "    .dataframe thead th {\n",
       "        text-align: right;\n",
       "    }\n",
       "</style>\n",
       "<table border=\"1\" class=\"dataframe\">\n",
       "  <thead>\n",
       "    <tr style=\"text-align: right;\">\n",
       "      <th></th>\n",
       "      <th>Jobs</th>\n",
       "      <th>Average Min. Exp</th>\n",
       "    </tr>\n",
       "  </thead>\n",
       "  <tbody>\n",
       "    <tr>\n",
       "      <th>3</th>\n",
       "      <td>Senior Technical Lead (Data Engineer)</td>\n",
       "      <td>4.99</td>\n",
       "    </tr>\n",
       "    <tr>\n",
       "      <th>5</th>\n",
       "      <td>Senior Data Engineer</td>\n",
       "      <td>4.65</td>\n",
       "    </tr>\n",
       "    <tr>\n",
       "      <th>6</th>\n",
       "      <td>Senior Data Scientist</td>\n",
       "      <td>4.65</td>\n",
       "    </tr>\n",
       "    <tr>\n",
       "      <th>7</th>\n",
       "      <td>Azure Data Engineer</td>\n",
       "      <td>4.12</td>\n",
       "    </tr>\n",
       "    <tr>\n",
       "      <th>8</th>\n",
       "      <td>Data Engineer: Data Integration</td>\n",
       "      <td>3.97</td>\n",
       "    </tr>\n",
       "    <tr>\n",
       "      <th>9</th>\n",
       "      <td>Big Data Engineer</td>\n",
       "      <td>3.62</td>\n",
       "    </tr>\n",
       "    <tr>\n",
       "      <th>0</th>\n",
       "      <td>Data Engineer</td>\n",
       "      <td>3.53</td>\n",
       "    </tr>\n",
       "    <tr>\n",
       "      <th>1</th>\n",
       "      <td>Data Scientist</td>\n",
       "      <td>3.43</td>\n",
       "    </tr>\n",
       "    <tr>\n",
       "      <th>4</th>\n",
       "      <td>Business Analyst</td>\n",
       "      <td>2.64</td>\n",
       "    </tr>\n",
       "    <tr>\n",
       "      <th>2</th>\n",
       "      <td>Data Analyst</td>\n",
       "      <td>2.55</td>\n",
       "    </tr>\n",
       "  </tbody>\n",
       "</table>\n",
       "</div>"
      ],
      "text/plain": [
       "                                    Jobs  Average Min. Exp\n",
       "3  Senior Technical Lead (Data Engineer)              4.99\n",
       "5                   Senior Data Engineer              4.65\n",
       "6                  Senior Data Scientist              4.65\n",
       "7                    Azure Data Engineer              4.12\n",
       "8        Data Engineer: Data Integration              3.97\n",
       "9                      Big Data Engineer              3.62\n",
       "0                          Data Engineer              3.53\n",
       "1                         Data Scientist              3.43\n",
       "4                       Business Analyst              2.64\n",
       "2                           Data Analyst              2.55"
      ]
     },
     "execution_count": 42,
     "metadata": {},
     "output_type": "execute_result"
    }
   ],
   "source": [
    "# Average Minimum Job Experience Required For Top Jobs\n",
    "job_list = df['Job_Role'].value_counts().iloc[:10].index.tolist()  \n",
    "exp = [round(df[df['Job_Role']==job]['Min. Exp.'].mean(),2) for job in job_list]\n",
    "\n",
    "df_job=pd.DataFrame({'Jobs':job_list, 'Average Min. Exp':exp})\n",
    "df_job=df_job.sort_values('Average Min. Exp', ascending=False)\n",
    "df_job"
   ]
  },
  {
   "cell_type": "code",
   "execution_count": 50,
   "id": "a4777ec1",
   "metadata": {},
   "outputs": [
    {
     "data": {
      "text/html": [
       "<div>\n",
       "<style scoped>\n",
       "    .dataframe tbody tr th:only-of-type {\n",
       "        vertical-align: middle;\n",
       "    }\n",
       "\n",
       "    .dataframe tbody tr th {\n",
       "        vertical-align: top;\n",
       "    }\n",
       "\n",
       "    .dataframe thead th {\n",
       "        text-align: right;\n",
       "    }\n",
       "</style>\n",
       "<table border=\"1\" class=\"dataframe\">\n",
       "  <thead>\n",
       "    <tr style=\"text-align: right;\">\n",
       "      <th></th>\n",
       "      <th>Jobs</th>\n",
       "      <th>Average Max. Exp</th>\n",
       "    </tr>\n",
       "  </thead>\n",
       "  <tbody>\n",
       "    <tr>\n",
       "      <th>3</th>\n",
       "      <td>Senior Technical Lead (Data Engineer)</td>\n",
       "      <td>8.92</td>\n",
       "    </tr>\n",
       "    <tr>\n",
       "      <th>6</th>\n",
       "      <td>Senior Data Scientist</td>\n",
       "      <td>8.54</td>\n",
       "    </tr>\n",
       "    <tr>\n",
       "      <th>5</th>\n",
       "      <td>Senior Data Engineer</td>\n",
       "      <td>8.49</td>\n",
       "    </tr>\n",
       "    <tr>\n",
       "      <th>7</th>\n",
       "      <td>Azure Data Engineer</td>\n",
       "      <td>8.28</td>\n",
       "    </tr>\n",
       "    <tr>\n",
       "      <th>9</th>\n",
       "      <td>Big Data Engineer</td>\n",
       "      <td>7.55</td>\n",
       "    </tr>\n",
       "    <tr>\n",
       "      <th>0</th>\n",
       "      <td>Data Engineer</td>\n",
       "      <td>7.20</td>\n",
       "    </tr>\n",
       "    <tr>\n",
       "      <th>1</th>\n",
       "      <td>Data Scientist</td>\n",
       "      <td>7.19</td>\n",
       "    </tr>\n",
       "    <tr>\n",
       "      <th>8</th>\n",
       "      <td>Data Engineer: Data Integration</td>\n",
       "      <td>6.96</td>\n",
       "    </tr>\n",
       "    <tr>\n",
       "      <th>4</th>\n",
       "      <td>Business Analyst</td>\n",
       "      <td>5.79</td>\n",
       "    </tr>\n",
       "    <tr>\n",
       "      <th>2</th>\n",
       "      <td>Data Analyst</td>\n",
       "      <td>5.64</td>\n",
       "    </tr>\n",
       "  </tbody>\n",
       "</table>\n",
       "</div>"
      ],
      "text/plain": [
       "                                    Jobs  Average Max. Exp\n",
       "3  Senior Technical Lead (Data Engineer)              8.92\n",
       "6                  Senior Data Scientist              8.54\n",
       "5                   Senior Data Engineer              8.49\n",
       "7                    Azure Data Engineer              8.28\n",
       "9                      Big Data Engineer              7.55\n",
       "0                          Data Engineer              7.20\n",
       "1                         Data Scientist              7.19\n",
       "8        Data Engineer: Data Integration              6.96\n",
       "4                       Business Analyst              5.79\n",
       "2                           Data Analyst              5.64"
      ]
     },
     "execution_count": 50,
     "metadata": {},
     "output_type": "execute_result"
    }
   ],
   "source": [
    "# Average Maximum Job Experience Required For Top Jobs\n",
    "job_list = df['Job_Role'].value_counts().iloc[:10].index.tolist()  \n",
    "exp = [round(df[df['Job_Role']==job]['Max. Exp.'].mean(),2) for job in job_list]\n",
    "\n",
    "df_job=pd.DataFrame({'Jobs':job_list, 'Average Max. Exp':exp})\n",
    "df_job=df_job.sort_values('Average Max. Exp', ascending=False)\n",
    "df_job"
   ]
  }
 ],
 "metadata": {
  "kernelspec": {
   "display_name": "Python 3 (ipykernel)",
   "language": "python",
   "name": "python3"
  },
  "language_info": {
   "codemirror_mode": {
    "name": "ipython",
    "version": 3
   },
   "file_extension": ".py",
   "mimetype": "text/x-python",
   "name": "python",
   "nbconvert_exporter": "python",
   "pygments_lexer": "ipython3",
   "version": "3.9.12"
  }
 },
 "nbformat": 4,
 "nbformat_minor": 5
}
